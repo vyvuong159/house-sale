{
 "cells": [
  {
   "cell_type": "markdown",
   "metadata": {},
   "source": [
    "# Apartment sales and their influencing factors\n",
    "\n",
    "This project is to explore the market values of real estate properties in Russia and their influencing factors. \n",
    "\n",
    "The data is retrieved from a real estate agency, which is an archive of sale ads for realty in St. Petersburg, Russia and the neigboring areas collected over the past few years. This project is the foundation for an automated system that is capable of detecting anomalies and fraudulent activities. \n",
    "\n",
    "There are two different types of data available for every apartment for sale. The first type is a user’s input. The second type is inputted automatically based upon the map data, for example, the distance from the city center, airport, the nearest park or body of water. "
   ]
  },
  {
   "cell_type": "markdown",
   "metadata": {},
   "source": [
    "### Step 1. Open the data file and study the general information. "
   ]
  },
  {
   "cell_type": "code",
   "execution_count": 1,
   "metadata": {},
   "outputs": [
    {
     "data": {
      "text/html": [
       "        <script type=\"text/javascript\">\n",
       "        window.PlotlyConfig = {MathJaxConfig: 'local'};\n",
       "        if (window.MathJax) {MathJax.Hub.Config({SVG: {font: \"STIX-Web\"}});}\n",
       "        if (typeof require !== 'undefined') {\n",
       "        require.undef(\"plotly\");\n",
       "        requirejs.config({\n",
       "            paths: {\n",
       "                'plotly': ['https://cdn.plot.ly/plotly-latest.min']\n",
       "            }\n",
       "        });\n",
       "        require(['plotly'], function(Plotly) {\n",
       "            window._Plotly = Plotly;\n",
       "        });\n",
       "        }\n",
       "        </script>\n",
       "        "
      ]
     },
     "metadata": {},
     "output_type": "display_data"
    }
   ],
   "source": [
    "import numpy as np\n",
    "import pandas as pd\n",
    "import matplotlib.pyplot as plt\n",
    "from datetime import timedelta\n",
    "import seaborn as sns\n",
    "from plotly.offline import init_notebook_mode, iplot\n",
    "import plotly.figure_factory as ff\n",
    "import plotly.graph_objs as go\n",
    "import plotly\n",
    "from plotly import tools\n",
    "init_notebook_mode(connected=True)\n",
    "pd.set_option('display.max_columns', 100)"
   ]
  },
  {
   "cell_type": "code",
   "execution_count": 2,
   "metadata": {},
   "outputs": [
    {
     "name": "stdout",
     "output_type": "stream",
     "text": [
      "           date_posted  days_listed  last_price  bedrooms  kitchen_area  \\\n",
      "0  2019-03-07T00:00:00          NaN    260000.0         3          25.0   \n",
      "1  2018-12-04T00:00:00         81.0     67000.0         1          11.0   \n",
      "2  2015-08-20T00:00:00        558.0    103920.0         2           8.3   \n",
      "3  2015-07-24T00:00:00        424.0   1298000.0         3           NaN   \n",
      "4  2018-06-19T00:00:00        121.0    200000.0         2          41.0   \n",
      "\n",
      "   living_area  total_area  balconies  ceiling_height  floors_total  floor  \\\n",
      "0         51.0       108.0        NaN            2.70          16.0      8   \n",
      "1         18.6        40.4        2.0             NaN          11.0      1   \n",
      "2         34.3        56.0        0.0             NaN           5.0      4   \n",
      "3          NaN       159.0        0.0             NaN          14.0      9   \n",
      "4         32.0       100.0        NaN            3.03          14.0     13   \n",
      "\n",
      "   total_images bike_parking  is_studio  is_open_plan     locality_name  \\\n",
      "0            20          NaN      False         False  Saint Petersburg   \n",
      "1             7          NaN      False         False  Shushary village   \n",
      "2            10          NaN      False         False  Saint Petersburg   \n",
      "3             0          NaN      False         False  Saint Petersburg   \n",
      "4             2          NaN      False         False  Saint Petersburg   \n",
      "\n",
      "   airport_dist  city_center_dist  park_dist  parks_within_3000  pond_dist  \\\n",
      "0       18863.0           16028.0      482.0                1.0      755.0   \n",
      "1       12817.0           18603.0        NaN                0.0        NaN   \n",
      "2       21741.0           13933.0       90.0                1.0      574.0   \n",
      "3       28098.0            6800.0       84.0                2.0      234.0   \n",
      "4       31856.0            8098.0      112.0                2.0       48.0   \n",
      "\n",
      "   ponds_within_3000  \n",
      "0                2.0  \n",
      "1                0.0  \n",
      "2                2.0  \n",
      "3                3.0  \n",
      "4                1.0  \n",
      "<class 'pandas.core.frame.DataFrame'>\n",
      "RangeIndex: 23699 entries, 0 to 23698\n",
      "Data columns (total 22 columns):\n",
      "date_posted          23699 non-null object\n",
      "days_listed          20518 non-null float64\n",
      "last_price           23699 non-null float64\n",
      "bedrooms             23699 non-null int64\n",
      "kitchen_area         21421 non-null float64\n",
      "living_area          21796 non-null float64\n",
      "total_area           23699 non-null float64\n",
      "balconies            12180 non-null float64\n",
      "ceiling_height       14504 non-null float64\n",
      "floors_total         23613 non-null float64\n",
      "floor                23699 non-null int64\n",
      "total_images         23699 non-null int64\n",
      "bike_parking         2775 non-null object\n",
      "is_studio            23699 non-null bool\n",
      "is_open_plan         23699 non-null bool\n",
      "locality_name        23650 non-null object\n",
      "airport_dist         18157 non-null float64\n",
      "city_center_dist     18180 non-null float64\n",
      "park_dist            8079 non-null float64\n",
      "parks_within_3000    18181 non-null float64\n",
      "pond_dist            9110 non-null float64\n",
      "ponds_within_3000    18181 non-null float64\n",
      "dtypes: bool(2), float64(14), int64(3), object(3)\n",
      "memory usage: 3.7+ MB\n"
     ]
    },
    {
     "data": {
      "text/html": [
       "<div>\n",
       "<style scoped>\n",
       "    .dataframe tbody tr th:only-of-type {\n",
       "        vertical-align: middle;\n",
       "    }\n",
       "\n",
       "    .dataframe tbody tr th {\n",
       "        vertical-align: top;\n",
       "    }\n",
       "\n",
       "    .dataframe thead th {\n",
       "        text-align: right;\n",
       "    }\n",
       "</style>\n",
       "<table border=\"1\" class=\"dataframe\">\n",
       "  <thead>\n",
       "    <tr style=\"text-align: right;\">\n",
       "      <th></th>\n",
       "      <th>count</th>\n",
       "      <th>mean</th>\n",
       "      <th>std</th>\n",
       "      <th>min</th>\n",
       "      <th>25%</th>\n",
       "      <th>50%</th>\n",
       "      <th>75%</th>\n",
       "      <th>max</th>\n",
       "    </tr>\n",
       "  </thead>\n",
       "  <tbody>\n",
       "    <tr>\n",
       "      <td>days_listed</td>\n",
       "      <td>20518.0</td>\n",
       "      <td>180.888634</td>\n",
       "      <td>219.727988</td>\n",
       "      <td>1.0</td>\n",
       "      <td>45.00</td>\n",
       "      <td>95.00</td>\n",
       "      <td>232.0</td>\n",
       "      <td>1580.0</td>\n",
       "    </tr>\n",
       "    <tr>\n",
       "      <td>last_price</td>\n",
       "      <td>23699.0</td>\n",
       "      <td>130830.975611</td>\n",
       "      <td>217740.265684</td>\n",
       "      <td>244.0</td>\n",
       "      <td>68000.00</td>\n",
       "      <td>93000.00</td>\n",
       "      <td>136000.0</td>\n",
       "      <td>15260000.0</td>\n",
       "    </tr>\n",
       "    <tr>\n",
       "      <td>bedrooms</td>\n",
       "      <td>23699.0</td>\n",
       "      <td>2.070636</td>\n",
       "      <td>1.078405</td>\n",
       "      <td>0.0</td>\n",
       "      <td>1.00</td>\n",
       "      <td>2.00</td>\n",
       "      <td>3.0</td>\n",
       "      <td>19.0</td>\n",
       "    </tr>\n",
       "    <tr>\n",
       "      <td>kitchen_area</td>\n",
       "      <td>21421.0</td>\n",
       "      <td>10.569807</td>\n",
       "      <td>5.905438</td>\n",
       "      <td>1.3</td>\n",
       "      <td>7.00</td>\n",
       "      <td>9.10</td>\n",
       "      <td>12.0</td>\n",
       "      <td>112.0</td>\n",
       "    </tr>\n",
       "    <tr>\n",
       "      <td>living_area</td>\n",
       "      <td>21796.0</td>\n",
       "      <td>34.457852</td>\n",
       "      <td>22.030445</td>\n",
       "      <td>2.0</td>\n",
       "      <td>18.60</td>\n",
       "      <td>30.00</td>\n",
       "      <td>42.3</td>\n",
       "      <td>409.7</td>\n",
       "    </tr>\n",
       "    <tr>\n",
       "      <td>total_area</td>\n",
       "      <td>23699.0</td>\n",
       "      <td>60.348651</td>\n",
       "      <td>35.654083</td>\n",
       "      <td>12.0</td>\n",
       "      <td>40.00</td>\n",
       "      <td>52.00</td>\n",
       "      <td>69.9</td>\n",
       "      <td>900.0</td>\n",
       "    </tr>\n",
       "    <tr>\n",
       "      <td>balconies</td>\n",
       "      <td>12180.0</td>\n",
       "      <td>1.150082</td>\n",
       "      <td>1.071300</td>\n",
       "      <td>0.0</td>\n",
       "      <td>0.00</td>\n",
       "      <td>1.00</td>\n",
       "      <td>2.0</td>\n",
       "      <td>5.0</td>\n",
       "    </tr>\n",
       "    <tr>\n",
       "      <td>ceiling_height</td>\n",
       "      <td>14504.0</td>\n",
       "      <td>2.771499</td>\n",
       "      <td>1.261056</td>\n",
       "      <td>1.0</td>\n",
       "      <td>2.52</td>\n",
       "      <td>2.65</td>\n",
       "      <td>2.8</td>\n",
       "      <td>100.0</td>\n",
       "    </tr>\n",
       "    <tr>\n",
       "      <td>floors_total</td>\n",
       "      <td>23613.0</td>\n",
       "      <td>10.673824</td>\n",
       "      <td>6.597173</td>\n",
       "      <td>1.0</td>\n",
       "      <td>5.00</td>\n",
       "      <td>9.00</td>\n",
       "      <td>16.0</td>\n",
       "      <td>60.0</td>\n",
       "    </tr>\n",
       "    <tr>\n",
       "      <td>floor</td>\n",
       "      <td>23699.0</td>\n",
       "      <td>5.892358</td>\n",
       "      <td>4.885249</td>\n",
       "      <td>1.0</td>\n",
       "      <td>2.00</td>\n",
       "      <td>4.00</td>\n",
       "      <td>8.0</td>\n",
       "      <td>33.0</td>\n",
       "    </tr>\n",
       "    <tr>\n",
       "      <td>total_images</td>\n",
       "      <td>23699.0</td>\n",
       "      <td>9.858475</td>\n",
       "      <td>5.682529</td>\n",
       "      <td>0.0</td>\n",
       "      <td>6.00</td>\n",
       "      <td>9.00</td>\n",
       "      <td>14.0</td>\n",
       "      <td>50.0</td>\n",
       "    </tr>\n",
       "    <tr>\n",
       "      <td>airport_dist</td>\n",
       "      <td>18157.0</td>\n",
       "      <td>28793.672193</td>\n",
       "      <td>12630.880622</td>\n",
       "      <td>0.0</td>\n",
       "      <td>18585.00</td>\n",
       "      <td>26726.00</td>\n",
       "      <td>37273.0</td>\n",
       "      <td>84869.0</td>\n",
       "    </tr>\n",
       "    <tr>\n",
       "      <td>city_center_dist</td>\n",
       "      <td>18180.0</td>\n",
       "      <td>14191.277833</td>\n",
       "      <td>8608.386210</td>\n",
       "      <td>181.0</td>\n",
       "      <td>9238.00</td>\n",
       "      <td>13098.50</td>\n",
       "      <td>16293.0</td>\n",
       "      <td>65968.0</td>\n",
       "    </tr>\n",
       "    <tr>\n",
       "      <td>park_dist</td>\n",
       "      <td>8079.0</td>\n",
       "      <td>490.804555</td>\n",
       "      <td>342.317995</td>\n",
       "      <td>1.0</td>\n",
       "      <td>288.00</td>\n",
       "      <td>455.00</td>\n",
       "      <td>612.0</td>\n",
       "      <td>3190.0</td>\n",
       "    </tr>\n",
       "    <tr>\n",
       "      <td>parks_within_3000</td>\n",
       "      <td>18181.0</td>\n",
       "      <td>0.611408</td>\n",
       "      <td>0.802074</td>\n",
       "      <td>0.0</td>\n",
       "      <td>0.00</td>\n",
       "      <td>0.00</td>\n",
       "      <td>1.0</td>\n",
       "      <td>3.0</td>\n",
       "    </tr>\n",
       "    <tr>\n",
       "      <td>pond_dist</td>\n",
       "      <td>9110.0</td>\n",
       "      <td>517.980900</td>\n",
       "      <td>277.720643</td>\n",
       "      <td>13.0</td>\n",
       "      <td>294.00</td>\n",
       "      <td>502.00</td>\n",
       "      <td>729.0</td>\n",
       "      <td>1344.0</td>\n",
       "    </tr>\n",
       "    <tr>\n",
       "      <td>ponds_within_3000</td>\n",
       "      <td>18181.0</td>\n",
       "      <td>0.770255</td>\n",
       "      <td>0.938346</td>\n",
       "      <td>0.0</td>\n",
       "      <td>0.00</td>\n",
       "      <td>1.00</td>\n",
       "      <td>1.0</td>\n",
       "      <td>3.0</td>\n",
       "    </tr>\n",
       "  </tbody>\n",
       "</table>\n",
       "</div>"
      ],
      "text/plain": [
       "                     count           mean            std    min       25%  \\\n",
       "days_listed        20518.0     180.888634     219.727988    1.0     45.00   \n",
       "last_price         23699.0  130830.975611  217740.265684  244.0  68000.00   \n",
       "bedrooms           23699.0       2.070636       1.078405    0.0      1.00   \n",
       "kitchen_area       21421.0      10.569807       5.905438    1.3      7.00   \n",
       "living_area        21796.0      34.457852      22.030445    2.0     18.60   \n",
       "total_area         23699.0      60.348651      35.654083   12.0     40.00   \n",
       "balconies          12180.0       1.150082       1.071300    0.0      0.00   \n",
       "ceiling_height     14504.0       2.771499       1.261056    1.0      2.52   \n",
       "floors_total       23613.0      10.673824       6.597173    1.0      5.00   \n",
       "floor              23699.0       5.892358       4.885249    1.0      2.00   \n",
       "total_images       23699.0       9.858475       5.682529    0.0      6.00   \n",
       "airport_dist       18157.0   28793.672193   12630.880622    0.0  18585.00   \n",
       "city_center_dist   18180.0   14191.277833    8608.386210  181.0   9238.00   \n",
       "park_dist           8079.0     490.804555     342.317995    1.0    288.00   \n",
       "parks_within_3000  18181.0       0.611408       0.802074    0.0      0.00   \n",
       "pond_dist           9110.0     517.980900     277.720643   13.0    294.00   \n",
       "ponds_within_3000  18181.0       0.770255       0.938346    0.0      0.00   \n",
       "\n",
       "                        50%       75%         max  \n",
       "days_listed           95.00     232.0      1580.0  \n",
       "last_price         93000.00  136000.0  15260000.0  \n",
       "bedrooms               2.00       3.0        19.0  \n",
       "kitchen_area           9.10      12.0       112.0  \n",
       "living_area           30.00      42.3       409.7  \n",
       "total_area            52.00      69.9       900.0  \n",
       "balconies              1.00       2.0         5.0  \n",
       "ceiling_height         2.65       2.8       100.0  \n",
       "floors_total           9.00      16.0        60.0  \n",
       "floor                  4.00       8.0        33.0  \n",
       "total_images           9.00      14.0        50.0  \n",
       "airport_dist       26726.00   37273.0     84869.0  \n",
       "city_center_dist   13098.50   16293.0     65968.0  \n",
       "park_dist            455.00     612.0      3190.0  \n",
       "parks_within_3000      0.00       1.0         3.0  \n",
       "pond_dist            502.00     729.0      1344.0  \n",
       "ponds_within_3000      1.00       1.0         3.0  "
      ]
     },
     "execution_count": 2,
     "metadata": {},
     "output_type": "execute_result"
    }
   ],
   "source": [
    "import pandas as pd\n",
    "df = pd.read_csv('/datasets/real_estate_data_us.csv', delimiter='\\t')\n",
    "print(df.head())\n",
    "df.info()\n",
    "df.describe().T"
   ]
  },
  {
   "cell_type": "code",
   "execution_count": 3,
   "metadata": {},
   "outputs": [
    {
     "data": {
      "application/vnd.plotly.v1+json": {
       "config": {
        "linkText": "Export to plot.ly",
        "plotlyServerURL": "https://plot.ly",
        "showLink": false
       },
       "data": [
        {
         "colorscale": [
          [
           0,
           "#00083e"
          ],
          [
           0.5,
           "#ededee"
          ],
          [
           1,
           "#ffffff"
          ]
         ],
         "hoverinfo": "none",
         "opacity": 0.75,
         "showscale": false,
         "type": "heatmap",
         "z": [
          [
           0,
           0,
           0,
           0,
           0
          ],
          [
           0,
           0.5,
           0.5,
           0.5,
           0.5
          ],
          [
           0,
           1,
           1,
           1,
           1
          ],
          [
           0,
           0.5,
           0.5,
           0.5,
           0.5
          ]
         ]
        }
       ],
       "layout": {
        "annotations": [
         {
          "align": "left",
          "font": {
           "color": "#ffffff"
          },
          "showarrow": false,
          "text": "<b>Categorical columns</b>",
          "x": -0.45,
          "xanchor": "left",
          "xref": "x",
          "y": 0,
          "yref": "y"
         },
         {
          "align": "left",
          "font": {
           "color": "#ffffff"
          },
          "showarrow": false,
          "text": "<b>count</b>",
          "x": 0.55,
          "xanchor": "left",
          "xref": "x",
          "y": 0,
          "yref": "y"
         },
         {
          "align": "left",
          "font": {
           "color": "#ffffff"
          },
          "showarrow": false,
          "text": "<b>unique</b>",
          "x": 1.55,
          "xanchor": "left",
          "xref": "x",
          "y": 0,
          "yref": "y"
         },
         {
          "align": "left",
          "font": {
           "color": "#ffffff"
          },
          "showarrow": false,
          "text": "<b>top</b>",
          "x": 2.55,
          "xanchor": "left",
          "xref": "x",
          "y": 0,
          "yref": "y"
         },
         {
          "align": "left",
          "font": {
           "color": "#ffffff"
          },
          "showarrow": false,
          "text": "<b>freq</b>",
          "x": 3.55,
          "xanchor": "left",
          "xref": "x",
          "y": 0,
          "yref": "y"
         },
         {
          "align": "left",
          "font": {
           "color": "#ffffff"
          },
          "showarrow": false,
          "text": "<b>date_posted</b>",
          "x": -0.45,
          "xanchor": "left",
          "xref": "x",
          "y": 1,
          "yref": "y"
         },
         {
          "align": "left",
          "font": {
           "color": "#000000"
          },
          "showarrow": false,
          "text": "23699",
          "x": 0.55,
          "xanchor": "left",
          "xref": "x",
          "y": 1,
          "yref": "y"
         },
         {
          "align": "left",
          "font": {
           "color": "#000000"
          },
          "showarrow": false,
          "text": "1491",
          "x": 1.55,
          "xanchor": "left",
          "xref": "x",
          "y": 1,
          "yref": "y"
         },
         {
          "align": "left",
          "font": {
           "color": "#000000"
          },
          "showarrow": false,
          "text": "2018-02-01T00:00:00",
          "x": 2.55,
          "xanchor": "left",
          "xref": "x",
          "y": 1,
          "yref": "y"
         },
         {
          "align": "left",
          "font": {
           "color": "#000000"
          },
          "showarrow": false,
          "text": "368",
          "x": 3.55,
          "xanchor": "left",
          "xref": "x",
          "y": 1,
          "yref": "y"
         },
         {
          "align": "left",
          "font": {
           "color": "#ffffff"
          },
          "showarrow": false,
          "text": "<b>bike_parking</b>",
          "x": -0.45,
          "xanchor": "left",
          "xref": "x",
          "y": 2,
          "yref": "y"
         },
         {
          "align": "left",
          "font": {
           "color": "#000000"
          },
          "showarrow": false,
          "text": "2775",
          "x": 0.55,
          "xanchor": "left",
          "xref": "x",
          "y": 2,
          "yref": "y"
         },
         {
          "align": "left",
          "font": {
           "color": "#000000"
          },
          "showarrow": false,
          "text": "2",
          "x": 1.55,
          "xanchor": "left",
          "xref": "x",
          "y": 2,
          "yref": "y"
         },
         {
          "align": "left",
          "font": {
           "color": "#000000"
          },
          "showarrow": false,
          "text": "False",
          "x": 2.55,
          "xanchor": "left",
          "xref": "x",
          "y": 2,
          "yref": "y"
         },
         {
          "align": "left",
          "font": {
           "color": "#000000"
          },
          "showarrow": false,
          "text": "2725",
          "x": 3.55,
          "xanchor": "left",
          "xref": "x",
          "y": 2,
          "yref": "y"
         },
         {
          "align": "left",
          "font": {
           "color": "#ffffff"
          },
          "showarrow": false,
          "text": "<b>locality_name</b>",
          "x": -0.45,
          "xanchor": "left",
          "xref": "x",
          "y": 3,
          "yref": "y"
         },
         {
          "align": "left",
          "font": {
           "color": "#000000"
          },
          "showarrow": false,
          "text": "23650",
          "x": 0.55,
          "xanchor": "left",
          "xref": "x",
          "y": 3,
          "yref": "y"
         },
         {
          "align": "left",
          "font": {
           "color": "#000000"
          },
          "showarrow": false,
          "text": "326",
          "x": 1.55,
          "xanchor": "left",
          "xref": "x",
          "y": 3,
          "yref": "y"
         },
         {
          "align": "left",
          "font": {
           "color": "#000000"
          },
          "showarrow": false,
          "text": "Saint Petersburg",
          "x": 2.55,
          "xanchor": "left",
          "xref": "x",
          "y": 3,
          "yref": "y"
         },
         {
          "align": "left",
          "font": {
           "color": "#000000"
          },
          "showarrow": false,
          "text": "15721",
          "x": 3.55,
          "xanchor": "left",
          "xref": "x",
          "y": 3,
          "yref": "y"
         }
        ],
        "height": 170,
        "margin": {
         "b": 0,
         "l": 0,
         "r": 0,
         "t": 0
        },
        "template": {
         "data": {
          "bar": [
           {
            "error_x": {
             "color": "#2a3f5f"
            },
            "error_y": {
             "color": "#2a3f5f"
            },
            "marker": {
             "line": {
              "color": "#E5ECF6",
              "width": 0.5
             }
            },
            "type": "bar"
           }
          ],
          "barpolar": [
           {
            "marker": {
             "line": {
              "color": "#E5ECF6",
              "width": 0.5
             }
            },
            "type": "barpolar"
           }
          ],
          "carpet": [
           {
            "aaxis": {
             "endlinecolor": "#2a3f5f",
             "gridcolor": "white",
             "linecolor": "white",
             "minorgridcolor": "white",
             "startlinecolor": "#2a3f5f"
            },
            "baxis": {
             "endlinecolor": "#2a3f5f",
             "gridcolor": "white",
             "linecolor": "white",
             "minorgridcolor": "white",
             "startlinecolor": "#2a3f5f"
            },
            "type": "carpet"
           }
          ],
          "choropleth": [
           {
            "colorbar": {
             "outlinewidth": 0,
             "ticks": ""
            },
            "type": "choropleth"
           }
          ],
          "contour": [
           {
            "colorbar": {
             "outlinewidth": 0,
             "ticks": ""
            },
            "colorscale": [
             [
              0,
              "#0d0887"
             ],
             [
              0.1111111111111111,
              "#46039f"
             ],
             [
              0.2222222222222222,
              "#7201a8"
             ],
             [
              0.3333333333333333,
              "#9c179e"
             ],
             [
              0.4444444444444444,
              "#bd3786"
             ],
             [
              0.5555555555555556,
              "#d8576b"
             ],
             [
              0.6666666666666666,
              "#ed7953"
             ],
             [
              0.7777777777777778,
              "#fb9f3a"
             ],
             [
              0.8888888888888888,
              "#fdca26"
             ],
             [
              1,
              "#f0f921"
             ]
            ],
            "type": "contour"
           }
          ],
          "contourcarpet": [
           {
            "colorbar": {
             "outlinewidth": 0,
             "ticks": ""
            },
            "type": "contourcarpet"
           }
          ],
          "heatmap": [
           {
            "colorbar": {
             "outlinewidth": 0,
             "ticks": ""
            },
            "colorscale": [
             [
              0,
              "#0d0887"
             ],
             [
              0.1111111111111111,
              "#46039f"
             ],
             [
              0.2222222222222222,
              "#7201a8"
             ],
             [
              0.3333333333333333,
              "#9c179e"
             ],
             [
              0.4444444444444444,
              "#bd3786"
             ],
             [
              0.5555555555555556,
              "#d8576b"
             ],
             [
              0.6666666666666666,
              "#ed7953"
             ],
             [
              0.7777777777777778,
              "#fb9f3a"
             ],
             [
              0.8888888888888888,
              "#fdca26"
             ],
             [
              1,
              "#f0f921"
             ]
            ],
            "type": "heatmap"
           }
          ],
          "heatmapgl": [
           {
            "colorbar": {
             "outlinewidth": 0,
             "ticks": ""
            },
            "colorscale": [
             [
              0,
              "#0d0887"
             ],
             [
              0.1111111111111111,
              "#46039f"
             ],
             [
              0.2222222222222222,
              "#7201a8"
             ],
             [
              0.3333333333333333,
              "#9c179e"
             ],
             [
              0.4444444444444444,
              "#bd3786"
             ],
             [
              0.5555555555555556,
              "#d8576b"
             ],
             [
              0.6666666666666666,
              "#ed7953"
             ],
             [
              0.7777777777777778,
              "#fb9f3a"
             ],
             [
              0.8888888888888888,
              "#fdca26"
             ],
             [
              1,
              "#f0f921"
             ]
            ],
            "type": "heatmapgl"
           }
          ],
          "histogram": [
           {
            "marker": {
             "colorbar": {
              "outlinewidth": 0,
              "ticks": ""
             }
            },
            "type": "histogram"
           }
          ],
          "histogram2d": [
           {
            "colorbar": {
             "outlinewidth": 0,
             "ticks": ""
            },
            "colorscale": [
             [
              0,
              "#0d0887"
             ],
             [
              0.1111111111111111,
              "#46039f"
             ],
             [
              0.2222222222222222,
              "#7201a8"
             ],
             [
              0.3333333333333333,
              "#9c179e"
             ],
             [
              0.4444444444444444,
              "#bd3786"
             ],
             [
              0.5555555555555556,
              "#d8576b"
             ],
             [
              0.6666666666666666,
              "#ed7953"
             ],
             [
              0.7777777777777778,
              "#fb9f3a"
             ],
             [
              0.8888888888888888,
              "#fdca26"
             ],
             [
              1,
              "#f0f921"
             ]
            ],
            "type": "histogram2d"
           }
          ],
          "histogram2dcontour": [
           {
            "colorbar": {
             "outlinewidth": 0,
             "ticks": ""
            },
            "colorscale": [
             [
              0,
              "#0d0887"
             ],
             [
              0.1111111111111111,
              "#46039f"
             ],
             [
              0.2222222222222222,
              "#7201a8"
             ],
             [
              0.3333333333333333,
              "#9c179e"
             ],
             [
              0.4444444444444444,
              "#bd3786"
             ],
             [
              0.5555555555555556,
              "#d8576b"
             ],
             [
              0.6666666666666666,
              "#ed7953"
             ],
             [
              0.7777777777777778,
              "#fb9f3a"
             ],
             [
              0.8888888888888888,
              "#fdca26"
             ],
             [
              1,
              "#f0f921"
             ]
            ],
            "type": "histogram2dcontour"
           }
          ],
          "mesh3d": [
           {
            "colorbar": {
             "outlinewidth": 0,
             "ticks": ""
            },
            "type": "mesh3d"
           }
          ],
          "parcoords": [
           {
            "line": {
             "colorbar": {
              "outlinewidth": 0,
              "ticks": ""
             }
            },
            "type": "parcoords"
           }
          ],
          "scatter": [
           {
            "marker": {
             "colorbar": {
              "outlinewidth": 0,
              "ticks": ""
             }
            },
            "type": "scatter"
           }
          ],
          "scatter3d": [
           {
            "line": {
             "colorbar": {
              "outlinewidth": 0,
              "ticks": ""
             }
            },
            "marker": {
             "colorbar": {
              "outlinewidth": 0,
              "ticks": ""
             }
            },
            "type": "scatter3d"
           }
          ],
          "scattercarpet": [
           {
            "marker": {
             "colorbar": {
              "outlinewidth": 0,
              "ticks": ""
             }
            },
            "type": "scattercarpet"
           }
          ],
          "scattergeo": [
           {
            "marker": {
             "colorbar": {
              "outlinewidth": 0,
              "ticks": ""
             }
            },
            "type": "scattergeo"
           }
          ],
          "scattergl": [
           {
            "marker": {
             "colorbar": {
              "outlinewidth": 0,
              "ticks": ""
             }
            },
            "type": "scattergl"
           }
          ],
          "scattermapbox": [
           {
            "marker": {
             "colorbar": {
              "outlinewidth": 0,
              "ticks": ""
             }
            },
            "type": "scattermapbox"
           }
          ],
          "scatterpolar": [
           {
            "marker": {
             "colorbar": {
              "outlinewidth": 0,
              "ticks": ""
             }
            },
            "type": "scatterpolar"
           }
          ],
          "scatterpolargl": [
           {
            "marker": {
             "colorbar": {
              "outlinewidth": 0,
              "ticks": ""
             }
            },
            "type": "scatterpolargl"
           }
          ],
          "scatterternary": [
           {
            "marker": {
             "colorbar": {
              "outlinewidth": 0,
              "ticks": ""
             }
            },
            "type": "scatterternary"
           }
          ],
          "surface": [
           {
            "colorbar": {
             "outlinewidth": 0,
             "ticks": ""
            },
            "colorscale": [
             [
              0,
              "#0d0887"
             ],
             [
              0.1111111111111111,
              "#46039f"
             ],
             [
              0.2222222222222222,
              "#7201a8"
             ],
             [
              0.3333333333333333,
              "#9c179e"
             ],
             [
              0.4444444444444444,
              "#bd3786"
             ],
             [
              0.5555555555555556,
              "#d8576b"
             ],
             [
              0.6666666666666666,
              "#ed7953"
             ],
             [
              0.7777777777777778,
              "#fb9f3a"
             ],
             [
              0.8888888888888888,
              "#fdca26"
             ],
             [
              1,
              "#f0f921"
             ]
            ],
            "type": "surface"
           }
          ],
          "table": [
           {
            "cells": {
             "fill": {
              "color": "#EBF0F8"
             },
             "line": {
              "color": "white"
             }
            },
            "header": {
             "fill": {
              "color": "#C8D4E3"
             },
             "line": {
              "color": "white"
             }
            },
            "type": "table"
           }
          ]
         },
         "layout": {
          "annotationdefaults": {
           "arrowcolor": "#2a3f5f",
           "arrowhead": 0,
           "arrowwidth": 1
          },
          "colorscale": {
           "diverging": [
            [
             0,
             "#8e0152"
            ],
            [
             0.1,
             "#c51b7d"
            ],
            [
             0.2,
             "#de77ae"
            ],
            [
             0.3,
             "#f1b6da"
            ],
            [
             0.4,
             "#fde0ef"
            ],
            [
             0.5,
             "#f7f7f7"
            ],
            [
             0.6,
             "#e6f5d0"
            ],
            [
             0.7,
             "#b8e186"
            ],
            [
             0.8,
             "#7fbc41"
            ],
            [
             0.9,
             "#4d9221"
            ],
            [
             1,
             "#276419"
            ]
           ],
           "sequential": [
            [
             0,
             "#0d0887"
            ],
            [
             0.1111111111111111,
             "#46039f"
            ],
            [
             0.2222222222222222,
             "#7201a8"
            ],
            [
             0.3333333333333333,
             "#9c179e"
            ],
            [
             0.4444444444444444,
             "#bd3786"
            ],
            [
             0.5555555555555556,
             "#d8576b"
            ],
            [
             0.6666666666666666,
             "#ed7953"
            ],
            [
             0.7777777777777778,
             "#fb9f3a"
            ],
            [
             0.8888888888888888,
             "#fdca26"
            ],
            [
             1,
             "#f0f921"
            ]
           ],
           "sequentialminus": [
            [
             0,
             "#0d0887"
            ],
            [
             0.1111111111111111,
             "#46039f"
            ],
            [
             0.2222222222222222,
             "#7201a8"
            ],
            [
             0.3333333333333333,
             "#9c179e"
            ],
            [
             0.4444444444444444,
             "#bd3786"
            ],
            [
             0.5555555555555556,
             "#d8576b"
            ],
            [
             0.6666666666666666,
             "#ed7953"
            ],
            [
             0.7777777777777778,
             "#fb9f3a"
            ],
            [
             0.8888888888888888,
             "#fdca26"
            ],
            [
             1,
             "#f0f921"
            ]
           ]
          },
          "colorway": [
           "#636efa",
           "#EF553B",
           "#00cc96",
           "#ab63fa",
           "#FFA15A",
           "#19d3f3",
           "#FF6692",
           "#B6E880",
           "#FF97FF",
           "#FECB52"
          ],
          "font": {
           "color": "#2a3f5f"
          },
          "geo": {
           "bgcolor": "white",
           "lakecolor": "white",
           "landcolor": "#E5ECF6",
           "showlakes": true,
           "showland": true,
           "subunitcolor": "white"
          },
          "hoverlabel": {
           "align": "left"
          },
          "hovermode": "closest",
          "mapbox": {
           "style": "light"
          },
          "paper_bgcolor": "white",
          "plot_bgcolor": "#E5ECF6",
          "polar": {
           "angularaxis": {
            "gridcolor": "white",
            "linecolor": "white",
            "ticks": ""
           },
           "bgcolor": "#E5ECF6",
           "radialaxis": {
            "gridcolor": "white",
            "linecolor": "white",
            "ticks": ""
           }
          },
          "scene": {
           "xaxis": {
            "backgroundcolor": "#E5ECF6",
            "gridcolor": "white",
            "gridwidth": 2,
            "linecolor": "white",
            "showbackground": true,
            "ticks": "",
            "zerolinecolor": "white"
           },
           "yaxis": {
            "backgroundcolor": "#E5ECF6",
            "gridcolor": "white",
            "gridwidth": 2,
            "linecolor": "white",
            "showbackground": true,
            "ticks": "",
            "zerolinecolor": "white"
           },
           "zaxis": {
            "backgroundcolor": "#E5ECF6",
            "gridcolor": "white",
            "gridwidth": 2,
            "linecolor": "white",
            "showbackground": true,
            "ticks": "",
            "zerolinecolor": "white"
           }
          },
          "shapedefaults": {
           "line": {
            "color": "#2a3f5f"
           }
          },
          "ternary": {
           "aaxis": {
            "gridcolor": "white",
            "linecolor": "white",
            "ticks": ""
           },
           "baxis": {
            "gridcolor": "white",
            "linecolor": "white",
            "ticks": ""
           },
           "bgcolor": "#E5ECF6",
           "caxis": {
            "gridcolor": "white",
            "linecolor": "white",
            "ticks": ""
           }
          },
          "title": {
           "x": 0.05
          },
          "xaxis": {
           "automargin": true,
           "gridcolor": "white",
           "linecolor": "white",
           "ticks": "",
           "zerolinecolor": "white",
           "zerolinewidth": 2
          },
          "yaxis": {
           "automargin": true,
           "gridcolor": "white",
           "linecolor": "white",
           "ticks": "",
           "zerolinecolor": "white",
           "zerolinewidth": 2
          }
         }
        },
        "xaxis": {
         "dtick": 1,
         "gridwidth": 2,
         "showticklabels": false,
         "tick0": -0.5,
         "ticks": "",
         "zeroline": false
        },
        "yaxis": {
         "autorange": "reversed",
         "dtick": 1,
         "gridwidth": 2,
         "showticklabels": false,
         "tick0": 0.5,
         "ticks": "",
         "zeroline": false
        }
       }
      },
      "text/html": [
       "<div>\n",
       "        \n",
       "        \n",
       "            <div id=\"a3f3c98b-d7b9-47c7-87ac-f66420052fe8\" class=\"plotly-graph-div\" style=\"height:170px; width:100%;\"></div>\n",
       "            <script type=\"text/javascript\">\n",
       "                require([\"plotly\"], function(Plotly) {\n",
       "                    window.PLOTLYENV=window.PLOTLYENV || {};\n",
       "                    \n",
       "                if (document.getElementById(\"a3f3c98b-d7b9-47c7-87ac-f66420052fe8\")) {\n",
       "                    Plotly.newPlot(\n",
       "                        'a3f3c98b-d7b9-47c7-87ac-f66420052fe8',\n",
       "                        [{\"colorscale\": [[0, \"#00083e\"], [0.5, \"#ededee\"], [1, \"#ffffff\"]], \"hoverinfo\": \"none\", \"opacity\": 0.75, \"showscale\": false, \"type\": \"heatmap\", \"z\": [[0, 0, 0, 0, 0], [0, 0.5, 0.5, 0.5, 0.5], [0, 1, 1, 1, 1], [0, 0.5, 0.5, 0.5, 0.5]]}],\n",
       "                        {\"annotations\": [{\"align\": \"left\", \"font\": {\"color\": \"#ffffff\"}, \"showarrow\": false, \"text\": \"<b>Categorical columns</b>\", \"x\": -0.45, \"xanchor\": \"left\", \"xref\": \"x\", \"y\": 0, \"yref\": \"y\"}, {\"align\": \"left\", \"font\": {\"color\": \"#ffffff\"}, \"showarrow\": false, \"text\": \"<b>count</b>\", \"x\": 0.55, \"xanchor\": \"left\", \"xref\": \"x\", \"y\": 0, \"yref\": \"y\"}, {\"align\": \"left\", \"font\": {\"color\": \"#ffffff\"}, \"showarrow\": false, \"text\": \"<b>unique</b>\", \"x\": 1.55, \"xanchor\": \"left\", \"xref\": \"x\", \"y\": 0, \"yref\": \"y\"}, {\"align\": \"left\", \"font\": {\"color\": \"#ffffff\"}, \"showarrow\": false, \"text\": \"<b>top</b>\", \"x\": 2.55, \"xanchor\": \"left\", \"xref\": \"x\", \"y\": 0, \"yref\": \"y\"}, {\"align\": \"left\", \"font\": {\"color\": \"#ffffff\"}, \"showarrow\": false, \"text\": \"<b>freq</b>\", \"x\": 3.55, \"xanchor\": \"left\", \"xref\": \"x\", \"y\": 0, \"yref\": \"y\"}, {\"align\": \"left\", \"font\": {\"color\": \"#ffffff\"}, \"showarrow\": false, \"text\": \"<b>date_posted</b>\", \"x\": -0.45, \"xanchor\": \"left\", \"xref\": \"x\", \"y\": 1, \"yref\": \"y\"}, {\"align\": \"left\", \"font\": {\"color\": \"#000000\"}, \"showarrow\": false, \"text\": \"23699\", \"x\": 0.55, \"xanchor\": \"left\", \"xref\": \"x\", \"y\": 1, \"yref\": \"y\"}, {\"align\": \"left\", \"font\": {\"color\": \"#000000\"}, \"showarrow\": false, \"text\": \"1491\", \"x\": 1.55, \"xanchor\": \"left\", \"xref\": \"x\", \"y\": 1, \"yref\": \"y\"}, {\"align\": \"left\", \"font\": {\"color\": \"#000000\"}, \"showarrow\": false, \"text\": \"2018-02-01T00:00:00\", \"x\": 2.55, \"xanchor\": \"left\", \"xref\": \"x\", \"y\": 1, \"yref\": \"y\"}, {\"align\": \"left\", \"font\": {\"color\": \"#000000\"}, \"showarrow\": false, \"text\": \"368\", \"x\": 3.55, \"xanchor\": \"left\", \"xref\": \"x\", \"y\": 1, \"yref\": \"y\"}, {\"align\": \"left\", \"font\": {\"color\": \"#ffffff\"}, \"showarrow\": false, \"text\": \"<b>bike_parking</b>\", \"x\": -0.45, \"xanchor\": \"left\", \"xref\": \"x\", \"y\": 2, \"yref\": \"y\"}, {\"align\": \"left\", \"font\": {\"color\": \"#000000\"}, \"showarrow\": false, \"text\": \"2775\", \"x\": 0.55, \"xanchor\": \"left\", \"xref\": \"x\", \"y\": 2, \"yref\": \"y\"}, {\"align\": \"left\", \"font\": {\"color\": \"#000000\"}, \"showarrow\": false, \"text\": \"2\", \"x\": 1.55, \"xanchor\": \"left\", \"xref\": \"x\", \"y\": 2, \"yref\": \"y\"}, {\"align\": \"left\", \"font\": {\"color\": \"#000000\"}, \"showarrow\": false, \"text\": \"False\", \"x\": 2.55, \"xanchor\": \"left\", \"xref\": \"x\", \"y\": 2, \"yref\": \"y\"}, {\"align\": \"left\", \"font\": {\"color\": \"#000000\"}, \"showarrow\": false, \"text\": \"2725\", \"x\": 3.55, \"xanchor\": \"left\", \"xref\": \"x\", \"y\": 2, \"yref\": \"y\"}, {\"align\": \"left\", \"font\": {\"color\": \"#ffffff\"}, \"showarrow\": false, \"text\": \"<b>locality_name</b>\", \"x\": -0.45, \"xanchor\": \"left\", \"xref\": \"x\", \"y\": 3, \"yref\": \"y\"}, {\"align\": \"left\", \"font\": {\"color\": \"#000000\"}, \"showarrow\": false, \"text\": \"23650\", \"x\": 0.55, \"xanchor\": \"left\", \"xref\": \"x\", \"y\": 3, \"yref\": \"y\"}, {\"align\": \"left\", \"font\": {\"color\": \"#000000\"}, \"showarrow\": false, \"text\": \"326\", \"x\": 1.55, \"xanchor\": \"left\", \"xref\": \"x\", \"y\": 3, \"yref\": \"y\"}, {\"align\": \"left\", \"font\": {\"color\": \"#000000\"}, \"showarrow\": false, \"text\": \"Saint Petersburg\", \"x\": 2.55, \"xanchor\": \"left\", \"xref\": \"x\", \"y\": 3, \"yref\": \"y\"}, {\"align\": \"left\", \"font\": {\"color\": \"#000000\"}, \"showarrow\": false, \"text\": \"15721\", \"x\": 3.55, \"xanchor\": \"left\", \"xref\": \"x\", \"y\": 3, \"yref\": \"y\"}], \"height\": 170, \"margin\": {\"b\": 0, \"l\": 0, \"r\": 0, \"t\": 0}, \"template\": {\"data\": {\"bar\": [{\"error_x\": {\"color\": \"#2a3f5f\"}, \"error_y\": {\"color\": \"#2a3f5f\"}, \"marker\": {\"line\": {\"color\": \"#E5ECF6\", \"width\": 0.5}}, \"type\": \"bar\"}], \"barpolar\": [{\"marker\": {\"line\": {\"color\": \"#E5ECF6\", \"width\": 0.5}}, \"type\": \"barpolar\"}], \"carpet\": [{\"aaxis\": {\"endlinecolor\": \"#2a3f5f\", \"gridcolor\": \"white\", \"linecolor\": \"white\", \"minorgridcolor\": \"white\", \"startlinecolor\": \"#2a3f5f\"}, \"baxis\": {\"endlinecolor\": \"#2a3f5f\", \"gridcolor\": \"white\", \"linecolor\": \"white\", \"minorgridcolor\": \"white\", \"startlinecolor\": \"#2a3f5f\"}, \"type\": \"carpet\"}], \"choropleth\": [{\"colorbar\": {\"outlinewidth\": 0, \"ticks\": \"\"}, \"type\": \"choropleth\"}], \"contour\": [{\"colorbar\": {\"outlinewidth\": 0, \"ticks\": \"\"}, \"colorscale\": [[0.0, \"#0d0887\"], [0.1111111111111111, \"#46039f\"], [0.2222222222222222, \"#7201a8\"], [0.3333333333333333, \"#9c179e\"], [0.4444444444444444, \"#bd3786\"], [0.5555555555555556, \"#d8576b\"], [0.6666666666666666, \"#ed7953\"], [0.7777777777777778, \"#fb9f3a\"], [0.8888888888888888, \"#fdca26\"], [1.0, \"#f0f921\"]], \"type\": \"contour\"}], \"contourcarpet\": [{\"colorbar\": {\"outlinewidth\": 0, \"ticks\": \"\"}, \"type\": \"contourcarpet\"}], \"heatmap\": [{\"colorbar\": {\"outlinewidth\": 0, \"ticks\": \"\"}, \"colorscale\": [[0.0, \"#0d0887\"], [0.1111111111111111, \"#46039f\"], [0.2222222222222222, \"#7201a8\"], [0.3333333333333333, \"#9c179e\"], [0.4444444444444444, \"#bd3786\"], [0.5555555555555556, \"#d8576b\"], [0.6666666666666666, \"#ed7953\"], [0.7777777777777778, \"#fb9f3a\"], [0.8888888888888888, \"#fdca26\"], [1.0, \"#f0f921\"]], \"type\": \"heatmap\"}], \"heatmapgl\": [{\"colorbar\": {\"outlinewidth\": 0, \"ticks\": \"\"}, \"colorscale\": [[0.0, \"#0d0887\"], [0.1111111111111111, \"#46039f\"], [0.2222222222222222, \"#7201a8\"], [0.3333333333333333, \"#9c179e\"], [0.4444444444444444, \"#bd3786\"], [0.5555555555555556, \"#d8576b\"], [0.6666666666666666, \"#ed7953\"], [0.7777777777777778, \"#fb9f3a\"], [0.8888888888888888, \"#fdca26\"], [1.0, \"#f0f921\"]], \"type\": \"heatmapgl\"}], \"histogram\": [{\"marker\": {\"colorbar\": {\"outlinewidth\": 0, \"ticks\": \"\"}}, \"type\": \"histogram\"}], \"histogram2d\": [{\"colorbar\": {\"outlinewidth\": 0, \"ticks\": \"\"}, \"colorscale\": [[0.0, \"#0d0887\"], [0.1111111111111111, \"#46039f\"], [0.2222222222222222, \"#7201a8\"], [0.3333333333333333, \"#9c179e\"], [0.4444444444444444, \"#bd3786\"], [0.5555555555555556, \"#d8576b\"], [0.6666666666666666, \"#ed7953\"], [0.7777777777777778, \"#fb9f3a\"], [0.8888888888888888, \"#fdca26\"], [1.0, \"#f0f921\"]], \"type\": \"histogram2d\"}], \"histogram2dcontour\": [{\"colorbar\": {\"outlinewidth\": 0, \"ticks\": \"\"}, \"colorscale\": [[0.0, \"#0d0887\"], [0.1111111111111111, \"#46039f\"], [0.2222222222222222, \"#7201a8\"], [0.3333333333333333, \"#9c179e\"], [0.4444444444444444, \"#bd3786\"], [0.5555555555555556, \"#d8576b\"], [0.6666666666666666, \"#ed7953\"], [0.7777777777777778, \"#fb9f3a\"], [0.8888888888888888, \"#fdca26\"], [1.0, \"#f0f921\"]], \"type\": \"histogram2dcontour\"}], \"mesh3d\": [{\"colorbar\": {\"outlinewidth\": 0, \"ticks\": \"\"}, \"type\": \"mesh3d\"}], \"parcoords\": [{\"line\": {\"colorbar\": {\"outlinewidth\": 0, \"ticks\": \"\"}}, \"type\": \"parcoords\"}], \"scatter\": [{\"marker\": {\"colorbar\": {\"outlinewidth\": 0, \"ticks\": \"\"}}, \"type\": \"scatter\"}], \"scatter3d\": [{\"line\": {\"colorbar\": {\"outlinewidth\": 0, \"ticks\": \"\"}}, \"marker\": {\"colorbar\": {\"outlinewidth\": 0, \"ticks\": \"\"}}, \"type\": \"scatter3d\"}], \"scattercarpet\": [{\"marker\": {\"colorbar\": {\"outlinewidth\": 0, \"ticks\": \"\"}}, \"type\": \"scattercarpet\"}], \"scattergeo\": [{\"marker\": {\"colorbar\": {\"outlinewidth\": 0, \"ticks\": \"\"}}, \"type\": \"scattergeo\"}], \"scattergl\": [{\"marker\": {\"colorbar\": {\"outlinewidth\": 0, \"ticks\": \"\"}}, \"type\": \"scattergl\"}], \"scattermapbox\": [{\"marker\": {\"colorbar\": {\"outlinewidth\": 0, \"ticks\": \"\"}}, \"type\": \"scattermapbox\"}], \"scatterpolar\": [{\"marker\": {\"colorbar\": {\"outlinewidth\": 0, \"ticks\": \"\"}}, \"type\": \"scatterpolar\"}], \"scatterpolargl\": [{\"marker\": {\"colorbar\": {\"outlinewidth\": 0, \"ticks\": \"\"}}, \"type\": \"scatterpolargl\"}], \"scatterternary\": [{\"marker\": {\"colorbar\": {\"outlinewidth\": 0, \"ticks\": \"\"}}, \"type\": \"scatterternary\"}], \"surface\": [{\"colorbar\": {\"outlinewidth\": 0, \"ticks\": \"\"}, \"colorscale\": [[0.0, \"#0d0887\"], [0.1111111111111111, \"#46039f\"], [0.2222222222222222, \"#7201a8\"], [0.3333333333333333, \"#9c179e\"], [0.4444444444444444, \"#bd3786\"], [0.5555555555555556, \"#d8576b\"], [0.6666666666666666, \"#ed7953\"], [0.7777777777777778, \"#fb9f3a\"], [0.8888888888888888, \"#fdca26\"], [1.0, \"#f0f921\"]], \"type\": \"surface\"}], \"table\": [{\"cells\": {\"fill\": {\"color\": \"#EBF0F8\"}, \"line\": {\"color\": \"white\"}}, \"header\": {\"fill\": {\"color\": \"#C8D4E3\"}, \"line\": {\"color\": \"white\"}}, \"type\": \"table\"}]}, \"layout\": {\"annotationdefaults\": {\"arrowcolor\": \"#2a3f5f\", \"arrowhead\": 0, \"arrowwidth\": 1}, \"colorscale\": {\"diverging\": [[0, \"#8e0152\"], [0.1, \"#c51b7d\"], [0.2, \"#de77ae\"], [0.3, \"#f1b6da\"], [0.4, \"#fde0ef\"], [0.5, \"#f7f7f7\"], [0.6, \"#e6f5d0\"], [0.7, \"#b8e186\"], [0.8, \"#7fbc41\"], [0.9, \"#4d9221\"], [1, \"#276419\"]], \"sequential\": [[0.0, \"#0d0887\"], [0.1111111111111111, \"#46039f\"], [0.2222222222222222, \"#7201a8\"], [0.3333333333333333, \"#9c179e\"], [0.4444444444444444, \"#bd3786\"], [0.5555555555555556, \"#d8576b\"], [0.6666666666666666, \"#ed7953\"], [0.7777777777777778, \"#fb9f3a\"], [0.8888888888888888, \"#fdca26\"], [1.0, \"#f0f921\"]], \"sequentialminus\": [[0.0, \"#0d0887\"], [0.1111111111111111, \"#46039f\"], [0.2222222222222222, \"#7201a8\"], [0.3333333333333333, \"#9c179e\"], [0.4444444444444444, \"#bd3786\"], [0.5555555555555556, \"#d8576b\"], [0.6666666666666666, \"#ed7953\"], [0.7777777777777778, \"#fb9f3a\"], [0.8888888888888888, \"#fdca26\"], [1.0, \"#f0f921\"]]}, \"colorway\": [\"#636efa\", \"#EF553B\", \"#00cc96\", \"#ab63fa\", \"#FFA15A\", \"#19d3f3\", \"#FF6692\", \"#B6E880\", \"#FF97FF\", \"#FECB52\"], \"font\": {\"color\": \"#2a3f5f\"}, \"geo\": {\"bgcolor\": \"white\", \"lakecolor\": \"white\", \"landcolor\": \"#E5ECF6\", \"showlakes\": true, \"showland\": true, \"subunitcolor\": \"white\"}, \"hoverlabel\": {\"align\": \"left\"}, \"hovermode\": \"closest\", \"mapbox\": {\"style\": \"light\"}, \"paper_bgcolor\": \"white\", \"plot_bgcolor\": \"#E5ECF6\", \"polar\": {\"angularaxis\": {\"gridcolor\": \"white\", \"linecolor\": \"white\", \"ticks\": \"\"}, \"bgcolor\": \"#E5ECF6\", \"radialaxis\": {\"gridcolor\": \"white\", \"linecolor\": \"white\", \"ticks\": \"\"}}, \"scene\": {\"xaxis\": {\"backgroundcolor\": \"#E5ECF6\", \"gridcolor\": \"white\", \"gridwidth\": 2, \"linecolor\": \"white\", \"showbackground\": true, \"ticks\": \"\", \"zerolinecolor\": \"white\"}, \"yaxis\": {\"backgroundcolor\": \"#E5ECF6\", \"gridcolor\": \"white\", \"gridwidth\": 2, \"linecolor\": \"white\", \"showbackground\": true, \"ticks\": \"\", \"zerolinecolor\": \"white\"}, \"zaxis\": {\"backgroundcolor\": \"#E5ECF6\", \"gridcolor\": \"white\", \"gridwidth\": 2, \"linecolor\": \"white\", \"showbackground\": true, \"ticks\": \"\", \"zerolinecolor\": \"white\"}}, \"shapedefaults\": {\"line\": {\"color\": \"#2a3f5f\"}}, \"ternary\": {\"aaxis\": {\"gridcolor\": \"white\", \"linecolor\": \"white\", \"ticks\": \"\"}, \"baxis\": {\"gridcolor\": \"white\", \"linecolor\": \"white\", \"ticks\": \"\"}, \"bgcolor\": \"#E5ECF6\", \"caxis\": {\"gridcolor\": \"white\", \"linecolor\": \"white\", \"ticks\": \"\"}}, \"title\": {\"x\": 0.05}, \"xaxis\": {\"automargin\": true, \"gridcolor\": \"white\", \"linecolor\": \"white\", \"ticks\": \"\", \"zerolinecolor\": \"white\", \"zerolinewidth\": 2}, \"yaxis\": {\"automargin\": true, \"gridcolor\": \"white\", \"linecolor\": \"white\", \"ticks\": \"\", \"zerolinecolor\": \"white\", \"zerolinewidth\": 2}}}, \"xaxis\": {\"dtick\": 1, \"gridwidth\": 2, \"showticklabels\": false, \"tick0\": -0.5, \"ticks\": \"\", \"zeroline\": false}, \"yaxis\": {\"autorange\": \"reversed\", \"dtick\": 1, \"gridwidth\": 2, \"showticklabels\": false, \"tick0\": 0.5, \"ticks\": \"\", \"zeroline\": false}},\n",
       "                        {\"responsive\": true}\n",
       "                    ).then(function(){\n",
       "                            \n",
       "var gd = document.getElementById('a3f3c98b-d7b9-47c7-87ac-f66420052fe8');\n",
       "var x = new MutationObserver(function (mutations, observer) {{\n",
       "        var display = window.getComputedStyle(gd).display;\n",
       "        if (!display || display === 'none') {{\n",
       "            console.log([gd, 'removed!']);\n",
       "            Plotly.purge(gd);\n",
       "            observer.disconnect();\n",
       "        }}\n",
       "}});\n",
       "\n",
       "// Listen for the removal of the full notebook cells\n",
       "var notebookContainer = gd.closest('#notebook-container');\n",
       "if (notebookContainer) {{\n",
       "    x.observe(notebookContainer, {childList: true});\n",
       "}}\n",
       "\n",
       "// Listen for the clearing of the current output cell\n",
       "var outputEl = gd.closest('.output');\n",
       "if (outputEl) {{\n",
       "    x.observe(outputEl, {childList: true});\n",
       "}}\n",
       "\n",
       "                        })\n",
       "                };\n",
       "                });\n",
       "            </script>\n",
       "        </div>"
      ]
     },
     "metadata": {},
     "output_type": "display_data"
    }
   ],
   "source": [
    "table_cat = ff.create_table(df.describe(include=['O']).T, index=True, index_title='Categorical columns')\n",
    "iplot(table_cat)"
   ]
  },
  {
   "cell_type": "code",
   "execution_count": 4,
   "metadata": {},
   "outputs": [
    {
     "data": {
      "text/plain": [
       "<matplotlib.axes._subplots.AxesSubplot at 0x7efe5e3defd0>"
      ]
     },
     "execution_count": 4,
     "metadata": {},
     "output_type": "execute_result"
    },
    {
     "data": {
      "image/png": "[encoded data removed]",
      "text/plain": [
       "<Figure size 432x288 with 1 Axes>"
      ]
     },
     "metadata": {
      "needs_background": "light"
     },
     "output_type": "display_data"
    }
   ],
   "source": [
    "#Check the normality of distribution of the target variables\n",
    "df['living_area'].hist()"
   ]
  },
  {
   "cell_type": "markdown",
   "metadata": {},
   "source": [
    "### Conclusion"
   ]
  },
  {
   "cell_type": "markdown",
   "metadata": {},
   "source": [
    "There are 23,699 observations (rows) and 22 variables (columns) in this dataset. Data types include integer, float, boolean and string. Each row in the table represents each listed house for sale, i.e. house ad, with its corresponding characteristics. \n",
    "\n",
    "Variables:\n",
    "\n",
    "Non-missing-value variables:\n",
    "- date_posted (object): need to change type to date\n",
    "- last_price (float)\n",
    "- bedrooms (int)\n",
    "- floor (int)\n",
    "- total_images (int)\n",
    "- is_studio (boolean)\n",
    "- is_open_plan (boolean)\n",
    "- total_area (float)\n",
    "\n",
    "Missing-value variables:\n",
    "- balconies (float): need to change type to integer because this is the number of balconies, shouldn't be a decimal\n",
    "- ceiling_height (float): approximate normal distribution\n",
    "- pond_dist (float): normal distribution\n",
    "- park_dist (float): non-normal distribution\n",
    "- bike_parking (object): need to change type to boolean, beacause this is true or false value\n",
    "- airport_dist (float): non-normal\n",
    "- city_center_dist (float): non-normal distribution\n",
    "- ponds_within_3000 (float): need to change type to integer because this is the number of ponds, shouldn't be a decimal\n",
    "- parks_within_3000 (float): need to change type to integer because this is the number of parks, shouldn't be a decimal\n",
    "- days_listed (float): non-normal distribution \n",
    "- kitchen_area (float): non-normal distribution \n",
    "- living_area (float): non-normal distribution \n",
    "- floors_total (float): need to change type to integer because this is the number of floors, shouldn't be a decimal\n",
    "- locality_name (object)"
   ]
  },
  {
   "cell_type": "markdown",
   "metadata": {},
   "source": [
    "### Step 2. Data preprocessing"
   ]
  },
  {
   "cell_type": "markdown",
   "metadata": {},
   "source": [
    "### Check duplicated rows"
   ]
  },
  {
   "cell_type": "code",
   "execution_count": 5,
   "metadata": {
    "scrolled": true
   },
   "outputs": [
    {
     "data": {
      "text/html": [
       "<div>\n",
       "<style scoped>\n",
       "    .dataframe tbody tr th:only-of-type {\n",
       "        vertical-align: middle;\n",
       "    }\n",
       "\n",
       "    .dataframe tbody tr th {\n",
       "        vertical-align: top;\n",
       "    }\n",
       "\n",
       "    .dataframe thead th {\n",
       "        text-align: right;\n",
       "    }\n",
       "</style>\n",
       "<table border=\"1\" class=\"dataframe\">\n",
       "  <thead>\n",
       "    <tr style=\"text-align: right;\">\n",
       "      <th></th>\n",
       "      <th>date_posted</th>\n",
       "      <th>days_listed</th>\n",
       "      <th>last_price</th>\n",
       "      <th>bedrooms</th>\n",
       "      <th>kitchen_area</th>\n",
       "      <th>living_area</th>\n",
       "      <th>total_area</th>\n",
       "      <th>balconies</th>\n",
       "      <th>ceiling_height</th>\n",
       "      <th>floors_total</th>\n",
       "      <th>floor</th>\n",
       "      <th>total_images</th>\n",
       "      <th>bike_parking</th>\n",
       "      <th>is_studio</th>\n",
       "      <th>is_open_plan</th>\n",
       "      <th>locality_name</th>\n",
       "      <th>airport_dist</th>\n",
       "      <th>city_center_dist</th>\n",
       "      <th>park_dist</th>\n",
       "      <th>parks_within_3000</th>\n",
       "      <th>pond_dist</th>\n",
       "      <th>ponds_within_3000</th>\n",
       "    </tr>\n",
       "  </thead>\n",
       "  <tbody>\n",
       "  </tbody>\n",
       "</table>\n",
       "</div>"
      ],
      "text/plain": [
       "Empty DataFrame\n",
       "Columns: [date_posted, days_listed, last_price, bedrooms, kitchen_area, living_area, total_area, balconies, ceiling_height, floors_total, floor, total_images, bike_parking, is_studio, is_open_plan, locality_name, airport_dist, city_center_dist, park_dist, parks_within_3000, pond_dist, ponds_within_3000]\n",
       "Index: []"
      ]
     },
     "execution_count": 5,
     "metadata": {},
     "output_type": "execute_result"
    }
   ],
   "source": [
    "#Lower case to make sure there is not duplicate\n",
    "df['locality_name']=df['locality_name'].str.lower()\n",
    "df['locality_name'].unique()\n",
    "df[df.duplicated(keep = False)]"
   ]
  },
  {
   "cell_type": "markdown",
   "metadata": {},
   "source": [
    "### Changing data type"
   ]
  },
  {
   "cell_type": "code",
   "execution_count": 6,
   "metadata": {},
   "outputs": [
    {
     "name": "stdout",
     "output_type": "stream",
     "text": [
      "datetime64[ns]\n"
     ]
    }
   ],
   "source": [
    "df['date_posted'] = pd.to_datetime(df['date_posted'], format='%Y-%m-%dT%H:%M:%S')\n",
    "print(df['date_posted'].dtypes)\n"
   ]
  },
  {
   "cell_type": "code",
   "execution_count": 7,
   "metadata": {},
   "outputs": [
    {
     "data": {
      "text/html": [
       "<div>\n",
       "<style scoped>\n",
       "    .dataframe tbody tr th:only-of-type {\n",
       "        vertical-align: middle;\n",
       "    }\n",
       "\n",
       "    .dataframe tbody tr th {\n",
       "        vertical-align: top;\n",
       "    }\n",
       "\n",
       "    .dataframe thead th {\n",
       "        text-align: right;\n",
       "    }\n",
       "</style>\n",
       "<table border=\"1\" class=\"dataframe\">\n",
       "  <thead>\n",
       "    <tr style=\"text-align: right;\">\n",
       "      <th></th>\n",
       "      <th>date_posted</th>\n",
       "      <th>days_listed</th>\n",
       "      <th>last_price</th>\n",
       "      <th>bedrooms</th>\n",
       "      <th>kitchen_area</th>\n",
       "      <th>living_area</th>\n",
       "      <th>total_area</th>\n",
       "      <th>balconies</th>\n",
       "      <th>ceiling_height</th>\n",
       "      <th>floors_total</th>\n",
       "      <th>floor</th>\n",
       "      <th>total_images</th>\n",
       "      <th>bike_parking</th>\n",
       "      <th>is_studio</th>\n",
       "      <th>is_open_plan</th>\n",
       "      <th>locality_name</th>\n",
       "      <th>airport_dist</th>\n",
       "      <th>city_center_dist</th>\n",
       "      <th>park_dist</th>\n",
       "      <th>parks_within_3000</th>\n",
       "      <th>pond_dist</th>\n",
       "      <th>ponds_within_3000</th>\n",
       "      <th>date_removed</th>\n",
       "    </tr>\n",
       "  </thead>\n",
       "  <tbody>\n",
       "    <tr>\n",
       "      <td>0</td>\n",
       "      <td>2019-03-07</td>\n",
       "      <td>NaN</td>\n",
       "      <td>260000.0</td>\n",
       "      <td>3</td>\n",
       "      <td>25.00</td>\n",
       "      <td>51.00</td>\n",
       "      <td>108.00</td>\n",
       "      <td>NaN</td>\n",
       "      <td>2.70</td>\n",
       "      <td>16.0</td>\n",
       "      <td>8</td>\n",
       "      <td>20</td>\n",
       "      <td>NaN</td>\n",
       "      <td>False</td>\n",
       "      <td>False</td>\n",
       "      <td>saint petersburg</td>\n",
       "      <td>18863.0</td>\n",
       "      <td>16028.0</td>\n",
       "      <td>482.0</td>\n",
       "      <td>1.0</td>\n",
       "      <td>755.0</td>\n",
       "      <td>2.0</td>\n",
       "      <td>NaT</td>\n",
       "    </tr>\n",
       "    <tr>\n",
       "      <td>1</td>\n",
       "      <td>2018-12-04</td>\n",
       "      <td>81.0</td>\n",
       "      <td>67000.0</td>\n",
       "      <td>1</td>\n",
       "      <td>11.00</td>\n",
       "      <td>18.60</td>\n",
       "      <td>40.40</td>\n",
       "      <td>2.0</td>\n",
       "      <td>NaN</td>\n",
       "      <td>11.0</td>\n",
       "      <td>1</td>\n",
       "      <td>7</td>\n",
       "      <td>NaN</td>\n",
       "      <td>False</td>\n",
       "      <td>False</td>\n",
       "      <td>shushary village</td>\n",
       "      <td>12817.0</td>\n",
       "      <td>18603.0</td>\n",
       "      <td>NaN</td>\n",
       "      <td>0.0</td>\n",
       "      <td>NaN</td>\n",
       "      <td>0.0</td>\n",
       "      <td>2019-02-23</td>\n",
       "    </tr>\n",
       "    <tr>\n",
       "      <td>2</td>\n",
       "      <td>2015-08-20</td>\n",
       "      <td>558.0</td>\n",
       "      <td>103920.0</td>\n",
       "      <td>2</td>\n",
       "      <td>8.30</td>\n",
       "      <td>34.30</td>\n",
       "      <td>56.00</td>\n",
       "      <td>0.0</td>\n",
       "      <td>NaN</td>\n",
       "      <td>5.0</td>\n",
       "      <td>4</td>\n",
       "      <td>10</td>\n",
       "      <td>NaN</td>\n",
       "      <td>False</td>\n",
       "      <td>False</td>\n",
       "      <td>saint petersburg</td>\n",
       "      <td>21741.0</td>\n",
       "      <td>13933.0</td>\n",
       "      <td>90.0</td>\n",
       "      <td>1.0</td>\n",
       "      <td>574.0</td>\n",
       "      <td>2.0</td>\n",
       "      <td>2017-02-28</td>\n",
       "    </tr>\n",
       "    <tr>\n",
       "      <td>3</td>\n",
       "      <td>2015-07-24</td>\n",
       "      <td>424.0</td>\n",
       "      <td>1298000.0</td>\n",
       "      <td>3</td>\n",
       "      <td>NaN</td>\n",
       "      <td>NaN</td>\n",
       "      <td>159.00</td>\n",
       "      <td>0.0</td>\n",
       "      <td>NaN</td>\n",
       "      <td>14.0</td>\n",
       "      <td>9</td>\n",
       "      <td>0</td>\n",
       "      <td>NaN</td>\n",
       "      <td>False</td>\n",
       "      <td>False</td>\n",
       "      <td>saint petersburg</td>\n",
       "      <td>28098.0</td>\n",
       "      <td>6800.0</td>\n",
       "      <td>84.0</td>\n",
       "      <td>2.0</td>\n",
       "      <td>234.0</td>\n",
       "      <td>3.0</td>\n",
       "      <td>2016-09-20</td>\n",
       "    </tr>\n",
       "    <tr>\n",
       "      <td>4</td>\n",
       "      <td>2018-06-19</td>\n",
       "      <td>121.0</td>\n",
       "      <td>200000.0</td>\n",
       "      <td>2</td>\n",
       "      <td>41.00</td>\n",
       "      <td>32.00</td>\n",
       "      <td>100.00</td>\n",
       "      <td>NaN</td>\n",
       "      <td>3.03</td>\n",
       "      <td>14.0</td>\n",
       "      <td>13</td>\n",
       "      <td>2</td>\n",
       "      <td>NaN</td>\n",
       "      <td>False</td>\n",
       "      <td>False</td>\n",
       "      <td>saint petersburg</td>\n",
       "      <td>31856.0</td>\n",
       "      <td>8098.0</td>\n",
       "      <td>112.0</td>\n",
       "      <td>2.0</td>\n",
       "      <td>48.0</td>\n",
       "      <td>1.0</td>\n",
       "      <td>2018-10-18</td>\n",
       "    </tr>\n",
       "    <tr>\n",
       "      <td>5</td>\n",
       "      <td>2018-09-10</td>\n",
       "      <td>55.0</td>\n",
       "      <td>57800.0</td>\n",
       "      <td>1</td>\n",
       "      <td>9.10</td>\n",
       "      <td>14.40</td>\n",
       "      <td>30.40</td>\n",
       "      <td>NaN</td>\n",
       "      <td>NaN</td>\n",
       "      <td>12.0</td>\n",
       "      <td>5</td>\n",
       "      <td>10</td>\n",
       "      <td>NaN</td>\n",
       "      <td>False</td>\n",
       "      <td>False</td>\n",
       "      <td>yanino-1 village</td>\n",
       "      <td>NaN</td>\n",
       "      <td>NaN</td>\n",
       "      <td>NaN</td>\n",
       "      <td>NaN</td>\n",
       "      <td>NaN</td>\n",
       "      <td>NaN</td>\n",
       "      <td>2018-11-04</td>\n",
       "    </tr>\n",
       "    <tr>\n",
       "      <td>6</td>\n",
       "      <td>2017-11-02</td>\n",
       "      <td>155.0</td>\n",
       "      <td>74000.0</td>\n",
       "      <td>1</td>\n",
       "      <td>14.40</td>\n",
       "      <td>10.60</td>\n",
       "      <td>37.30</td>\n",
       "      <td>1.0</td>\n",
       "      <td>NaN</td>\n",
       "      <td>26.0</td>\n",
       "      <td>6</td>\n",
       "      <td>6</td>\n",
       "      <td>NaN</td>\n",
       "      <td>False</td>\n",
       "      <td>False</td>\n",
       "      <td>pargolovo village</td>\n",
       "      <td>52996.0</td>\n",
       "      <td>19143.0</td>\n",
       "      <td>NaN</td>\n",
       "      <td>0.0</td>\n",
       "      <td>NaN</td>\n",
       "      <td>0.0</td>\n",
       "      <td>2018-04-06</td>\n",
       "    </tr>\n",
       "    <tr>\n",
       "      <td>7</td>\n",
       "      <td>2019-04-18</td>\n",
       "      <td>NaN</td>\n",
       "      <td>158300.0</td>\n",
       "      <td>2</td>\n",
       "      <td>18.90</td>\n",
       "      <td>NaN</td>\n",
       "      <td>71.60</td>\n",
       "      <td>2.0</td>\n",
       "      <td>NaN</td>\n",
       "      <td>24.0</td>\n",
       "      <td>22</td>\n",
       "      <td>5</td>\n",
       "      <td>NaN</td>\n",
       "      <td>False</td>\n",
       "      <td>False</td>\n",
       "      <td>saint petersburg</td>\n",
       "      <td>23982.0</td>\n",
       "      <td>11634.0</td>\n",
       "      <td>NaN</td>\n",
       "      <td>0.0</td>\n",
       "      <td>NaN</td>\n",
       "      <td>0.0</td>\n",
       "      <td>NaT</td>\n",
       "    </tr>\n",
       "    <tr>\n",
       "      <td>8</td>\n",
       "      <td>2018-05-23</td>\n",
       "      <td>189.0</td>\n",
       "      <td>58000.0</td>\n",
       "      <td>1</td>\n",
       "      <td>8.81</td>\n",
       "      <td>15.43</td>\n",
       "      <td>33.16</td>\n",
       "      <td>NaN</td>\n",
       "      <td>NaN</td>\n",
       "      <td>27.0</td>\n",
       "      <td>26</td>\n",
       "      <td>20</td>\n",
       "      <td>NaN</td>\n",
       "      <td>False</td>\n",
       "      <td>False</td>\n",
       "      <td>murino village</td>\n",
       "      <td>NaN</td>\n",
       "      <td>NaN</td>\n",
       "      <td>NaN</td>\n",
       "      <td>NaN</td>\n",
       "      <td>NaN</td>\n",
       "      <td>NaN</td>\n",
       "      <td>2018-11-28</td>\n",
       "    </tr>\n",
       "    <tr>\n",
       "      <td>9</td>\n",
       "      <td>2017-02-26</td>\n",
       "      <td>289.0</td>\n",
       "      <td>108000.0</td>\n",
       "      <td>3</td>\n",
       "      <td>6.50</td>\n",
       "      <td>43.60</td>\n",
       "      <td>61.00</td>\n",
       "      <td>2.0</td>\n",
       "      <td>2.50</td>\n",
       "      <td>9.0</td>\n",
       "      <td>7</td>\n",
       "      <td>18</td>\n",
       "      <td>NaN</td>\n",
       "      <td>False</td>\n",
       "      <td>False</td>\n",
       "      <td>saint petersburg</td>\n",
       "      <td>50898.0</td>\n",
       "      <td>15008.0</td>\n",
       "      <td>NaN</td>\n",
       "      <td>0.0</td>\n",
       "      <td>NaN</td>\n",
       "      <td>0.0</td>\n",
       "      <td>2017-12-12</td>\n",
       "    </tr>\n",
       "  </tbody>\n",
       "</table>\n",
       "</div>"
      ],
      "text/plain": [
       "  date_posted  days_listed  last_price  bedrooms  kitchen_area  living_area  \\\n",
       "0  2019-03-07          NaN    260000.0         3         25.00        51.00   \n",
       "1  2018-12-04         81.0     67000.0         1         11.00        18.60   \n",
       "2  2015-08-20        558.0    103920.0         2          8.30        34.30   \n",
       "3  2015-07-24        424.0   1298000.0         3           NaN          NaN   \n",
       "4  2018-06-19        121.0    200000.0         2         41.00        32.00   \n",
       "5  2018-09-10         55.0     57800.0         1          9.10        14.40   \n",
       "6  2017-11-02        155.0     74000.0         1         14.40        10.60   \n",
       "7  2019-04-18          NaN    158300.0         2         18.90          NaN   \n",
       "8  2018-05-23        189.0     58000.0         1          8.81        15.43   \n",
       "9  2017-02-26        289.0    108000.0         3          6.50        43.60   \n",
       "\n",
       "   total_area  balconies  ceiling_height  floors_total  floor  total_images  \\\n",
       "0      108.00        NaN            2.70          16.0      8            20   \n",
       "1       40.40        2.0             NaN          11.0      1             7   \n",
       "2       56.00        0.0             NaN           5.0      4            10   \n",
       "3      159.00        0.0             NaN          14.0      9             0   \n",
       "4      100.00        NaN            3.03          14.0     13             2   \n",
       "5       30.40        NaN             NaN          12.0      5            10   \n",
       "6       37.30        1.0             NaN          26.0      6             6   \n",
       "7       71.60        2.0             NaN          24.0     22             5   \n",
       "8       33.16        NaN             NaN          27.0     26            20   \n",
       "9       61.00        2.0            2.50           9.0      7            18   \n",
       "\n",
       "  bike_parking  is_studio  is_open_plan      locality_name  airport_dist  \\\n",
       "0          NaN      False         False   saint petersburg       18863.0   \n",
       "1          NaN      False         False   shushary village       12817.0   \n",
       "2          NaN      False         False   saint petersburg       21741.0   \n",
       "3          NaN      False         False   saint petersburg       28098.0   \n",
       "4          NaN      False         False   saint petersburg       31856.0   \n",
       "5          NaN      False         False   yanino-1 village           NaN   \n",
       "6          NaN      False         False  pargolovo village       52996.0   \n",
       "7          NaN      False         False   saint petersburg       23982.0   \n",
       "8          NaN      False         False     murino village           NaN   \n",
       "9          NaN      False         False   saint petersburg       50898.0   \n",
       "\n",
       "   city_center_dist  park_dist  parks_within_3000  pond_dist  \\\n",
       "0           16028.0      482.0                1.0      755.0   \n",
       "1           18603.0        NaN                0.0        NaN   \n",
       "2           13933.0       90.0                1.0      574.0   \n",
       "3            6800.0       84.0                2.0      234.0   \n",
       "4            8098.0      112.0                2.0       48.0   \n",
       "5               NaN        NaN                NaN        NaN   \n",
       "6           19143.0        NaN                0.0        NaN   \n",
       "7           11634.0        NaN                0.0        NaN   \n",
       "8               NaN        NaN                NaN        NaN   \n",
       "9           15008.0        NaN                0.0        NaN   \n",
       "\n",
       "   ponds_within_3000 date_removed  \n",
       "0                2.0          NaT  \n",
       "1                0.0   2019-02-23  \n",
       "2                2.0   2017-02-28  \n",
       "3                3.0   2016-09-20  \n",
       "4                1.0   2018-10-18  \n",
       "5                NaN   2018-11-04  \n",
       "6                0.0   2018-04-06  \n",
       "7                0.0          NaT  \n",
       "8                NaN   2018-11-28  \n",
       "9                0.0   2017-12-12  "
      ]
     },
     "execution_count": 7,
     "metadata": {},
     "output_type": "execute_result"
    }
   ],
   "source": [
    "#Retrieve removal date to see if there is a same removal day to impute missing values for days_listed\n",
    "df['date_removed'] = df['date_posted'] + pd.to_timedelta(df['days_listed'], unit='d')\n",
    "\n",
    "df.head(10)\n",
    "#No similar removal date, so the ad was removed by user, not automatically removed by the system"
   ]
  },
  {
   "cell_type": "code",
   "execution_count": 8,
   "metadata": {},
   "outputs": [
    {
     "name": "stdout",
     "output_type": "stream",
     "text": [
      "<class 'pandas.core.frame.DataFrame'>\n",
      "RangeIndex: 23699 entries, 0 to 23698\n",
      "Data columns (total 23 columns):\n",
      "date_posted          23699 non-null datetime64[ns]\n",
      "days_listed          20518 non-null float64\n",
      "last_price           23699 non-null float64\n",
      "bedrooms             23699 non-null int64\n",
      "kitchen_area         21421 non-null float64\n",
      "living_area          21796 non-null float64\n",
      "total_area           23699 non-null float64\n",
      "balconies            12180 non-null float64\n",
      "ceiling_height       14504 non-null float64\n",
      "floors_total         23613 non-null float64\n",
      "floor                23699 non-null int64\n",
      "total_images         23699 non-null int64\n",
      "bike_parking         23699 non-null bool\n",
      "is_studio            23699 non-null bool\n",
      "is_open_plan         23699 non-null bool\n",
      "locality_name        23650 non-null object\n",
      "airport_dist         18157 non-null float64\n",
      "city_center_dist     18180 non-null float64\n",
      "park_dist            8079 non-null float64\n",
      "parks_within_3000    18181 non-null float64\n",
      "pond_dist            9110 non-null float64\n",
      "ponds_within_3000    18181 non-null float64\n",
      "date_removed         20518 non-null datetime64[ns]\n",
      "dtypes: bool(3), datetime64[ns](2), float64(14), int64(3), object(1)\n",
      "memory usage: 3.7+ MB\n"
     ]
    }
   ],
   "source": [
    "#Change to boolean type\n",
    "df['bike_parking'] = df['bike_parking'].astype('bool') \n",
    "\n",
    "df.info()"
   ]
  },
  {
   "cell_type": "markdown",
   "metadata": {},
   "source": [
    "### Processing missing values"
   ]
  },
  {
   "cell_type": "code",
   "execution_count": 9,
   "metadata": {},
   "outputs": [
    {
     "data": {
      "text/plain": [
       "date_posted          0.000000\n",
       "is_open_plan         0.000000\n",
       "is_studio            0.000000\n",
       "bike_parking         0.000000\n",
       "floor                0.000000\n",
       "total_area           0.000000\n",
       "total_images         0.000000\n",
       "bedrooms             0.000000\n",
       "last_price           0.000000\n",
       "locality_name        0.002068\n",
       "floors_total         0.003629\n",
       "living_area          0.080299\n",
       "kitchen_area         0.096122\n",
       "days_listed          0.134225\n",
       "date_removed         0.134225\n",
       "ponds_within_3000    0.232837\n",
       "parks_within_3000    0.232837\n",
       "city_center_dist     0.232879\n",
       "airport_dist         0.233850\n",
       "ceiling_height       0.387991\n",
       "balconies            0.486054\n",
       "pond_dist            0.615596\n",
       "park_dist            0.659100\n",
       "dtype: float64"
      ]
     },
     "execution_count": 9,
     "metadata": {},
     "output_type": "execute_result"
    }
   ],
   "source": [
    "df.isnull().mean().sort_values()"
   ]
  },
  {
   "cell_type": "markdown",
   "metadata": {},
   "source": [
    "#### Strategies to deal with missing values\n",
    "\n",
    "Drop observations of columns that have <5% missing values: \n",
    "- locality_name\n",
    "- floors_total\n",
    "\n",
    "Impute missing values with 0:\n",
    "- balconies (int): because the value range is narrow: 50%tile is 1, it's highly likely that if the user doesn’t enter the number of balconies, then there probably aren’t any.\n",
    "\n",
    "Impute missing values based on other variables: because these are pairwise variables: \n",
    "- ponds_within_3000 (int)\n",
    "- parks_within_3000 (int)\n",
    "- pond_dist (float)\n",
    "- park_dist (float)\n",
    "\n",
    "Impute missing values using mean or median depdent on their distribution (normal distribution: mean, non-normal: median) and the sub-group that they belong to:\n",
    "- ceiling_height (float)\n",
    "- balconies (int)\n",
    "- air_port_dist (float)\n",
    "- city_center_dist (float)\n",
    "- kitchen_area (float):\n",
    "- living_area (float):\n",
    "\n",
    "Leave the missing value as it is:\n",
    "- bike_parking (object)\n",
    "- days_listed"
   ]
  },
  {
   "cell_type": "code",
   "execution_count": 10,
   "metadata": {},
   "outputs": [
    {
     "name": "stdout",
     "output_type": "stream",
     "text": [
      "<class 'pandas.core.frame.DataFrame'>\n",
      "Int64Index: 23565 entries, 0 to 23698\n",
      "Data columns (total 23 columns):\n",
      "date_posted          23565 non-null datetime64[ns]\n",
      "days_listed          20394 non-null float64\n",
      "last_price           23565 non-null float64\n",
      "bedrooms             23565 non-null int64\n",
      "kitchen_area         21343 non-null float64\n",
      "living_area          21700 non-null float64\n",
      "total_area           23565 non-null float64\n",
      "balconies            12090 non-null float64\n",
      "ceiling_height       14481 non-null float64\n",
      "floors_total         23565 non-null float64\n",
      "floor                23565 non-null int64\n",
      "total_images         23565 non-null int64\n",
      "bike_parking         23565 non-null bool\n",
      "is_studio            23565 non-null bool\n",
      "is_open_plan         23565 non-null bool\n",
      "locality_name        23565 non-null object\n",
      "airport_dist         18041 non-null float64\n",
      "city_center_dist     18064 non-null float64\n",
      "park_dist            8030 non-null float64\n",
      "parks_within_3000    18065 non-null float64\n",
      "pond_dist            9036 non-null float64\n",
      "ponds_within_3000    18065 non-null float64\n",
      "date_removed         20394 non-null datetime64[ns]\n",
      "dtypes: bool(3), datetime64[ns](2), float64(14), int64(3), object(1)\n",
      "memory usage: 3.8+ MB\n"
     ]
    }
   ],
   "source": [
    "#Drop observations of columns that have <5% missing values: locality_name & floors_total\n",
    "df.dropna(subset = ['locality_name','floors_total'], inplace = True)\n",
    "df.info()\n",
    "#The dataset now is left with 23,565 (drop 134 observations)"
   ]
  },
  {
   "cell_type": "code",
   "execution_count": 11,
   "metadata": {},
   "outputs": [
    {
     "data": {
      "text/plain": [
       "date_posted          0.000000\n",
       "locality_name        0.000000\n",
       "is_open_plan         0.000000\n",
       "is_studio            0.000000\n",
       "bike_parking         0.000000\n",
       "floor                0.000000\n",
       "floors_total         0.000000\n",
       "total_images         0.000000\n",
       "total_area           0.000000\n",
       "bedrooms             0.000000\n",
       "last_price           0.000000\n",
       "balconies            0.000000\n",
       "living_area          0.079143\n",
       "kitchen_area         0.094292\n",
       "days_listed          0.134564\n",
       "date_removed         0.134564\n",
       "ponds_within_3000    0.233397\n",
       "parks_within_3000    0.233397\n",
       "city_center_dist     0.233439\n",
       "airport_dist         0.234415\n",
       "ceiling_height       0.385487\n",
       "pond_dist            0.616550\n",
       "park_dist            0.659240\n",
       "dtype: float64"
      ]
     },
     "execution_count": 11,
     "metadata": {},
     "output_type": "execute_result"
    }
   ],
   "source": [
    "#Impute missing values with 0: balconies\n",
    "df['balconies'] = df['balconies'].fillna(0)\n",
    "df.isnull().mean().sort_values()"
   ]
  },
  {
   "cell_type": "markdown",
   "metadata": {},
   "source": [
    "Missing-value variables:\n",
    "\n",
    "- balconies (float): need to change type to integer because this is the number of balconies, shouldn't be a decimal\n",
    "- ceiling_height (float): approximate normal distribution\n",
    "- pond_dist (float): normal distribution\n",
    "- park_dist (float): non-normal distribution\n",
    "- bike_parking (object): need to change type to boolean, beacause this is true or false value\n",
    "- airport_dist (float): non-normal\n",
    "- city_center_dist (float): non-normal distribution\n",
    "- ponds_within_3000 (float): need to change type to integer because this is the number of ponds, shouldn't be a decimal\n",
    "- parks_within_3000 (float): need to change type to integer because this is the number of parks, shouldn't be a decimal\n",
    "- days_listed (float): non-normal distribution\n",
    "- kitchen_area (float): non-normal distribution\n",
    "- living_area (float): non-normal distribution\n",
    "- floors_total (float): need to change type to integer because this is the number of floors, shouldn't be a decimal\n",
    "- locality_name (object)"
   ]
  },
  {
   "cell_type": "code",
   "execution_count": 12,
   "metadata": {},
   "outputs": [
    {
     "data": {
      "text/html": [
       "<div>\n",
       "<style scoped>\n",
       "    .dataframe tbody tr th:only-of-type {\n",
       "        vertical-align: middle;\n",
       "    }\n",
       "\n",
       "    .dataframe tbody tr th {\n",
       "        vertical-align: top;\n",
       "    }\n",
       "\n",
       "    .dataframe thead th {\n",
       "        text-align: right;\n",
       "    }\n",
       "</style>\n",
       "<table border=\"1\" class=\"dataframe\">\n",
       "  <thead>\n",
       "    <tr style=\"text-align: right;\">\n",
       "      <th></th>\n",
       "      <th>date_posted</th>\n",
       "      <th>days_listed</th>\n",
       "      <th>last_price</th>\n",
       "      <th>bedrooms</th>\n",
       "      <th>kitchen_area</th>\n",
       "      <th>living_area</th>\n",
       "      <th>total_area</th>\n",
       "      <th>balconies</th>\n",
       "      <th>ceiling_height</th>\n",
       "      <th>floors_total</th>\n",
       "      <th>floor</th>\n",
       "      <th>total_images</th>\n",
       "      <th>bike_parking</th>\n",
       "      <th>is_studio</th>\n",
       "      <th>is_open_plan</th>\n",
       "      <th>locality_name</th>\n",
       "      <th>airport_dist</th>\n",
       "      <th>city_center_dist</th>\n",
       "      <th>park_dist</th>\n",
       "      <th>parks_within_3000</th>\n",
       "      <th>pond_dist</th>\n",
       "      <th>ponds_within_3000</th>\n",
       "      <th>date_removed</th>\n",
       "      <th>last_price_level</th>\n",
       "      <th>total_area_level</th>\n",
       "    </tr>\n",
       "  </thead>\n",
       "  <tbody>\n",
       "    <tr>\n",
       "      <td>0</td>\n",
       "      <td>2019-03-07</td>\n",
       "      <td>NaN</td>\n",
       "      <td>260000.0</td>\n",
       "      <td>3</td>\n",
       "      <td>25.00</td>\n",
       "      <td>51.00</td>\n",
       "      <td>108.00</td>\n",
       "      <td>0.0</td>\n",
       "      <td>2.70</td>\n",
       "      <td>16.0</td>\n",
       "      <td>8</td>\n",
       "      <td>20</td>\n",
       "      <td>True</td>\n",
       "      <td>False</td>\n",
       "      <td>False</td>\n",
       "      <td>saint petersburg</td>\n",
       "      <td>18863.0</td>\n",
       "      <td>16028.0</td>\n",
       "      <td>482.0</td>\n",
       "      <td>1.0</td>\n",
       "      <td>755.0</td>\n",
       "      <td>2.0</td>\n",
       "      <td>NaT</td>\n",
       "      <td>4</td>\n",
       "      <td>4</td>\n",
       "    </tr>\n",
       "    <tr>\n",
       "      <td>1</td>\n",
       "      <td>2018-12-04</td>\n",
       "      <td>81.0</td>\n",
       "      <td>67000.0</td>\n",
       "      <td>1</td>\n",
       "      <td>11.00</td>\n",
       "      <td>18.60</td>\n",
       "      <td>40.40</td>\n",
       "      <td>2.0</td>\n",
       "      <td>NaN</td>\n",
       "      <td>11.0</td>\n",
       "      <td>1</td>\n",
       "      <td>7</td>\n",
       "      <td>True</td>\n",
       "      <td>False</td>\n",
       "      <td>False</td>\n",
       "      <td>shushary village</td>\n",
       "      <td>12817.0</td>\n",
       "      <td>18603.0</td>\n",
       "      <td>NaN</td>\n",
       "      <td>0.0</td>\n",
       "      <td>NaN</td>\n",
       "      <td>0.0</td>\n",
       "      <td>2019-02-23</td>\n",
       "      <td>1</td>\n",
       "      <td>1</td>\n",
       "    </tr>\n",
       "    <tr>\n",
       "      <td>2</td>\n",
       "      <td>2015-08-20</td>\n",
       "      <td>558.0</td>\n",
       "      <td>103920.0</td>\n",
       "      <td>2</td>\n",
       "      <td>8.30</td>\n",
       "      <td>34.30</td>\n",
       "      <td>56.00</td>\n",
       "      <td>0.0</td>\n",
       "      <td>NaN</td>\n",
       "      <td>5.0</td>\n",
       "      <td>4</td>\n",
       "      <td>10</td>\n",
       "      <td>True</td>\n",
       "      <td>False</td>\n",
       "      <td>False</td>\n",
       "      <td>saint petersburg</td>\n",
       "      <td>21741.0</td>\n",
       "      <td>13933.0</td>\n",
       "      <td>90.0</td>\n",
       "      <td>1.0</td>\n",
       "      <td>574.0</td>\n",
       "      <td>2.0</td>\n",
       "      <td>2017-02-28</td>\n",
       "      <td>2</td>\n",
       "      <td>2</td>\n",
       "    </tr>\n",
       "    <tr>\n",
       "      <td>3</td>\n",
       "      <td>2015-07-24</td>\n",
       "      <td>424.0</td>\n",
       "      <td>1298000.0</td>\n",
       "      <td>3</td>\n",
       "      <td>NaN</td>\n",
       "      <td>NaN</td>\n",
       "      <td>159.00</td>\n",
       "      <td>0.0</td>\n",
       "      <td>NaN</td>\n",
       "      <td>14.0</td>\n",
       "      <td>9</td>\n",
       "      <td>0</td>\n",
       "      <td>True</td>\n",
       "      <td>False</td>\n",
       "      <td>False</td>\n",
       "      <td>saint petersburg</td>\n",
       "      <td>28098.0</td>\n",
       "      <td>6800.0</td>\n",
       "      <td>84.0</td>\n",
       "      <td>2.0</td>\n",
       "      <td>234.0</td>\n",
       "      <td>3.0</td>\n",
       "      <td>2016-09-20</td>\n",
       "      <td>4</td>\n",
       "      <td>4</td>\n",
       "    </tr>\n",
       "    <tr>\n",
       "      <td>4</td>\n",
       "      <td>2018-06-19</td>\n",
       "      <td>121.0</td>\n",
       "      <td>200000.0</td>\n",
       "      <td>2</td>\n",
       "      <td>41.00</td>\n",
       "      <td>32.00</td>\n",
       "      <td>100.00</td>\n",
       "      <td>0.0</td>\n",
       "      <td>3.03</td>\n",
       "      <td>14.0</td>\n",
       "      <td>13</td>\n",
       "      <td>2</td>\n",
       "      <td>True</td>\n",
       "      <td>False</td>\n",
       "      <td>False</td>\n",
       "      <td>saint petersburg</td>\n",
       "      <td>31856.0</td>\n",
       "      <td>8098.0</td>\n",
       "      <td>112.0</td>\n",
       "      <td>2.0</td>\n",
       "      <td>48.0</td>\n",
       "      <td>1.0</td>\n",
       "      <td>2018-10-18</td>\n",
       "      <td>4</td>\n",
       "      <td>4</td>\n",
       "    </tr>\n",
       "    <tr>\n",
       "      <td>5</td>\n",
       "      <td>2018-09-10</td>\n",
       "      <td>55.0</td>\n",
       "      <td>57800.0</td>\n",
       "      <td>1</td>\n",
       "      <td>9.10</td>\n",
       "      <td>14.40</td>\n",
       "      <td>30.40</td>\n",
       "      <td>0.0</td>\n",
       "      <td>NaN</td>\n",
       "      <td>12.0</td>\n",
       "      <td>5</td>\n",
       "      <td>10</td>\n",
       "      <td>True</td>\n",
       "      <td>False</td>\n",
       "      <td>False</td>\n",
       "      <td>yanino-1 village</td>\n",
       "      <td>NaN</td>\n",
       "      <td>NaN</td>\n",
       "      <td>NaN</td>\n",
       "      <td>NaN</td>\n",
       "      <td>NaN</td>\n",
       "      <td>NaN</td>\n",
       "      <td>2018-11-04</td>\n",
       "      <td>0</td>\n",
       "      <td>0</td>\n",
       "    </tr>\n",
       "    <tr>\n",
       "      <td>6</td>\n",
       "      <td>2017-11-02</td>\n",
       "      <td>155.0</td>\n",
       "      <td>74000.0</td>\n",
       "      <td>1</td>\n",
       "      <td>14.40</td>\n",
       "      <td>10.60</td>\n",
       "      <td>37.30</td>\n",
       "      <td>1.0</td>\n",
       "      <td>NaN</td>\n",
       "      <td>26.0</td>\n",
       "      <td>6</td>\n",
       "      <td>6</td>\n",
       "      <td>True</td>\n",
       "      <td>False</td>\n",
       "      <td>False</td>\n",
       "      <td>pargolovo village</td>\n",
       "      <td>52996.0</td>\n",
       "      <td>19143.0</td>\n",
       "      <td>NaN</td>\n",
       "      <td>0.0</td>\n",
       "      <td>NaN</td>\n",
       "      <td>0.0</td>\n",
       "      <td>2018-04-06</td>\n",
       "      <td>1</td>\n",
       "      <td>0</td>\n",
       "    </tr>\n",
       "    <tr>\n",
       "      <td>7</td>\n",
       "      <td>2019-04-18</td>\n",
       "      <td>NaN</td>\n",
       "      <td>158300.0</td>\n",
       "      <td>2</td>\n",
       "      <td>18.90</td>\n",
       "      <td>NaN</td>\n",
       "      <td>71.60</td>\n",
       "      <td>2.0</td>\n",
       "      <td>NaN</td>\n",
       "      <td>24.0</td>\n",
       "      <td>22</td>\n",
       "      <td>5</td>\n",
       "      <td>True</td>\n",
       "      <td>False</td>\n",
       "      <td>False</td>\n",
       "      <td>saint petersburg</td>\n",
       "      <td>23982.0</td>\n",
       "      <td>11634.0</td>\n",
       "      <td>NaN</td>\n",
       "      <td>0.0</td>\n",
       "      <td>NaN</td>\n",
       "      <td>0.0</td>\n",
       "      <td>NaT</td>\n",
       "      <td>4</td>\n",
       "      <td>3</td>\n",
       "    </tr>\n",
       "    <tr>\n",
       "      <td>8</td>\n",
       "      <td>2018-05-23</td>\n",
       "      <td>189.0</td>\n",
       "      <td>58000.0</td>\n",
       "      <td>1</td>\n",
       "      <td>8.81</td>\n",
       "      <td>15.43</td>\n",
       "      <td>33.16</td>\n",
       "      <td>0.0</td>\n",
       "      <td>NaN</td>\n",
       "      <td>27.0</td>\n",
       "      <td>26</td>\n",
       "      <td>20</td>\n",
       "      <td>True</td>\n",
       "      <td>False</td>\n",
       "      <td>False</td>\n",
       "      <td>murino village</td>\n",
       "      <td>NaN</td>\n",
       "      <td>NaN</td>\n",
       "      <td>NaN</td>\n",
       "      <td>NaN</td>\n",
       "      <td>NaN</td>\n",
       "      <td>NaN</td>\n",
       "      <td>2018-11-28</td>\n",
       "      <td>0</td>\n",
       "      <td>0</td>\n",
       "    </tr>\n",
       "    <tr>\n",
       "      <td>9</td>\n",
       "      <td>2017-02-26</td>\n",
       "      <td>289.0</td>\n",
       "      <td>108000.0</td>\n",
       "      <td>3</td>\n",
       "      <td>6.50</td>\n",
       "      <td>43.60</td>\n",
       "      <td>61.00</td>\n",
       "      <td>2.0</td>\n",
       "      <td>2.50</td>\n",
       "      <td>9.0</td>\n",
       "      <td>7</td>\n",
       "      <td>18</td>\n",
       "      <td>True</td>\n",
       "      <td>False</td>\n",
       "      <td>False</td>\n",
       "      <td>saint petersburg</td>\n",
       "      <td>50898.0</td>\n",
       "      <td>15008.0</td>\n",
       "      <td>NaN</td>\n",
       "      <td>0.0</td>\n",
       "      <td>NaN</td>\n",
       "      <td>0.0</td>\n",
       "      <td>2017-12-12</td>\n",
       "      <td>3</td>\n",
       "      <td>3</td>\n",
       "    </tr>\n",
       "    <tr>\n",
       "      <td>10</td>\n",
       "      <td>2017-11-16</td>\n",
       "      <td>137.0</td>\n",
       "      <td>101000.0</td>\n",
       "      <td>1</td>\n",
       "      <td>8.50</td>\n",
       "      <td>20.30</td>\n",
       "      <td>39.60</td>\n",
       "      <td>0.0</td>\n",
       "      <td>2.67</td>\n",
       "      <td>12.0</td>\n",
       "      <td>3</td>\n",
       "      <td>5</td>\n",
       "      <td>True</td>\n",
       "      <td>False</td>\n",
       "      <td>False</td>\n",
       "      <td>saint petersburg</td>\n",
       "      <td>38357.0</td>\n",
       "      <td>13878.0</td>\n",
       "      <td>310.0</td>\n",
       "      <td>1.0</td>\n",
       "      <td>553.0</td>\n",
       "      <td>2.0</td>\n",
       "      <td>2018-04-02</td>\n",
       "      <td>2</td>\n",
       "      <td>1</td>\n",
       "    </tr>\n",
       "    <tr>\n",
       "      <td>11</td>\n",
       "      <td>2018-08-27</td>\n",
       "      <td>7.0</td>\n",
       "      <td>66000.0</td>\n",
       "      <td>2</td>\n",
       "      <td>6.00</td>\n",
       "      <td>31.00</td>\n",
       "      <td>44.00</td>\n",
       "      <td>1.0</td>\n",
       "      <td>NaN</td>\n",
       "      <td>5.0</td>\n",
       "      <td>4</td>\n",
       "      <td>9</td>\n",
       "      <td>False</td>\n",
       "      <td>False</td>\n",
       "      <td>False</td>\n",
       "      <td>lomonosov</td>\n",
       "      <td>48252.0</td>\n",
       "      <td>51677.0</td>\n",
       "      <td>NaN</td>\n",
       "      <td>0.0</td>\n",
       "      <td>NaN</td>\n",
       "      <td>0.0</td>\n",
       "      <td>2018-09-03</td>\n",
       "      <td>1</td>\n",
       "      <td>1</td>\n",
       "    </tr>\n",
       "    <tr>\n",
       "      <td>12</td>\n",
       "      <td>2016-06-30</td>\n",
       "      <td>90.0</td>\n",
       "      <td>77800.0</td>\n",
       "      <td>2</td>\n",
       "      <td>9.00</td>\n",
       "      <td>30.00</td>\n",
       "      <td>54.00</td>\n",
       "      <td>0.0</td>\n",
       "      <td>NaN</td>\n",
       "      <td>5.0</td>\n",
       "      <td>5</td>\n",
       "      <td>10</td>\n",
       "      <td>True</td>\n",
       "      <td>False</td>\n",
       "      <td>False</td>\n",
       "      <td>sertolovo</td>\n",
       "      <td>NaN</td>\n",
       "      <td>NaN</td>\n",
       "      <td>NaN</td>\n",
       "      <td>NaN</td>\n",
       "      <td>NaN</td>\n",
       "      <td>NaN</td>\n",
       "      <td>2016-09-28</td>\n",
       "      <td>1</td>\n",
       "      <td>2</td>\n",
       "    </tr>\n",
       "    <tr>\n",
       "      <td>13</td>\n",
       "      <td>2017-07-01</td>\n",
       "      <td>366.0</td>\n",
       "      <td>71000.0</td>\n",
       "      <td>2</td>\n",
       "      <td>5.20</td>\n",
       "      <td>27.00</td>\n",
       "      <td>42.80</td>\n",
       "      <td>1.0</td>\n",
       "      <td>2.56</td>\n",
       "      <td>5.0</td>\n",
       "      <td>5</td>\n",
       "      <td>20</td>\n",
       "      <td>True</td>\n",
       "      <td>False</td>\n",
       "      <td>False</td>\n",
       "      <td>petergof</td>\n",
       "      <td>37868.0</td>\n",
       "      <td>33058.0</td>\n",
       "      <td>294.0</td>\n",
       "      <td>1.0</td>\n",
       "      <td>298.0</td>\n",
       "      <td>3.0</td>\n",
       "      <td>2018-07-02</td>\n",
       "      <td>1</td>\n",
       "      <td>1</td>\n",
       "    </tr>\n",
       "    <tr>\n",
       "      <td>14</td>\n",
       "      <td>2016-06-23</td>\n",
       "      <td>203.0</td>\n",
       "      <td>88000.0</td>\n",
       "      <td>1</td>\n",
       "      <td>8.00</td>\n",
       "      <td>17.00</td>\n",
       "      <td>36.00</td>\n",
       "      <td>0.0</td>\n",
       "      <td>NaN</td>\n",
       "      <td>6.0</td>\n",
       "      <td>1</td>\n",
       "      <td>1</td>\n",
       "      <td>True</td>\n",
       "      <td>False</td>\n",
       "      <td>False</td>\n",
       "      <td>pushkin</td>\n",
       "      <td>20782.0</td>\n",
       "      <td>30759.0</td>\n",
       "      <td>NaN</td>\n",
       "      <td>0.0</td>\n",
       "      <td>96.0</td>\n",
       "      <td>1.0</td>\n",
       "      <td>2017-01-12</td>\n",
       "      <td>2</td>\n",
       "      <td>0</td>\n",
       "    </tr>\n",
       "    <tr>\n",
       "      <td>15</td>\n",
       "      <td>2017-11-18</td>\n",
       "      <td>19.0</td>\n",
       "      <td>93000.0</td>\n",
       "      <td>1</td>\n",
       "      <td>7.60</td>\n",
       "      <td>20.50</td>\n",
       "      <td>39.00</td>\n",
       "      <td>1.0</td>\n",
       "      <td>NaN</td>\n",
       "      <td>14.0</td>\n",
       "      <td>5</td>\n",
       "      <td>16</td>\n",
       "      <td>True</td>\n",
       "      <td>False</td>\n",
       "      <td>False</td>\n",
       "      <td>saint petersburg</td>\n",
       "      <td>12900.0</td>\n",
       "      <td>14259.0</td>\n",
       "      <td>590.0</td>\n",
       "      <td>1.0</td>\n",
       "      <td>296.0</td>\n",
       "      <td>1.0</td>\n",
       "      <td>2017-12-07</td>\n",
       "      <td>2</td>\n",
       "      <td>1</td>\n",
       "    </tr>\n",
       "    <tr>\n",
       "      <td>16</td>\n",
       "      <td>2017-11-23</td>\n",
       "      <td>397.0</td>\n",
       "      <td>134000.0</td>\n",
       "      <td>3</td>\n",
       "      <td>9.00</td>\n",
       "      <td>55.60</td>\n",
       "      <td>82.00</td>\n",
       "      <td>0.0</td>\n",
       "      <td>3.05</td>\n",
       "      <td>5.0</td>\n",
       "      <td>1</td>\n",
       "      <td>11</td>\n",
       "      <td>True</td>\n",
       "      <td>False</td>\n",
       "      <td>False</td>\n",
       "      <td>saint petersburg</td>\n",
       "      <td>22108.0</td>\n",
       "      <td>10698.0</td>\n",
       "      <td>420.0</td>\n",
       "      <td>3.0</td>\n",
       "      <td>NaN</td>\n",
       "      <td>0.0</td>\n",
       "      <td>2018-12-25</td>\n",
       "      <td>3</td>\n",
       "      <td>4</td>\n",
       "    </tr>\n",
       "    <tr>\n",
       "      <td>17</td>\n",
       "      <td>2016-09-09</td>\n",
       "      <td>571.0</td>\n",
       "      <td>83600.0</td>\n",
       "      <td>1</td>\n",
       "      <td>11.00</td>\n",
       "      <td>16.50</td>\n",
       "      <td>36.00</td>\n",
       "      <td>1.0</td>\n",
       "      <td>NaN</td>\n",
       "      <td>17.0</td>\n",
       "      <td>7</td>\n",
       "      <td>6</td>\n",
       "      <td>True</td>\n",
       "      <td>False</td>\n",
       "      <td>False</td>\n",
       "      <td>saint petersburg</td>\n",
       "      <td>33564.0</td>\n",
       "      <td>14616.0</td>\n",
       "      <td>NaN</td>\n",
       "      <td>0.0</td>\n",
       "      <td>859.0</td>\n",
       "      <td>1.0</td>\n",
       "      <td>2018-04-03</td>\n",
       "      <td>2</td>\n",
       "      <td>0</td>\n",
       "    </tr>\n",
       "    <tr>\n",
       "      <td>18</td>\n",
       "      <td>2017-01-27</td>\n",
       "      <td>168.0</td>\n",
       "      <td>65000.0</td>\n",
       "      <td>1</td>\n",
       "      <td>5.60</td>\n",
       "      <td>19.40</td>\n",
       "      <td>31.00</td>\n",
       "      <td>1.0</td>\n",
       "      <td>2.50</td>\n",
       "      <td>5.0</td>\n",
       "      <td>2</td>\n",
       "      <td>8</td>\n",
       "      <td>True</td>\n",
       "      <td>False</td>\n",
       "      <td>False</td>\n",
       "      <td>saint petersburg</td>\n",
       "      <td>44060.0</td>\n",
       "      <td>10842.0</td>\n",
       "      <td>759.0</td>\n",
       "      <td>1.0</td>\n",
       "      <td>NaN</td>\n",
       "      <td>0.0</td>\n",
       "      <td>2017-07-14</td>\n",
       "      <td>1</td>\n",
       "      <td>0</td>\n",
       "    </tr>\n",
       "    <tr>\n",
       "      <td>19</td>\n",
       "      <td>2019-01-09</td>\n",
       "      <td>97.0</td>\n",
       "      <td>284000.0</td>\n",
       "      <td>3</td>\n",
       "      <td>12.00</td>\n",
       "      <td>76.00</td>\n",
       "      <td>121.00</td>\n",
       "      <td>0.0</td>\n",
       "      <td>2.75</td>\n",
       "      <td>16.0</td>\n",
       "      <td>8</td>\n",
       "      <td>16</td>\n",
       "      <td>True</td>\n",
       "      <td>False</td>\n",
       "      <td>False</td>\n",
       "      <td>saint petersburg</td>\n",
       "      <td>38900.0</td>\n",
       "      <td>12843.0</td>\n",
       "      <td>NaN</td>\n",
       "      <td>0.0</td>\n",
       "      <td>NaN</td>\n",
       "      <td>0.0</td>\n",
       "      <td>2019-04-16</td>\n",
       "      <td>4</td>\n",
       "      <td>4</td>\n",
       "    </tr>\n",
       "  </tbody>\n",
       "</table>\n",
       "</div>"
      ],
      "text/plain": [
       "   date_posted  days_listed  last_price  bedrooms  kitchen_area  living_area  \\\n",
       "0   2019-03-07          NaN    260000.0         3         25.00        51.00   \n",
       "1   2018-12-04         81.0     67000.0         1         11.00        18.60   \n",
       "2   2015-08-20        558.0    103920.0         2          8.30        34.30   \n",
       "3   2015-07-24        424.0   1298000.0         3           NaN          NaN   \n",
       "4   2018-06-19        121.0    200000.0         2         41.00        32.00   \n",
       "5   2018-09-10         55.0     57800.0         1          9.10        14.40   \n",
       "6   2017-11-02        155.0     74000.0         1         14.40        10.60   \n",
       "7   2019-04-18          NaN    158300.0         2         18.90          NaN   \n",
       "8   2018-05-23        189.0     58000.0         1          8.81        15.43   \n",
       "9   2017-02-26        289.0    108000.0         3          6.50        43.60   \n",
       "10  2017-11-16        137.0    101000.0         1          8.50        20.30   \n",
       "11  2018-08-27          7.0     66000.0         2          6.00        31.00   \n",
       "12  2016-06-30         90.0     77800.0         2          9.00        30.00   \n",
       "13  2017-07-01        366.0     71000.0         2          5.20        27.00   \n",
       "14  2016-06-23        203.0     88000.0         1          8.00        17.00   \n",
       "15  2017-11-18         19.0     93000.0         1          7.60        20.50   \n",
       "16  2017-11-23        397.0    134000.0         3          9.00        55.60   \n",
       "17  2016-09-09        571.0     83600.0         1         11.00        16.50   \n",
       "18  2017-01-27        168.0     65000.0         1          5.60        19.40   \n",
       "19  2019-01-09         97.0    284000.0         3         12.00        76.00   \n",
       "\n",
       "    total_area  balconies  ceiling_height  floors_total  floor  total_images  \\\n",
       "0       108.00        0.0            2.70          16.0      8            20   \n",
       "1        40.40        2.0             NaN          11.0      1             7   \n",
       "2        56.00        0.0             NaN           5.0      4            10   \n",
       "3       159.00        0.0             NaN          14.0      9             0   \n",
       "4       100.00        0.0            3.03          14.0     13             2   \n",
       "5        30.40        0.0             NaN          12.0      5            10   \n",
       "6        37.30        1.0             NaN          26.0      6             6   \n",
       "7        71.60        2.0             NaN          24.0     22             5   \n",
       "8        33.16        0.0             NaN          27.0     26            20   \n",
       "9        61.00        2.0            2.50           9.0      7            18   \n",
       "10       39.60        0.0            2.67          12.0      3             5   \n",
       "11       44.00        1.0             NaN           5.0      4             9   \n",
       "12       54.00        0.0             NaN           5.0      5            10   \n",
       "13       42.80        1.0            2.56           5.0      5            20   \n",
       "14       36.00        0.0             NaN           6.0      1             1   \n",
       "15       39.00        1.0             NaN          14.0      5            16   \n",
       "16       82.00        0.0            3.05           5.0      1            11   \n",
       "17       36.00        1.0             NaN          17.0      7             6   \n",
       "18       31.00        1.0            2.50           5.0      2             8   \n",
       "19      121.00        0.0            2.75          16.0      8            16   \n",
       "\n",
       "    bike_parking  is_studio  is_open_plan      locality_name  airport_dist  \\\n",
       "0           True      False         False   saint petersburg       18863.0   \n",
       "1           True      False         False   shushary village       12817.0   \n",
       "2           True      False         False   saint petersburg       21741.0   \n",
       "3           True      False         False   saint petersburg       28098.0   \n",
       "4           True      False         False   saint petersburg       31856.0   \n",
       "5           True      False         False   yanino-1 village           NaN   \n",
       "6           True      False         False  pargolovo village       52996.0   \n",
       "7           True      False         False   saint petersburg       23982.0   \n",
       "8           True      False         False     murino village           NaN   \n",
       "9           True      False         False   saint petersburg       50898.0   \n",
       "10          True      False         False   saint petersburg       38357.0   \n",
       "11         False      False         False          lomonosov       48252.0   \n",
       "12          True      False         False          sertolovo           NaN   \n",
       "13          True      False         False           petergof       37868.0   \n",
       "14          True      False         False            pushkin       20782.0   \n",
       "15          True      False         False   saint petersburg       12900.0   \n",
       "16          True      False         False   saint petersburg       22108.0   \n",
       "17          True      False         False   saint petersburg       33564.0   \n",
       "18          True      False         False   saint petersburg       44060.0   \n",
       "19          True      False         False   saint petersburg       38900.0   \n",
       "\n",
       "    city_center_dist  park_dist  parks_within_3000  pond_dist  \\\n",
       "0            16028.0      482.0                1.0      755.0   \n",
       "1            18603.0        NaN                0.0        NaN   \n",
       "2            13933.0       90.0                1.0      574.0   \n",
       "3             6800.0       84.0                2.0      234.0   \n",
       "4             8098.0      112.0                2.0       48.0   \n",
       "5                NaN        NaN                NaN        NaN   \n",
       "6            19143.0        NaN                0.0        NaN   \n",
       "7            11634.0        NaN                0.0        NaN   \n",
       "8                NaN        NaN                NaN        NaN   \n",
       "9            15008.0        NaN                0.0        NaN   \n",
       "10           13878.0      310.0                1.0      553.0   \n",
       "11           51677.0        NaN                0.0        NaN   \n",
       "12               NaN        NaN                NaN        NaN   \n",
       "13           33058.0      294.0                1.0      298.0   \n",
       "14           30759.0        NaN                0.0       96.0   \n",
       "15           14259.0      590.0                1.0      296.0   \n",
       "16           10698.0      420.0                3.0        NaN   \n",
       "17           14616.0        NaN                0.0      859.0   \n",
       "18           10842.0      759.0                1.0        NaN   \n",
       "19           12843.0        NaN                0.0        NaN   \n",
       "\n",
       "    ponds_within_3000 date_removed  last_price_level  total_area_level  \n",
       "0                 2.0          NaT                 4                 4  \n",
       "1                 0.0   2019-02-23                 1                 1  \n",
       "2                 2.0   2017-02-28                 2                 2  \n",
       "3                 3.0   2016-09-20                 4                 4  \n",
       "4                 1.0   2018-10-18                 4                 4  \n",
       "5                 NaN   2018-11-04                 0                 0  \n",
       "6                 0.0   2018-04-06                 1                 0  \n",
       "7                 0.0          NaT                 4                 3  \n",
       "8                 NaN   2018-11-28                 0                 0  \n",
       "9                 0.0   2017-12-12                 3                 3  \n",
       "10                2.0   2018-04-02                 2                 1  \n",
       "11                0.0   2018-09-03                 1                 1  \n",
       "12                NaN   2016-09-28                 1                 2  \n",
       "13                3.0   2018-07-02                 1                 1  \n",
       "14                1.0   2017-01-12                 2                 0  \n",
       "15                1.0   2017-12-07                 2                 1  \n",
       "16                0.0   2018-12-25                 3                 4  \n",
       "17                1.0   2018-04-03                 2                 0  \n",
       "18                0.0   2017-07-14                 1                 0  \n",
       "19                0.0   2019-04-16                 4                 4  "
      ]
     },
     "execution_count": 12,
     "metadata": {},
     "output_type": "execute_result"
    }
   ],
   "source": [
    "#Impute missing values using mean or median depdent on their distribution (normal distribution: mean, non-normal: median) \n",
    "#and the sub-group that they belong to\n",
    "df['locality_name'].value_counts() #326 locality names\n",
    "df['bedrooms'].value_counts() #1-15 rooms\n",
    "    \n",
    "#Group 'last_price' to 'last_price_level': divide 'last_price' into 5 quantiles\n",
    "df['last_price_level'] = pd.qcut(df['last_price'], q=5, labels=False)\n",
    "\n",
    "#Group 'total_area' to 'total_area_level': divide 'total_area' into 5 quantiles\n",
    "df['total_area_level'] = pd.qcut(df['total_area'], q=5,labels=False)\n",
    "\n",
    "df.head(20)"
   ]
  },
  {
   "cell_type": "code",
   "execution_count": 13,
   "metadata": {},
   "outputs": [
    {
     "data": {
      "text/html": [
       "<div>\n",
       "<style scoped>\n",
       "    .dataframe tbody tr th:only-of-type {\n",
       "        vertical-align: middle;\n",
       "    }\n",
       "\n",
       "    .dataframe tbody tr th {\n",
       "        vertical-align: top;\n",
       "    }\n",
       "\n",
       "    .dataframe thead th {\n",
       "        text-align: right;\n",
       "    }\n",
       "</style>\n",
       "<table border=\"1\" class=\"dataframe\">\n",
       "  <thead>\n",
       "    <tr style=\"text-align: right;\">\n",
       "      <th></th>\n",
       "      <th>date_posted</th>\n",
       "      <th>days_listed</th>\n",
       "      <th>last_price</th>\n",
       "      <th>bedrooms</th>\n",
       "      <th>kitchen_area</th>\n",
       "      <th>living_area</th>\n",
       "      <th>total_area</th>\n",
       "      <th>balconies</th>\n",
       "      <th>ceiling_height</th>\n",
       "      <th>floors_total</th>\n",
       "      <th>floor</th>\n",
       "      <th>total_images</th>\n",
       "      <th>bike_parking</th>\n",
       "      <th>is_studio</th>\n",
       "      <th>is_open_plan</th>\n",
       "      <th>locality_name</th>\n",
       "      <th>airport_dist</th>\n",
       "      <th>city_center_dist</th>\n",
       "      <th>park_dist</th>\n",
       "      <th>parks_within_3000</th>\n",
       "      <th>pond_dist</th>\n",
       "      <th>ponds_within_3000</th>\n",
       "      <th>date_removed</th>\n",
       "      <th>last_price_level</th>\n",
       "      <th>total_area_level</th>\n",
       "    </tr>\n",
       "  </thead>\n",
       "  <tbody>\n",
       "  </tbody>\n",
       "</table>\n",
       "</div>"
      ],
      "text/plain": [
       "Empty DataFrame\n",
       "Columns: [date_posted, days_listed, last_price, bedrooms, kitchen_area, living_area, total_area, balconies, ceiling_height, floors_total, floor, total_images, bike_parking, is_studio, is_open_plan, locality_name, airport_dist, city_center_dist, park_dist, parks_within_3000, pond_dist, ponds_within_3000, date_removed, last_price_level, total_area_level]\n",
       "Index: []"
      ]
     },
     "execution_count": 13,
     "metadata": {},
     "output_type": "execute_result"
    }
   ],
   "source": [
    "df[df['living_area'] >= df['total_area']]\n",
    "#There are two houses that have 'living_area' = 'total_area'\n",
    "df[df['kitchen_area'] >= df['total_area']]\n",
    "#There are no houses that have 'kitchen_area' = 'total_area'"
   ]
  },
  {
   "cell_type": "code",
   "execution_count": 14,
   "metadata": {},
   "outputs": [
    {
     "data": {
      "text/plain": [
       "date_posted          0.000000\n",
       "locality_name        0.000000\n",
       "is_open_plan         0.000000\n",
       "is_studio            0.000000\n",
       "last_price_level     0.000000\n",
       "total_images         0.000000\n",
       "floor                0.000000\n",
       "floors_total         0.000000\n",
       "bike_parking         0.000000\n",
       "balconies            0.000000\n",
       "total_area           0.000000\n",
       "living_area          0.000000\n",
       "kitchen_area         0.000000\n",
       "bedrooms             0.000000\n",
       "last_price           0.000000\n",
       "ceiling_height       0.000000\n",
       "total_area_level     0.000000\n",
       "days_listed          0.134564\n",
       "date_removed         0.134564\n",
       "parks_within_3000    0.233397\n",
       "ponds_within_3000    0.233397\n",
       "city_center_dist     0.233439\n",
       "airport_dist         0.234415\n",
       "pond_dist            0.616550\n",
       "park_dist            0.659240\n",
       "dtype: float64"
      ]
     },
     "execution_count": 14,
     "metadata": {},
     "output_type": "execute_result"
    }
   ],
   "source": [
    "#Variables relating to the house itself, might choose group_by \"total_area_level\"\n",
    "df['living_area'] = df['living_area'].fillna(df.groupby('total_area_level')['living_area'].transform('median'))\n",
    "df['kitchen_area'] = df['kitchen_area'].fillna(df.groupby('total_area_level')['kitchen_area'].transform('median'))\n",
    "df['ceiling_height'] = df['ceiling_height'].fillna(df.groupby('total_area_level')['ceiling_height'].transform('mean'))\n",
    "\n",
    "df.isnull().mean().sort_values()"
   ]
  },
  {
   "cell_type": "code",
   "execution_count": 15,
   "metadata": {},
   "outputs": [
    {
     "data": {
      "text/html": [
       "<div>\n",
       "<style scoped>\n",
       "    .dataframe tbody tr th:only-of-type {\n",
       "        vertical-align: middle;\n",
       "    }\n",
       "\n",
       "    .dataframe tbody tr th {\n",
       "        vertical-align: top;\n",
       "    }\n",
       "\n",
       "    .dataframe thead th {\n",
       "        text-align: right;\n",
       "    }\n",
       "</style>\n",
       "<table border=\"1\" class=\"dataframe\">\n",
       "  <thead>\n",
       "    <tr style=\"text-align: right;\">\n",
       "      <th></th>\n",
       "      <th>date_posted</th>\n",
       "      <th>days_listed</th>\n",
       "      <th>last_price</th>\n",
       "      <th>bedrooms</th>\n",
       "      <th>kitchen_area</th>\n",
       "      <th>living_area</th>\n",
       "      <th>total_area</th>\n",
       "      <th>balconies</th>\n",
       "      <th>ceiling_height</th>\n",
       "      <th>floors_total</th>\n",
       "      <th>floor</th>\n",
       "      <th>total_images</th>\n",
       "      <th>bike_parking</th>\n",
       "      <th>is_studio</th>\n",
       "      <th>is_open_plan</th>\n",
       "      <th>locality_name</th>\n",
       "      <th>airport_dist</th>\n",
       "      <th>city_center_dist</th>\n",
       "      <th>park_dist</th>\n",
       "      <th>parks_within_3000</th>\n",
       "      <th>pond_dist</th>\n",
       "      <th>ponds_within_3000</th>\n",
       "      <th>date_removed</th>\n",
       "      <th>last_price_level</th>\n",
       "      <th>total_area_level</th>\n",
       "    </tr>\n",
       "  </thead>\n",
       "  <tbody>\n",
       "  </tbody>\n",
       "</table>\n",
       "</div>"
      ],
      "text/plain": [
       "Empty DataFrame\n",
       "Columns: [date_posted, days_listed, last_price, bedrooms, kitchen_area, living_area, total_area, balconies, ceiling_height, floors_total, floor, total_images, bike_parking, is_studio, is_open_plan, locality_name, airport_dist, city_center_dist, park_dist, parks_within_3000, pond_dist, ponds_within_3000, date_removed, last_price_level, total_area_level]\n",
       "Index: []"
      ]
     },
     "execution_count": 15,
     "metadata": {},
     "output_type": "execute_result"
    }
   ],
   "source": [
    "#Check if there is any living/kitchen area >= total_area\n",
    "#living_area\n",
    "df[df['living_area'] > df['total_area']]\n",
    "\n",
    "#Fix the rows that have living_area > total area \n",
    "#by replacing the current living_area with the difference between total_area and kitchen_area\n",
    "df['living_area'] = df['living_area'].where(df['living_area'] <= df['total_area'], df['total_area'] - df['kitchen_area'])\n",
    "\n",
    "df[df['living_area'] > df['total_area']] #No observations - Done\n",
    "\n",
    "#kitchen_area\n",
    "df[df['kitchen_area'] > df['total_area']] #No observations - No need to do anything"
   ]
  },
  {
   "cell_type": "code",
   "execution_count": 16,
   "metadata": {},
   "outputs": [
    {
     "data": {
      "text/plain": [
       "9029"
      ]
     },
     "execution_count": 16,
     "metadata": {},
     "output_type": "execute_result"
    }
   ],
   "source": [
    "#Investigate the nature of missing values from pond_dist column\n",
    "#Does it depend on \"ponds_within_3000\": hypothesis: pond_dist will be NaN if ponds_within_3000 is null or is 0\n",
    "len(df.query('ponds_within_3000.isnull() & pond_dist.isnull()')) #5500\n",
    "len(df.query('ponds_within_3000 ==0 & pond_dist.isnull()')) #9029\n",
    "df['pond_dist'].isnull().sum() #14529 = 5500+9029 --> hypothesis confirmed!\n",
    "\n",
    "#Therefore, if ponds_within_3000 = 0 --> leave missing values in pond_dist as they are\n",
    "\n",
    "#Impute missing value for ponds_within_3000 using  the mean of the column\n",
    "df['ponds_within_3000'] = df['ponds_within_3000'].fillna((df['ponds_within_3000'].median()))\n",
    "df['ponds_within_3000'].isnull().sum()\n",
    "\n",
    "len(df[df['ponds_within_3000'] ==0]) #9029 --> there will be 9029 NA values in pond_dist"
   ]
  },
  {
   "cell_type": "code",
   "execution_count": 17,
   "metadata": {},
   "outputs": [
    {
     "data": {
      "text/plain": [
       "9029"
      ]
     },
     "execution_count": 17,
     "metadata": {},
     "output_type": "execute_result"
    }
   ],
   "source": [
    "#Impute missing values for pond_dist based on ponds_within_3000\n",
    "df['pond_dist'] = df['pond_dist'].fillna(df.groupby('ponds_within_3000')['pond_dist'].transform('mean'))\n",
    "df['pond_dist'].isnull().sum() #9029 - correct! - leave these missing values as they are"
   ]
  },
  {
   "cell_type": "code",
   "execution_count": 18,
   "metadata": {},
   "outputs": [
    {
     "data": {
      "text/html": [
       "<div>\n",
       "<style scoped>\n",
       "    .dataframe tbody tr th:only-of-type {\n",
       "        vertical-align: middle;\n",
       "    }\n",
       "\n",
       "    .dataframe tbody tr th {\n",
       "        vertical-align: top;\n",
       "    }\n",
       "\n",
       "    .dataframe thead th {\n",
       "        text-align: right;\n",
       "    }\n",
       "</style>\n",
       "<table border=\"1\" class=\"dataframe\">\n",
       "  <thead>\n",
       "    <tr style=\"text-align: right;\">\n",
       "      <th></th>\n",
       "      <th>date_posted</th>\n",
       "      <th>days_listed</th>\n",
       "      <th>last_price</th>\n",
       "      <th>bedrooms</th>\n",
       "      <th>kitchen_area</th>\n",
       "      <th>living_area</th>\n",
       "      <th>total_area</th>\n",
       "      <th>balconies</th>\n",
       "      <th>ceiling_height</th>\n",
       "      <th>floors_total</th>\n",
       "      <th>floor</th>\n",
       "      <th>total_images</th>\n",
       "      <th>bike_parking</th>\n",
       "      <th>is_studio</th>\n",
       "      <th>is_open_plan</th>\n",
       "      <th>locality_name</th>\n",
       "      <th>airport_dist</th>\n",
       "      <th>city_center_dist</th>\n",
       "      <th>park_dist</th>\n",
       "      <th>parks_within_3000</th>\n",
       "      <th>pond_dist</th>\n",
       "      <th>ponds_within_3000</th>\n",
       "      <th>date_removed</th>\n",
       "      <th>last_price_level</th>\n",
       "      <th>total_area_level</th>\n",
       "    </tr>\n",
       "  </thead>\n",
       "  <tbody>\n",
       "  </tbody>\n",
       "</table>\n",
       "</div>"
      ],
      "text/plain": [
       "Empty DataFrame\n",
       "Columns: [date_posted, days_listed, last_price, bedrooms, kitchen_area, living_area, total_area, balconies, ceiling_height, floors_total, floor, total_images, bike_parking, is_studio, is_open_plan, locality_name, airport_dist, city_center_dist, park_dist, parks_within_3000, pond_dist, ponds_within_3000, date_removed, last_price_level, total_area_level]\n",
       "Index: []"
      ]
     },
     "execution_count": 18,
     "metadata": {},
     "output_type": "execute_result"
    }
   ],
   "source": [
    "df.query('ponds_within_3000 != 0 & pond_dist.isnull()')"
   ]
  },
  {
   "cell_type": "code",
   "execution_count": 19,
   "metadata": {},
   "outputs": [
    {
     "data": {
      "text/plain": [
       "0"
      ]
     },
     "execution_count": 19,
     "metadata": {},
     "output_type": "execute_result"
    }
   ],
   "source": [
    "#Investigate the nature of missing values from park_dist column\n",
    "#Does it depend on \"parks_within_3000\": hypothesis: park_dist will be NaN if parks_within_3000 is null or is 0\n",
    "len(df.query('parks_within_3000.isnull() & park_dist.isnull()')) #5500\n",
    "len(df.query('parks_within_3000 ==0 & park_dist.isnull()')) #10035\n",
    "df['park_dist'].isnull().sum() #15535 = 5500+10035 --> hypothesis confirmed! In addition, there are parks outside 3000m, these parks still have distance though the parks_within_3000 =0\n",
    "\n",
    "#Therefore, if parks_within_3000 = 0 --> leave missing values in park_dist as they are\n",
    "\n",
    "#Impute missing value for ponds_within_3000 using  the mean of the column\n",
    "df['parks_within_3000'] = df['parks_within_3000'].fillna((df['parks_within_3000'].median()))\n",
    "df['parks_within_3000'].isnull().sum()\n",
    "\n",
    "len(df[df['parks_within_3000'] ==0]) #15539 --> there will be 15539 NA values in pond_dist\n",
    "\n",
    "#Impute missing values for pond_dist based on ponds_within_3000\n",
    "df['park_dist'] = df['park_dist'].fillna(df.groupby('parks_within_3000')['park_dist'].transform('median'))\n",
    "\n",
    "df['park_dist'].isnull().sum() \n",
    "len(df.query('parks_within_3000 ==0 & park_dist.isnull()')) #0, because when the number of parks within 3000=0, then the mean of the distance >3000 will be imputed and replaced with NAs"
   ]
  },
  {
   "cell_type": "code",
   "execution_count": 20,
   "metadata": {},
   "outputs": [
    {
     "data": {
      "text/plain": [
       "date_posted             0\n",
       "days_listed          3171\n",
       "last_price              0\n",
       "bedrooms                0\n",
       "kitchen_area            0\n",
       "living_area             0\n",
       "total_area              0\n",
       "balconies               0\n",
       "ceiling_height          0\n",
       "floors_total            0\n",
       "floor                   0\n",
       "total_images            0\n",
       "bike_parking            0\n",
       "is_studio               0\n",
       "is_open_plan            0\n",
       "locality_name           0\n",
       "airport_dist            0\n",
       "city_center_dist        0\n",
       "park_dist               0\n",
       "parks_within_3000       0\n",
       "pond_dist            9029\n",
       "ponds_within_3000       0\n",
       "date_removed         3171\n",
       "last_price_level        0\n",
       "total_area_level        0\n",
       "dtype: int64"
      ]
     },
     "execution_count": 20,
     "metadata": {},
     "output_type": "execute_result"
    }
   ],
   "source": [
    "#Impute missing values for city_center_dist and airport_dist\n",
    "#Investigate correlation between city_center_dist and last_price\n",
    "df['city_center_dist'].corr(df['last_price']) #-0.21\n",
    "\n",
    "#Impute missing values for city_center_dist and airport_dist based on last_price_level\n",
    "df['city_center_dist'] = df['city_center_dist'].fillna(df.groupby('last_price_level')['city_center_dist'].transform('median'))\n",
    "df['airport_dist'] = df['airport_dist'].fillna(df.groupby('last_price_level')['airport_dist'].transform('median'))\n",
    "\n",
    "df[['park_dist','airport_dist']].isnull().sum() \n",
    "\n",
    "df.isnull().sum()"
   ]
  },
  {
   "cell_type": "markdown",
   "metadata": {},
   "source": [
    "## Conclusion\n",
    "Done with imputing missing values for kitchen_area, living_area, ceiling_height, balconies, air_port_dist, city_center_dist, ponds_within_3000, parks_within_3000, pond_dist, park_dist.\n",
    "\n",
    "Drop observations of columns that have <5% missing values: locality_name, floors_total\n",
    "\n",
    "Leave the missing values as they are for the 2 columns: bike_parking, days_listed"
   ]
  },
  {
   "cell_type": "markdown",
   "metadata": {},
   "source": [
    "### Step 3. Make calculations and add them to the table"
   ]
  },
  {
   "cell_type": "markdown",
   "metadata": {},
   "source": [
    "List of items to calculate:\n",
    "- the price per square meter\n",
    "- the day of the week, month, and year that the ad was published\n",
    "- which floor the apartment is on (first, last, or other)\n",
    "- the ratio between the living space and the total area, as well as between the kitchen space and the total area."
   ]
  },
  {
   "cell_type": "markdown",
   "metadata": {},
   "source": [
    "### 3.1. Price per square meter"
   ]
  },
  {
   "cell_type": "code",
   "execution_count": 21,
   "metadata": {},
   "outputs": [
    {
     "data": {
      "text/html": [
       "<div>\n",
       "<style scoped>\n",
       "    .dataframe tbody tr th:only-of-type {\n",
       "        vertical-align: middle;\n",
       "    }\n",
       "\n",
       "    .dataframe tbody tr th {\n",
       "        vertical-align: top;\n",
       "    }\n",
       "\n",
       "    .dataframe thead th {\n",
       "        text-align: right;\n",
       "    }\n",
       "</style>\n",
       "<table border=\"1\" class=\"dataframe\">\n",
       "  <thead>\n",
       "    <tr style=\"text-align: right;\">\n",
       "      <th></th>\n",
       "      <th>date_posted</th>\n",
       "      <th>days_listed</th>\n",
       "      <th>last_price</th>\n",
       "      <th>bedrooms</th>\n",
       "      <th>kitchen_area</th>\n",
       "      <th>living_area</th>\n",
       "      <th>total_area</th>\n",
       "      <th>balconies</th>\n",
       "      <th>ceiling_height</th>\n",
       "      <th>floors_total</th>\n",
       "      <th>floor</th>\n",
       "      <th>total_images</th>\n",
       "      <th>bike_parking</th>\n",
       "      <th>is_studio</th>\n",
       "      <th>is_open_plan</th>\n",
       "      <th>locality_name</th>\n",
       "      <th>airport_dist</th>\n",
       "      <th>city_center_dist</th>\n",
       "      <th>park_dist</th>\n",
       "      <th>parks_within_3000</th>\n",
       "      <th>pond_dist</th>\n",
       "      <th>ponds_within_3000</th>\n",
       "      <th>date_removed</th>\n",
       "      <th>last_price_level</th>\n",
       "      <th>total_area_level</th>\n",
       "      <th>price_per_sm</th>\n",
       "    </tr>\n",
       "  </thead>\n",
       "  <tbody>\n",
       "    <tr>\n",
       "      <td>0</td>\n",
       "      <td>2019-03-07</td>\n",
       "      <td>NaN</td>\n",
       "      <td>260000.0</td>\n",
       "      <td>3</td>\n",
       "      <td>25.0</td>\n",
       "      <td>51.0</td>\n",
       "      <td>108.0</td>\n",
       "      <td>0.0</td>\n",
       "      <td>2.700000</td>\n",
       "      <td>16.0</td>\n",
       "      <td>8</td>\n",
       "      <td>20</td>\n",
       "      <td>True</td>\n",
       "      <td>False</td>\n",
       "      <td>False</td>\n",
       "      <td>saint petersburg</td>\n",
       "      <td>18863.0</td>\n",
       "      <td>16028.0</td>\n",
       "      <td>482.0</td>\n",
       "      <td>1.0</td>\n",
       "      <td>755.0</td>\n",
       "      <td>2.0</td>\n",
       "      <td>NaT</td>\n",
       "      <td>4</td>\n",
       "      <td>4</td>\n",
       "      <td>2407.407407</td>\n",
       "    </tr>\n",
       "    <tr>\n",
       "      <td>1</td>\n",
       "      <td>2018-12-04</td>\n",
       "      <td>81.0</td>\n",
       "      <td>67000.0</td>\n",
       "      <td>1</td>\n",
       "      <td>11.0</td>\n",
       "      <td>18.6</td>\n",
       "      <td>40.4</td>\n",
       "      <td>2.0</td>\n",
       "      <td>2.703423</td>\n",
       "      <td>11.0</td>\n",
       "      <td>1</td>\n",
       "      <td>7</td>\n",
       "      <td>True</td>\n",
       "      <td>False</td>\n",
       "      <td>False</td>\n",
       "      <td>shushary village</td>\n",
       "      <td>12817.0</td>\n",
       "      <td>18603.0</td>\n",
       "      <td>3127.0</td>\n",
       "      <td>0.0</td>\n",
       "      <td>NaN</td>\n",
       "      <td>0.0</td>\n",
       "      <td>2019-02-23</td>\n",
       "      <td>1</td>\n",
       "      <td>1</td>\n",
       "      <td>1658.415842</td>\n",
       "    </tr>\n",
       "    <tr>\n",
       "      <td>2</td>\n",
       "      <td>2015-08-20</td>\n",
       "      <td>558.0</td>\n",
       "      <td>103920.0</td>\n",
       "      <td>2</td>\n",
       "      <td>8.3</td>\n",
       "      <td>34.3</td>\n",
       "      <td>56.0</td>\n",
       "      <td>0.0</td>\n",
       "      <td>2.714223</td>\n",
       "      <td>5.0</td>\n",
       "      <td>4</td>\n",
       "      <td>10</td>\n",
       "      <td>True</td>\n",
       "      <td>False</td>\n",
       "      <td>False</td>\n",
       "      <td>saint petersburg</td>\n",
       "      <td>21741.0</td>\n",
       "      <td>13933.0</td>\n",
       "      <td>90.0</td>\n",
       "      <td>1.0</td>\n",
       "      <td>574.0</td>\n",
       "      <td>2.0</td>\n",
       "      <td>2017-02-28</td>\n",
       "      <td>2</td>\n",
       "      <td>2</td>\n",
       "      <td>1855.714286</td>\n",
       "    </tr>\n",
       "    <tr>\n",
       "      <td>3</td>\n",
       "      <td>2015-07-24</td>\n",
       "      <td>424.0</td>\n",
       "      <td>1298000.0</td>\n",
       "      <td>3</td>\n",
       "      <td>14.0</td>\n",
       "      <td>55.0</td>\n",
       "      <td>159.0</td>\n",
       "      <td>0.0</td>\n",
       "      <td>3.001081</td>\n",
       "      <td>14.0</td>\n",
       "      <td>9</td>\n",
       "      <td>0</td>\n",
       "      <td>True</td>\n",
       "      <td>False</td>\n",
       "      <td>False</td>\n",
       "      <td>saint petersburg</td>\n",
       "      <td>28098.0</td>\n",
       "      <td>6800.0</td>\n",
       "      <td>84.0</td>\n",
       "      <td>2.0</td>\n",
       "      <td>234.0</td>\n",
       "      <td>3.0</td>\n",
       "      <td>2016-09-20</td>\n",
       "      <td>4</td>\n",
       "      <td>4</td>\n",
       "      <td>8163.522013</td>\n",
       "    </tr>\n",
       "    <tr>\n",
       "      <td>4</td>\n",
       "      <td>2018-06-19</td>\n",
       "      <td>121.0</td>\n",
       "      <td>200000.0</td>\n",
       "      <td>2</td>\n",
       "      <td>41.0</td>\n",
       "      <td>32.0</td>\n",
       "      <td>100.0</td>\n",
       "      <td>0.0</td>\n",
       "      <td>3.030000</td>\n",
       "      <td>14.0</td>\n",
       "      <td>13</td>\n",
       "      <td>2</td>\n",
       "      <td>True</td>\n",
       "      <td>False</td>\n",
       "      <td>False</td>\n",
       "      <td>saint petersburg</td>\n",
       "      <td>31856.0</td>\n",
       "      <td>8098.0</td>\n",
       "      <td>112.0</td>\n",
       "      <td>2.0</td>\n",
       "      <td>48.0</td>\n",
       "      <td>1.0</td>\n",
       "      <td>2018-10-18</td>\n",
       "      <td>4</td>\n",
       "      <td>4</td>\n",
       "      <td>2000.000000</td>\n",
       "    </tr>\n",
       "  </tbody>\n",
       "</table>\n",
       "</div>"
      ],
      "text/plain": [
       "  date_posted  days_listed  last_price  bedrooms  kitchen_area  living_area  \\\n",
       "0  2019-03-07          NaN    260000.0         3          25.0         51.0   \n",
       "1  2018-12-04         81.0     67000.0         1          11.0         18.6   \n",
       "2  2015-08-20        558.0    103920.0         2           8.3         34.3   \n",
       "3  2015-07-24        424.0   1298000.0         3          14.0         55.0   \n",
       "4  2018-06-19        121.0    200000.0         2          41.0         32.0   \n",
       "\n",
       "   total_area  balconies  ceiling_height  floors_total  floor  total_images  \\\n",
       "0       108.0        0.0        2.700000          16.0      8            20   \n",
       "1        40.4        2.0        2.703423          11.0      1             7   \n",
       "2        56.0        0.0        2.714223           5.0      4            10   \n",
       "3       159.0        0.0        3.001081          14.0      9             0   \n",
       "4       100.0        0.0        3.030000          14.0     13             2   \n",
       "\n",
       "   bike_parking  is_studio  is_open_plan     locality_name  airport_dist  \\\n",
       "0          True      False         False  saint petersburg       18863.0   \n",
       "1          True      False         False  shushary village       12817.0   \n",
       "2          True      False         False  saint petersburg       21741.0   \n",
       "3          True      False         False  saint petersburg       28098.0   \n",
       "4          True      False         False  saint petersburg       31856.0   \n",
       "\n",
       "   city_center_dist  park_dist  parks_within_3000  pond_dist  \\\n",
       "0           16028.0      482.0                1.0      755.0   \n",
       "1           18603.0     3127.0                0.0        NaN   \n",
       "2           13933.0       90.0                1.0      574.0   \n",
       "3            6800.0       84.0                2.0      234.0   \n",
       "4            8098.0      112.0                2.0       48.0   \n",
       "\n",
       "   ponds_within_3000 date_removed  last_price_level  total_area_level  \\\n",
       "0                2.0          NaT                 4                 4   \n",
       "1                0.0   2019-02-23                 1                 1   \n",
       "2                2.0   2017-02-28                 2                 2   \n",
       "3                3.0   2016-09-20                 4                 4   \n",
       "4                1.0   2018-10-18                 4                 4   \n",
       "\n",
       "   price_per_sm  \n",
       "0   2407.407407  \n",
       "1   1658.415842  \n",
       "2   1855.714286  \n",
       "3   8163.522013  \n",
       "4   2000.000000  "
      ]
     },
     "execution_count": 21,
     "metadata": {},
     "output_type": "execute_result"
    }
   ],
   "source": [
    "df['price_per_sm'] = df['last_price']/df['total_area']\n",
    "df.head()"
   ]
  },
  {
   "cell_type": "markdown",
   "metadata": {},
   "source": [
    "### 3.2. Day of the week, month, and year that the ad was published"
   ]
  },
  {
   "cell_type": "code",
   "execution_count": 22,
   "metadata": {},
   "outputs": [
    {
     "data": {
      "text/html": [
       "<div>\n",
       "<style scoped>\n",
       "    .dataframe tbody tr th:only-of-type {\n",
       "        vertical-align: middle;\n",
       "    }\n",
       "\n",
       "    .dataframe tbody tr th {\n",
       "        vertical-align: top;\n",
       "    }\n",
       "\n",
       "    .dataframe thead th {\n",
       "        text-align: right;\n",
       "    }\n",
       "</style>\n",
       "<table border=\"1\" class=\"dataframe\">\n",
       "  <thead>\n",
       "    <tr style=\"text-align: right;\">\n",
       "      <th></th>\n",
       "      <th>date_posted</th>\n",
       "      <th>days_listed</th>\n",
       "      <th>last_price</th>\n",
       "      <th>bedrooms</th>\n",
       "      <th>kitchen_area</th>\n",
       "      <th>living_area</th>\n",
       "      <th>total_area</th>\n",
       "      <th>balconies</th>\n",
       "      <th>ceiling_height</th>\n",
       "      <th>floors_total</th>\n",
       "      <th>floor</th>\n",
       "      <th>total_images</th>\n",
       "      <th>bike_parking</th>\n",
       "      <th>is_studio</th>\n",
       "      <th>is_open_plan</th>\n",
       "      <th>locality_name</th>\n",
       "      <th>airport_dist</th>\n",
       "      <th>city_center_dist</th>\n",
       "      <th>park_dist</th>\n",
       "      <th>parks_within_3000</th>\n",
       "      <th>pond_dist</th>\n",
       "      <th>ponds_within_3000</th>\n",
       "      <th>date_removed</th>\n",
       "      <th>last_price_level</th>\n",
       "      <th>total_area_level</th>\n",
       "      <th>price_per_sm</th>\n",
       "      <th>ad_weekday</th>\n",
       "      <th>ad_month</th>\n",
       "      <th>ad_year</th>\n",
       "    </tr>\n",
       "  </thead>\n",
       "  <tbody>\n",
       "    <tr>\n",
       "      <td>0</td>\n",
       "      <td>2019-03-07</td>\n",
       "      <td>NaN</td>\n",
       "      <td>260000.0</td>\n",
       "      <td>3</td>\n",
       "      <td>25.0</td>\n",
       "      <td>51.0</td>\n",
       "      <td>108.0</td>\n",
       "      <td>0.0</td>\n",
       "      <td>2.700000</td>\n",
       "      <td>16.0</td>\n",
       "      <td>8</td>\n",
       "      <td>20</td>\n",
       "      <td>True</td>\n",
       "      <td>False</td>\n",
       "      <td>False</td>\n",
       "      <td>saint petersburg</td>\n",
       "      <td>18863.0</td>\n",
       "      <td>16028.0</td>\n",
       "      <td>482.0</td>\n",
       "      <td>1.0</td>\n",
       "      <td>755.0</td>\n",
       "      <td>2.0</td>\n",
       "      <td>NaT</td>\n",
       "      <td>4</td>\n",
       "      <td>4</td>\n",
       "      <td>2407.407407</td>\n",
       "      <td>3</td>\n",
       "      <td>3</td>\n",
       "      <td>2019</td>\n",
       "    </tr>\n",
       "    <tr>\n",
       "      <td>1</td>\n",
       "      <td>2018-12-04</td>\n",
       "      <td>81.0</td>\n",
       "      <td>67000.0</td>\n",
       "      <td>1</td>\n",
       "      <td>11.0</td>\n",
       "      <td>18.6</td>\n",
       "      <td>40.4</td>\n",
       "      <td>2.0</td>\n",
       "      <td>2.703423</td>\n",
       "      <td>11.0</td>\n",
       "      <td>1</td>\n",
       "      <td>7</td>\n",
       "      <td>True</td>\n",
       "      <td>False</td>\n",
       "      <td>False</td>\n",
       "      <td>shushary village</td>\n",
       "      <td>12817.0</td>\n",
       "      <td>18603.0</td>\n",
       "      <td>3127.0</td>\n",
       "      <td>0.0</td>\n",
       "      <td>NaN</td>\n",
       "      <td>0.0</td>\n",
       "      <td>2019-02-23</td>\n",
       "      <td>1</td>\n",
       "      <td>1</td>\n",
       "      <td>1658.415842</td>\n",
       "      <td>1</td>\n",
       "      <td>12</td>\n",
       "      <td>2018</td>\n",
       "    </tr>\n",
       "    <tr>\n",
       "      <td>2</td>\n",
       "      <td>2015-08-20</td>\n",
       "      <td>558.0</td>\n",
       "      <td>103920.0</td>\n",
       "      <td>2</td>\n",
       "      <td>8.3</td>\n",
       "      <td>34.3</td>\n",
       "      <td>56.0</td>\n",
       "      <td>0.0</td>\n",
       "      <td>2.714223</td>\n",
       "      <td>5.0</td>\n",
       "      <td>4</td>\n",
       "      <td>10</td>\n",
       "      <td>True</td>\n",
       "      <td>False</td>\n",
       "      <td>False</td>\n",
       "      <td>saint petersburg</td>\n",
       "      <td>21741.0</td>\n",
       "      <td>13933.0</td>\n",
       "      <td>90.0</td>\n",
       "      <td>1.0</td>\n",
       "      <td>574.0</td>\n",
       "      <td>2.0</td>\n",
       "      <td>2017-02-28</td>\n",
       "      <td>2</td>\n",
       "      <td>2</td>\n",
       "      <td>1855.714286</td>\n",
       "      <td>3</td>\n",
       "      <td>8</td>\n",
       "      <td>2015</td>\n",
       "    </tr>\n",
       "    <tr>\n",
       "      <td>3</td>\n",
       "      <td>2015-07-24</td>\n",
       "      <td>424.0</td>\n",
       "      <td>1298000.0</td>\n",
       "      <td>3</td>\n",
       "      <td>14.0</td>\n",
       "      <td>55.0</td>\n",
       "      <td>159.0</td>\n",
       "      <td>0.0</td>\n",
       "      <td>3.001081</td>\n",
       "      <td>14.0</td>\n",
       "      <td>9</td>\n",
       "      <td>0</td>\n",
       "      <td>True</td>\n",
       "      <td>False</td>\n",
       "      <td>False</td>\n",
       "      <td>saint petersburg</td>\n",
       "      <td>28098.0</td>\n",
       "      <td>6800.0</td>\n",
       "      <td>84.0</td>\n",
       "      <td>2.0</td>\n",
       "      <td>234.0</td>\n",
       "      <td>3.0</td>\n",
       "      <td>2016-09-20</td>\n",
       "      <td>4</td>\n",
       "      <td>4</td>\n",
       "      <td>8163.522013</td>\n",
       "      <td>4</td>\n",
       "      <td>7</td>\n",
       "      <td>2015</td>\n",
       "    </tr>\n",
       "    <tr>\n",
       "      <td>4</td>\n",
       "      <td>2018-06-19</td>\n",
       "      <td>121.0</td>\n",
       "      <td>200000.0</td>\n",
       "      <td>2</td>\n",
       "      <td>41.0</td>\n",
       "      <td>32.0</td>\n",
       "      <td>100.0</td>\n",
       "      <td>0.0</td>\n",
       "      <td>3.030000</td>\n",
       "      <td>14.0</td>\n",
       "      <td>13</td>\n",
       "      <td>2</td>\n",
       "      <td>True</td>\n",
       "      <td>False</td>\n",
       "      <td>False</td>\n",
       "      <td>saint petersburg</td>\n",
       "      <td>31856.0</td>\n",
       "      <td>8098.0</td>\n",
       "      <td>112.0</td>\n",
       "      <td>2.0</td>\n",
       "      <td>48.0</td>\n",
       "      <td>1.0</td>\n",
       "      <td>2018-10-18</td>\n",
       "      <td>4</td>\n",
       "      <td>4</td>\n",
       "      <td>2000.000000</td>\n",
       "      <td>1</td>\n",
       "      <td>6</td>\n",
       "      <td>2018</td>\n",
       "    </tr>\n",
       "  </tbody>\n",
       "</table>\n",
       "</div>"
      ],
      "text/plain": [
       "  date_posted  days_listed  last_price  bedrooms  kitchen_area  living_area  \\\n",
       "0  2019-03-07          NaN    260000.0         3          25.0         51.0   \n",
       "1  2018-12-04         81.0     67000.0         1          11.0         18.6   \n",
       "2  2015-08-20        558.0    103920.0         2           8.3         34.3   \n",
       "3  2015-07-24        424.0   1298000.0         3          14.0         55.0   \n",
       "4  2018-06-19        121.0    200000.0         2          41.0         32.0   \n",
       "\n",
       "   total_area  balconies  ceiling_height  floors_total  floor  total_images  \\\n",
       "0       108.0        0.0        2.700000          16.0      8            20   \n",
       "1        40.4        2.0        2.703423          11.0      1             7   \n",
       "2        56.0        0.0        2.714223           5.0      4            10   \n",
       "3       159.0        0.0        3.001081          14.0      9             0   \n",
       "4       100.0        0.0        3.030000          14.0     13             2   \n",
       "\n",
       "   bike_parking  is_studio  is_open_plan     locality_name  airport_dist  \\\n",
       "0          True      False         False  saint petersburg       18863.0   \n",
       "1          True      False         False  shushary village       12817.0   \n",
       "2          True      False         False  saint petersburg       21741.0   \n",
       "3          True      False         False  saint petersburg       28098.0   \n",
       "4          True      False         False  saint petersburg       31856.0   \n",
       "\n",
       "   city_center_dist  park_dist  parks_within_3000  pond_dist  \\\n",
       "0           16028.0      482.0                1.0      755.0   \n",
       "1           18603.0     3127.0                0.0        NaN   \n",
       "2           13933.0       90.0                1.0      574.0   \n",
       "3            6800.0       84.0                2.0      234.0   \n",
       "4            8098.0      112.0                2.0       48.0   \n",
       "\n",
       "   ponds_within_3000 date_removed  last_price_level  total_area_level  \\\n",
       "0                2.0          NaT                 4                 4   \n",
       "1                0.0   2019-02-23                 1                 1   \n",
       "2                2.0   2017-02-28                 2                 2   \n",
       "3                3.0   2016-09-20                 4                 4   \n",
       "4                1.0   2018-10-18                 4                 4   \n",
       "\n",
       "   price_per_sm  ad_weekday  ad_month  ad_year  \n",
       "0   2407.407407           3         3     2019  \n",
       "1   1658.415842           1        12     2018  \n",
       "2   1855.714286           3         8     2015  \n",
       "3   8163.522013           4         7     2015  \n",
       "4   2000.000000           1         6     2018  "
      ]
     },
     "execution_count": 22,
     "metadata": {},
     "output_type": "execute_result"
    }
   ],
   "source": [
    "df['ad_weekday'] = df['date_posted'].dt.weekday #0: Mon, 1: Tue, 2: Wed, 3: Thu, 4: Fri, 5: Sat, 6: Sun\n",
    "df['ad_month'] = df['date_posted'].dt.month\n",
    "df['ad_year'] = df['date_posted'].dt.year\n",
    "df.head()"
   ]
  },
  {
   "cell_type": "markdown",
   "metadata": {},
   "source": [
    "### 3.3. Which floor the apartment is on (first, last, or other)"
   ]
  },
  {
   "cell_type": "code",
   "execution_count": 23,
   "metadata": {},
   "outputs": [
    {
     "data": {
      "text/html": [
       "<div>\n",
       "<style scoped>\n",
       "    .dataframe tbody tr th:only-of-type {\n",
       "        vertical-align: middle;\n",
       "    }\n",
       "\n",
       "    .dataframe tbody tr th {\n",
       "        vertical-align: top;\n",
       "    }\n",
       "\n",
       "    .dataframe thead th {\n",
       "        text-align: right;\n",
       "    }\n",
       "</style>\n",
       "<table border=\"1\" class=\"dataframe\">\n",
       "  <thead>\n",
       "    <tr style=\"text-align: right;\">\n",
       "      <th></th>\n",
       "      <th>date_posted</th>\n",
       "      <th>days_listed</th>\n",
       "      <th>last_price</th>\n",
       "      <th>bedrooms</th>\n",
       "      <th>kitchen_area</th>\n",
       "      <th>living_area</th>\n",
       "      <th>total_area</th>\n",
       "      <th>balconies</th>\n",
       "      <th>ceiling_height</th>\n",
       "      <th>floors_total</th>\n",
       "      <th>floor</th>\n",
       "      <th>total_images</th>\n",
       "      <th>bike_parking</th>\n",
       "      <th>is_studio</th>\n",
       "      <th>is_open_plan</th>\n",
       "      <th>locality_name</th>\n",
       "      <th>airport_dist</th>\n",
       "      <th>city_center_dist</th>\n",
       "      <th>park_dist</th>\n",
       "      <th>parks_within_3000</th>\n",
       "      <th>pond_dist</th>\n",
       "      <th>ponds_within_3000</th>\n",
       "      <th>date_removed</th>\n",
       "      <th>last_price_level</th>\n",
       "      <th>total_area_level</th>\n",
       "      <th>price_per_sm</th>\n",
       "      <th>ad_weekday</th>\n",
       "      <th>ad_month</th>\n",
       "      <th>ad_year</th>\n",
       "      <th>floor_topbot</th>\n",
       "    </tr>\n",
       "  </thead>\n",
       "  <tbody>\n",
       "    <tr>\n",
       "      <td>12</td>\n",
       "      <td>2016-06-30</td>\n",
       "      <td>90.0</td>\n",
       "      <td>77800.0</td>\n",
       "      <td>2</td>\n",
       "      <td>9.0</td>\n",
       "      <td>30.0</td>\n",
       "      <td>54.0</td>\n",
       "      <td>0.0</td>\n",
       "      <td>2.714223</td>\n",
       "      <td>5.0</td>\n",
       "      <td>5</td>\n",
       "      <td>10</td>\n",
       "      <td>True</td>\n",
       "      <td>False</td>\n",
       "      <td>False</td>\n",
       "      <td>sertolovo</td>\n",
       "      <td>26711.0</td>\n",
       "      <td>14816.0</td>\n",
       "      <td>3127.0</td>\n",
       "      <td>0.0</td>\n",
       "      <td>586.871424</td>\n",
       "      <td>1.0</td>\n",
       "      <td>2016-09-28</td>\n",
       "      <td>1</td>\n",
       "      <td>2</td>\n",
       "      <td>1440.740741</td>\n",
       "      <td>3</td>\n",
       "      <td>6</td>\n",
       "      <td>2016</td>\n",
       "      <td>last</td>\n",
       "    </tr>\n",
       "    <tr>\n",
       "      <td>13</td>\n",
       "      <td>2017-07-01</td>\n",
       "      <td>366.0</td>\n",
       "      <td>71000.0</td>\n",
       "      <td>2</td>\n",
       "      <td>5.2</td>\n",
       "      <td>27.0</td>\n",
       "      <td>42.8</td>\n",
       "      <td>1.0</td>\n",
       "      <td>2.560000</td>\n",
       "      <td>5.0</td>\n",
       "      <td>5</td>\n",
       "      <td>20</td>\n",
       "      <td>True</td>\n",
       "      <td>False</td>\n",
       "      <td>False</td>\n",
       "      <td>petergof</td>\n",
       "      <td>37868.0</td>\n",
       "      <td>33058.0</td>\n",
       "      <td>294.0</td>\n",
       "      <td>1.0</td>\n",
       "      <td>298.000000</td>\n",
       "      <td>3.0</td>\n",
       "      <td>2018-07-02</td>\n",
       "      <td>1</td>\n",
       "      <td>1</td>\n",
       "      <td>1658.878505</td>\n",
       "      <td>5</td>\n",
       "      <td>7</td>\n",
       "      <td>2017</td>\n",
       "      <td>last</td>\n",
       "    </tr>\n",
       "    <tr>\n",
       "      <td>23</td>\n",
       "      <td>2016-10-29</td>\n",
       "      <td>615.0</td>\n",
       "      <td>59000.0</td>\n",
       "      <td>1</td>\n",
       "      <td>6.1</td>\n",
       "      <td>17.7</td>\n",
       "      <td>32.0</td>\n",
       "      <td>0.0</td>\n",
       "      <td>2.600000</td>\n",
       "      <td>9.0</td>\n",
       "      <td>9</td>\n",
       "      <td>11</td>\n",
       "      <td>True</td>\n",
       "      <td>False</td>\n",
       "      <td>False</td>\n",
       "      <td>saint petersburg</td>\n",
       "      <td>15414.0</td>\n",
       "      <td>14211.0</td>\n",
       "      <td>517.0</td>\n",
       "      <td>2.0</td>\n",
       "      <td>190.000000</td>\n",
       "      <td>1.0</td>\n",
       "      <td>2018-07-06</td>\n",
       "      <td>0</td>\n",
       "      <td>0</td>\n",
       "      <td>1843.750000</td>\n",
       "      <td>5</td>\n",
       "      <td>10</td>\n",
       "      <td>2016</td>\n",
       "      <td>last</td>\n",
       "    </tr>\n",
       "    <tr>\n",
       "      <td>36</td>\n",
       "      <td>2017-01-25</td>\n",
       "      <td>139.0</td>\n",
       "      <td>75800.0</td>\n",
       "      <td>2</td>\n",
       "      <td>6.3</td>\n",
       "      <td>27.0</td>\n",
       "      <td>45.0</td>\n",
       "      <td>2.0</td>\n",
       "      <td>2.703423</td>\n",
       "      <td>9.0</td>\n",
       "      <td>9</td>\n",
       "      <td>13</td>\n",
       "      <td>False</td>\n",
       "      <td>False</td>\n",
       "      <td>False</td>\n",
       "      <td>saint petersburg</td>\n",
       "      <td>49574.0</td>\n",
       "      <td>16461.0</td>\n",
       "      <td>459.0</td>\n",
       "      <td>1.0</td>\n",
       "      <td>NaN</td>\n",
       "      <td>0.0</td>\n",
       "      <td>2017-06-13</td>\n",
       "      <td>1</td>\n",
       "      <td>1</td>\n",
       "      <td>1684.444444</td>\n",
       "      <td>2</td>\n",
       "      <td>1</td>\n",
       "      <td>2017</td>\n",
       "      <td>last</td>\n",
       "    </tr>\n",
       "    <tr>\n",
       "      <td>43</td>\n",
       "      <td>2017-01-10</td>\n",
       "      <td>763.0</td>\n",
       "      <td>186600.0</td>\n",
       "      <td>2</td>\n",
       "      <td>7.5</td>\n",
       "      <td>28.0</td>\n",
       "      <td>48.0</td>\n",
       "      <td>0.0</td>\n",
       "      <td>3.000000</td>\n",
       "      <td>4.0</td>\n",
       "      <td>4</td>\n",
       "      <td>13</td>\n",
       "      <td>True</td>\n",
       "      <td>False</td>\n",
       "      <td>False</td>\n",
       "      <td>saint petersburg</td>\n",
       "      <td>15016.0</td>\n",
       "      <td>10822.0</td>\n",
       "      <td>3127.0</td>\n",
       "      <td>0.0</td>\n",
       "      <td>492.000000</td>\n",
       "      <td>1.0</td>\n",
       "      <td>2019-02-12</td>\n",
       "      <td>4</td>\n",
       "      <td>2</td>\n",
       "      <td>3887.500000</td>\n",
       "      <td>1</td>\n",
       "      <td>1</td>\n",
       "      <td>2017</td>\n",
       "      <td>last</td>\n",
       "    </tr>\n",
       "    <tr>\n",
       "      <td>...</td>\n",
       "      <td>...</td>\n",
       "      <td>...</td>\n",
       "      <td>...</td>\n",
       "      <td>...</td>\n",
       "      <td>...</td>\n",
       "      <td>...</td>\n",
       "      <td>...</td>\n",
       "      <td>...</td>\n",
       "      <td>...</td>\n",
       "      <td>...</td>\n",
       "      <td>...</td>\n",
       "      <td>...</td>\n",
       "      <td>...</td>\n",
       "      <td>...</td>\n",
       "      <td>...</td>\n",
       "      <td>...</td>\n",
       "      <td>...</td>\n",
       "      <td>...</td>\n",
       "      <td>...</td>\n",
       "      <td>...</td>\n",
       "      <td>...</td>\n",
       "      <td>...</td>\n",
       "      <td>...</td>\n",
       "      <td>...</td>\n",
       "      <td>...</td>\n",
       "      <td>...</td>\n",
       "      <td>...</td>\n",
       "      <td>...</td>\n",
       "      <td>...</td>\n",
       "      <td>...</td>\n",
       "    </tr>\n",
       "    <tr>\n",
       "      <td>23641</td>\n",
       "      <td>2018-03-28</td>\n",
       "      <td>10.0</td>\n",
       "      <td>62000.0</td>\n",
       "      <td>1</td>\n",
       "      <td>5.0</td>\n",
       "      <td>17.0</td>\n",
       "      <td>30.0</td>\n",
       "      <td>0.0</td>\n",
       "      <td>2.500000</td>\n",
       "      <td>5.0</td>\n",
       "      <td>5</td>\n",
       "      <td>3</td>\n",
       "      <td>True</td>\n",
       "      <td>False</td>\n",
       "      <td>False</td>\n",
       "      <td>kolpino</td>\n",
       "      <td>24056.0</td>\n",
       "      <td>29843.0</td>\n",
       "      <td>3127.0</td>\n",
       "      <td>0.0</td>\n",
       "      <td>NaN</td>\n",
       "      <td>0.0</td>\n",
       "      <td>2018-04-07</td>\n",
       "      <td>0</td>\n",
       "      <td>0</td>\n",
       "      <td>2066.666667</td>\n",
       "      <td>2</td>\n",
       "      <td>3</td>\n",
       "      <td>2018</td>\n",
       "      <td>last</td>\n",
       "    </tr>\n",
       "    <tr>\n",
       "      <td>23644</td>\n",
       "      <td>2018-04-26</td>\n",
       "      <td>166.0</td>\n",
       "      <td>99800.0</td>\n",
       "      <td>2</td>\n",
       "      <td>12.1</td>\n",
       "      <td>32.3</td>\n",
       "      <td>62.5</td>\n",
       "      <td>0.0</td>\n",
       "      <td>2.700000</td>\n",
       "      <td>4.0</td>\n",
       "      <td>4</td>\n",
       "      <td>7</td>\n",
       "      <td>True</td>\n",
       "      <td>False</td>\n",
       "      <td>False</td>\n",
       "      <td>saint petersburg</td>\n",
       "      <td>20141.0</td>\n",
       "      <td>4415.0</td>\n",
       "      <td>560.0</td>\n",
       "      <td>1.0</td>\n",
       "      <td>171.000000</td>\n",
       "      <td>1.0</td>\n",
       "      <td>2018-10-09</td>\n",
       "      <td>2</td>\n",
       "      <td>3</td>\n",
       "      <td>1596.800000</td>\n",
       "      <td>3</td>\n",
       "      <td>4</td>\n",
       "      <td>2018</td>\n",
       "      <td>last</td>\n",
       "    </tr>\n",
       "    <tr>\n",
       "      <td>23648</td>\n",
       "      <td>2017-05-12</td>\n",
       "      <td>621.0</td>\n",
       "      <td>202000.0</td>\n",
       "      <td>3</td>\n",
       "      <td>8.2</td>\n",
       "      <td>48.6</td>\n",
       "      <td>78.0</td>\n",
       "      <td>0.0</td>\n",
       "      <td>3.270000</td>\n",
       "      <td>5.0</td>\n",
       "      <td>5</td>\n",
       "      <td>14</td>\n",
       "      <td>True</td>\n",
       "      <td>False</td>\n",
       "      <td>False</td>\n",
       "      <td>saint petersburg</td>\n",
       "      <td>20933.0</td>\n",
       "      <td>1113.0</td>\n",
       "      <td>621.0</td>\n",
       "      <td>1.0</td>\n",
       "      <td>117.000000</td>\n",
       "      <td>2.0</td>\n",
       "      <td>2019-01-23</td>\n",
       "      <td>4</td>\n",
       "      <td>4</td>\n",
       "      <td>2589.743590</td>\n",
       "      <td>4</td>\n",
       "      <td>5</td>\n",
       "      <td>2017</td>\n",
       "      <td>last</td>\n",
       "    </tr>\n",
       "    <tr>\n",
       "      <td>23660</td>\n",
       "      <td>2018-02-01</td>\n",
       "      <td>35.0</td>\n",
       "      <td>59000.0</td>\n",
       "      <td>2</td>\n",
       "      <td>5.8</td>\n",
       "      <td>32.0</td>\n",
       "      <td>53.6</td>\n",
       "      <td>1.0</td>\n",
       "      <td>2.750000</td>\n",
       "      <td>3.0</td>\n",
       "      <td>3</td>\n",
       "      <td>1</td>\n",
       "      <td>False</td>\n",
       "      <td>False</td>\n",
       "      <td>False</td>\n",
       "      <td>krasnoye selo</td>\n",
       "      <td>38293.0</td>\n",
       "      <td>41718.0</td>\n",
       "      <td>3127.0</td>\n",
       "      <td>0.0</td>\n",
       "      <td>NaN</td>\n",
       "      <td>0.0</td>\n",
       "      <td>2018-03-08</td>\n",
       "      <td>0</td>\n",
       "      <td>2</td>\n",
       "      <td>1100.746269</td>\n",
       "      <td>3</td>\n",
       "      <td>2</td>\n",
       "      <td>2018</td>\n",
       "      <td>last</td>\n",
       "    </tr>\n",
       "    <tr>\n",
       "      <td>23685</td>\n",
       "      <td>2019-01-24</td>\n",
       "      <td>NaN</td>\n",
       "      <td>49800.0</td>\n",
       "      <td>1</td>\n",
       "      <td>5.6</td>\n",
       "      <td>17.3</td>\n",
       "      <td>31.0</td>\n",
       "      <td>1.0</td>\n",
       "      <td>2.500000</td>\n",
       "      <td>5.0</td>\n",
       "      <td>5</td>\n",
       "      <td>15</td>\n",
       "      <td>True</td>\n",
       "      <td>False</td>\n",
       "      <td>False</td>\n",
       "      <td>lomonosov</td>\n",
       "      <td>48393.0</td>\n",
       "      <td>51818.0</td>\n",
       "      <td>3127.0</td>\n",
       "      <td>0.0</td>\n",
       "      <td>NaN</td>\n",
       "      <td>0.0</td>\n",
       "      <td>NaT</td>\n",
       "      <td>0</td>\n",
       "      <td>0</td>\n",
       "      <td>1606.451613</td>\n",
       "      <td>3</td>\n",
       "      <td>1</td>\n",
       "      <td>2019</td>\n",
       "      <td>last</td>\n",
       "    </tr>\n",
       "  </tbody>\n",
       "</table>\n",
       "<p>3355 rows × 30 columns</p>\n",
       "</div>"
      ],
      "text/plain": [
       "      date_posted  days_listed  last_price  bedrooms  kitchen_area  \\\n",
       "12     2016-06-30         90.0     77800.0         2           9.0   \n",
       "13     2017-07-01        366.0     71000.0         2           5.2   \n",
       "23     2016-10-29        615.0     59000.0         1           6.1   \n",
       "36     2017-01-25        139.0     75800.0         2           6.3   \n",
       "43     2017-01-10        763.0    186600.0         2           7.5   \n",
       "...           ...          ...         ...       ...           ...   \n",
       "23641  2018-03-28         10.0     62000.0         1           5.0   \n",
       "23644  2018-04-26        166.0     99800.0         2          12.1   \n",
       "23648  2017-05-12        621.0    202000.0         3           8.2   \n",
       "23660  2018-02-01         35.0     59000.0         2           5.8   \n",
       "23685  2019-01-24          NaN     49800.0         1           5.6   \n",
       "\n",
       "       living_area  total_area  balconies  ceiling_height  floors_total  \\\n",
       "12            30.0        54.0        0.0        2.714223           5.0   \n",
       "13            27.0        42.8        1.0        2.560000           5.0   \n",
       "23            17.7        32.0        0.0        2.600000           9.0   \n",
       "36            27.0        45.0        2.0        2.703423           9.0   \n",
       "43            28.0        48.0        0.0        3.000000           4.0   \n",
       "...            ...         ...        ...             ...           ...   \n",
       "23641         17.0        30.0        0.0        2.500000           5.0   \n",
       "23644         32.3        62.5        0.0        2.700000           4.0   \n",
       "23648         48.6        78.0        0.0        3.270000           5.0   \n",
       "23660         32.0        53.6        1.0        2.750000           3.0   \n",
       "23685         17.3        31.0        1.0        2.500000           5.0   \n",
       "\n",
       "       floor  total_images  bike_parking  is_studio  is_open_plan  \\\n",
       "12         5            10          True      False         False   \n",
       "13         5            20          True      False         False   \n",
       "23         9            11          True      False         False   \n",
       "36         9            13         False      False         False   \n",
       "43         4            13          True      False         False   \n",
       "...      ...           ...           ...        ...           ...   \n",
       "23641      5             3          True      False         False   \n",
       "23644      4             7          True      False         False   \n",
       "23648      5            14          True      False         False   \n",
       "23660      3             1         False      False         False   \n",
       "23685      5            15          True      False         False   \n",
       "\n",
       "          locality_name  airport_dist  city_center_dist  park_dist  \\\n",
       "12            sertolovo       26711.0           14816.0     3127.0   \n",
       "13             petergof       37868.0           33058.0      294.0   \n",
       "23     saint petersburg       15414.0           14211.0      517.0   \n",
       "36     saint petersburg       49574.0           16461.0      459.0   \n",
       "43     saint petersburg       15016.0           10822.0     3127.0   \n",
       "...                 ...           ...               ...        ...   \n",
       "23641           kolpino       24056.0           29843.0     3127.0   \n",
       "23644  saint petersburg       20141.0            4415.0      560.0   \n",
       "23648  saint petersburg       20933.0            1113.0      621.0   \n",
       "23660     krasnoye selo       38293.0           41718.0     3127.0   \n",
       "23685         lomonosov       48393.0           51818.0     3127.0   \n",
       "\n",
       "       parks_within_3000   pond_dist  ponds_within_3000 date_removed  \\\n",
       "12                   0.0  586.871424                1.0   2016-09-28   \n",
       "13                   1.0  298.000000                3.0   2018-07-02   \n",
       "23                   2.0  190.000000                1.0   2018-07-06   \n",
       "36                   1.0         NaN                0.0   2017-06-13   \n",
       "43                   0.0  492.000000                1.0   2019-02-12   \n",
       "...                  ...         ...                ...          ...   \n",
       "23641                0.0         NaN                0.0   2018-04-07   \n",
       "23644                1.0  171.000000                1.0   2018-10-09   \n",
       "23648                1.0  117.000000                2.0   2019-01-23   \n",
       "23660                0.0         NaN                0.0   2018-03-08   \n",
       "23685                0.0         NaN                0.0          NaT   \n",
       "\n",
       "       last_price_level  total_area_level  price_per_sm  ad_weekday  ad_month  \\\n",
       "12                    1                 2   1440.740741           3         6   \n",
       "13                    1                 1   1658.878505           5         7   \n",
       "23                    0                 0   1843.750000           5        10   \n",
       "36                    1                 1   1684.444444           2         1   \n",
       "43                    4                 2   3887.500000           1         1   \n",
       "...                 ...               ...           ...         ...       ...   \n",
       "23641                 0                 0   2066.666667           2         3   \n",
       "23644                 2                 3   1596.800000           3         4   \n",
       "23648                 4                 4   2589.743590           4         5   \n",
       "23660                 0                 2   1100.746269           3         2   \n",
       "23685                 0                 0   1606.451613           3         1   \n",
       "\n",
       "       ad_year floor_topbot  \n",
       "12        2016         last  \n",
       "13        2017         last  \n",
       "23        2016         last  \n",
       "36        2017         last  \n",
       "43        2017         last  \n",
       "...        ...          ...  \n",
       "23641     2018         last  \n",
       "23644     2018         last  \n",
       "23648     2017         last  \n",
       "23660     2018         last  \n",
       "23685     2019         last  \n",
       "\n",
       "[3355 rows x 30 columns]"
      ]
     },
     "execution_count": 23,
     "metadata": {},
     "output_type": "execute_result"
    }
   ],
   "source": [
    "#Write the function to get the floor that the apartment is on\n",
    "#Floor == 1: first floor, floor == number of total floors of the building: last floor, otherwise: other\n",
    "\n",
    "def get_floor(row):\n",
    "    floor = row['floor']\n",
    "    number = row['floors_total']\n",
    "    if floor == 1:\n",
    "        return 'first'\n",
    "    if floor == number:\n",
    "        return 'last'\n",
    "    return 'other'\n",
    "\n",
    "df['floor_topbot'] = df.apply(get_floor, axis=1)\n",
    "\n",
    "#Check\n",
    "df[df['floor'] == 1]\n",
    "df[df['floor'] == df['floors_total']]"
   ]
  },
  {
   "cell_type": "markdown",
   "metadata": {},
   "source": [
    "### 3.4. Ratio between the living space/kitchen space and the total area"
   ]
  },
  {
   "cell_type": "code",
   "execution_count": 24,
   "metadata": {},
   "outputs": [
    {
     "data": {
      "text/html": [
       "<div>\n",
       "<style scoped>\n",
       "    .dataframe tbody tr th:only-of-type {\n",
       "        vertical-align: middle;\n",
       "    }\n",
       "\n",
       "    .dataframe tbody tr th {\n",
       "        vertical-align: top;\n",
       "    }\n",
       "\n",
       "    .dataframe thead th {\n",
       "        text-align: right;\n",
       "    }\n",
       "</style>\n",
       "<table border=\"1\" class=\"dataframe\">\n",
       "  <thead>\n",
       "    <tr style=\"text-align: right;\">\n",
       "      <th></th>\n",
       "      <th>date_posted</th>\n",
       "      <th>days_listed</th>\n",
       "      <th>last_price</th>\n",
       "      <th>bedrooms</th>\n",
       "      <th>kitchen_area</th>\n",
       "      <th>living_area</th>\n",
       "      <th>total_area</th>\n",
       "      <th>balconies</th>\n",
       "      <th>ceiling_height</th>\n",
       "      <th>floors_total</th>\n",
       "      <th>floor</th>\n",
       "      <th>total_images</th>\n",
       "      <th>bike_parking</th>\n",
       "      <th>is_studio</th>\n",
       "      <th>is_open_plan</th>\n",
       "      <th>locality_name</th>\n",
       "      <th>airport_dist</th>\n",
       "      <th>city_center_dist</th>\n",
       "      <th>park_dist</th>\n",
       "      <th>parks_within_3000</th>\n",
       "      <th>pond_dist</th>\n",
       "      <th>ponds_within_3000</th>\n",
       "      <th>date_removed</th>\n",
       "      <th>last_price_level</th>\n",
       "      <th>total_area_level</th>\n",
       "      <th>price_per_sm</th>\n",
       "      <th>ad_weekday</th>\n",
       "      <th>ad_month</th>\n",
       "      <th>ad_year</th>\n",
       "      <th>floor_topbot</th>\n",
       "      <th>living_ratio</th>\n",
       "      <th>kitchen_ratio</th>\n",
       "    </tr>\n",
       "  </thead>\n",
       "  <tbody>\n",
       "    <tr>\n",
       "      <td>0</td>\n",
       "      <td>2019-03-07</td>\n",
       "      <td>NaN</td>\n",
       "      <td>260000.0</td>\n",
       "      <td>3</td>\n",
       "      <td>25.0</td>\n",
       "      <td>51.0</td>\n",
       "      <td>108.0</td>\n",
       "      <td>0.0</td>\n",
       "      <td>2.700000</td>\n",
       "      <td>16.0</td>\n",
       "      <td>8</td>\n",
       "      <td>20</td>\n",
       "      <td>True</td>\n",
       "      <td>False</td>\n",
       "      <td>False</td>\n",
       "      <td>saint petersburg</td>\n",
       "      <td>18863.0</td>\n",
       "      <td>16028.0</td>\n",
       "      <td>482.0</td>\n",
       "      <td>1.0</td>\n",
       "      <td>755.0</td>\n",
       "      <td>2.0</td>\n",
       "      <td>NaT</td>\n",
       "      <td>4</td>\n",
       "      <td>4</td>\n",
       "      <td>2407.407407</td>\n",
       "      <td>3</td>\n",
       "      <td>3</td>\n",
       "      <td>2019</td>\n",
       "      <td>other</td>\n",
       "      <td>0.472222</td>\n",
       "      <td>0.231481</td>\n",
       "    </tr>\n",
       "    <tr>\n",
       "      <td>1</td>\n",
       "      <td>2018-12-04</td>\n",
       "      <td>81.0</td>\n",
       "      <td>67000.0</td>\n",
       "      <td>1</td>\n",
       "      <td>11.0</td>\n",
       "      <td>18.6</td>\n",
       "      <td>40.4</td>\n",
       "      <td>2.0</td>\n",
       "      <td>2.703423</td>\n",
       "      <td>11.0</td>\n",
       "      <td>1</td>\n",
       "      <td>7</td>\n",
       "      <td>True</td>\n",
       "      <td>False</td>\n",
       "      <td>False</td>\n",
       "      <td>shushary village</td>\n",
       "      <td>12817.0</td>\n",
       "      <td>18603.0</td>\n",
       "      <td>3127.0</td>\n",
       "      <td>0.0</td>\n",
       "      <td>NaN</td>\n",
       "      <td>0.0</td>\n",
       "      <td>2019-02-23</td>\n",
       "      <td>1</td>\n",
       "      <td>1</td>\n",
       "      <td>1658.415842</td>\n",
       "      <td>1</td>\n",
       "      <td>12</td>\n",
       "      <td>2018</td>\n",
       "      <td>first</td>\n",
       "      <td>0.460396</td>\n",
       "      <td>0.272277</td>\n",
       "    </tr>\n",
       "    <tr>\n",
       "      <td>2</td>\n",
       "      <td>2015-08-20</td>\n",
       "      <td>558.0</td>\n",
       "      <td>103920.0</td>\n",
       "      <td>2</td>\n",
       "      <td>8.3</td>\n",
       "      <td>34.3</td>\n",
       "      <td>56.0</td>\n",
       "      <td>0.0</td>\n",
       "      <td>2.714223</td>\n",
       "      <td>5.0</td>\n",
       "      <td>4</td>\n",
       "      <td>10</td>\n",
       "      <td>True</td>\n",
       "      <td>False</td>\n",
       "      <td>False</td>\n",
       "      <td>saint petersburg</td>\n",
       "      <td>21741.0</td>\n",
       "      <td>13933.0</td>\n",
       "      <td>90.0</td>\n",
       "      <td>1.0</td>\n",
       "      <td>574.0</td>\n",
       "      <td>2.0</td>\n",
       "      <td>2017-02-28</td>\n",
       "      <td>2</td>\n",
       "      <td>2</td>\n",
       "      <td>1855.714286</td>\n",
       "      <td>3</td>\n",
       "      <td>8</td>\n",
       "      <td>2015</td>\n",
       "      <td>other</td>\n",
       "      <td>0.612500</td>\n",
       "      <td>0.148214</td>\n",
       "    </tr>\n",
       "    <tr>\n",
       "      <td>3</td>\n",
       "      <td>2015-07-24</td>\n",
       "      <td>424.0</td>\n",
       "      <td>1298000.0</td>\n",
       "      <td>3</td>\n",
       "      <td>14.0</td>\n",
       "      <td>55.0</td>\n",
       "      <td>159.0</td>\n",
       "      <td>0.0</td>\n",
       "      <td>3.001081</td>\n",
       "      <td>14.0</td>\n",
       "      <td>9</td>\n",
       "      <td>0</td>\n",
       "      <td>True</td>\n",
       "      <td>False</td>\n",
       "      <td>False</td>\n",
       "      <td>saint petersburg</td>\n",
       "      <td>28098.0</td>\n",
       "      <td>6800.0</td>\n",
       "      <td>84.0</td>\n",
       "      <td>2.0</td>\n",
       "      <td>234.0</td>\n",
       "      <td>3.0</td>\n",
       "      <td>2016-09-20</td>\n",
       "      <td>4</td>\n",
       "      <td>4</td>\n",
       "      <td>8163.522013</td>\n",
       "      <td>4</td>\n",
       "      <td>7</td>\n",
       "      <td>2015</td>\n",
       "      <td>other</td>\n",
       "      <td>0.345912</td>\n",
       "      <td>0.088050</td>\n",
       "    </tr>\n",
       "    <tr>\n",
       "      <td>4</td>\n",
       "      <td>2018-06-19</td>\n",
       "      <td>121.0</td>\n",
       "      <td>200000.0</td>\n",
       "      <td>2</td>\n",
       "      <td>41.0</td>\n",
       "      <td>32.0</td>\n",
       "      <td>100.0</td>\n",
       "      <td>0.0</td>\n",
       "      <td>3.030000</td>\n",
       "      <td>14.0</td>\n",
       "      <td>13</td>\n",
       "      <td>2</td>\n",
       "      <td>True</td>\n",
       "      <td>False</td>\n",
       "      <td>False</td>\n",
       "      <td>saint petersburg</td>\n",
       "      <td>31856.0</td>\n",
       "      <td>8098.0</td>\n",
       "      <td>112.0</td>\n",
       "      <td>2.0</td>\n",
       "      <td>48.0</td>\n",
       "      <td>1.0</td>\n",
       "      <td>2018-10-18</td>\n",
       "      <td>4</td>\n",
       "      <td>4</td>\n",
       "      <td>2000.000000</td>\n",
       "      <td>1</td>\n",
       "      <td>6</td>\n",
       "      <td>2018</td>\n",
       "      <td>other</td>\n",
       "      <td>0.320000</td>\n",
       "      <td>0.410000</td>\n",
       "    </tr>\n",
       "  </tbody>\n",
       "</table>\n",
       "</div>"
      ],
      "text/plain": [
       "  date_posted  days_listed  last_price  bedrooms  kitchen_area  living_area  \\\n",
       "0  2019-03-07          NaN    260000.0         3          25.0         51.0   \n",
       "1  2018-12-04         81.0     67000.0         1          11.0         18.6   \n",
       "2  2015-08-20        558.0    103920.0         2           8.3         34.3   \n",
       "3  2015-07-24        424.0   1298000.0         3          14.0         55.0   \n",
       "4  2018-06-19        121.0    200000.0         2          41.0         32.0   \n",
       "\n",
       "   total_area  balconies  ceiling_height  floors_total  floor  total_images  \\\n",
       "0       108.0        0.0        2.700000          16.0      8            20   \n",
       "1        40.4        2.0        2.703423          11.0      1             7   \n",
       "2        56.0        0.0        2.714223           5.0      4            10   \n",
       "3       159.0        0.0        3.001081          14.0      9             0   \n",
       "4       100.0        0.0        3.030000          14.0     13             2   \n",
       "\n",
       "   bike_parking  is_studio  is_open_plan     locality_name  airport_dist  \\\n",
       "0          True      False         False  saint petersburg       18863.0   \n",
       "1          True      False         False  shushary village       12817.0   \n",
       "2          True      False         False  saint petersburg       21741.0   \n",
       "3          True      False         False  saint petersburg       28098.0   \n",
       "4          True      False         False  saint petersburg       31856.0   \n",
       "\n",
       "   city_center_dist  park_dist  parks_within_3000  pond_dist  \\\n",
       "0           16028.0      482.0                1.0      755.0   \n",
       "1           18603.0     3127.0                0.0        NaN   \n",
       "2           13933.0       90.0                1.0      574.0   \n",
       "3            6800.0       84.0                2.0      234.0   \n",
       "4            8098.0      112.0                2.0       48.0   \n",
       "\n",
       "   ponds_within_3000 date_removed  last_price_level  total_area_level  \\\n",
       "0                2.0          NaT                 4                 4   \n",
       "1                0.0   2019-02-23                 1                 1   \n",
       "2                2.0   2017-02-28                 2                 2   \n",
       "3                3.0   2016-09-20                 4                 4   \n",
       "4                1.0   2018-10-18                 4                 4   \n",
       "\n",
       "   price_per_sm  ad_weekday  ad_month  ad_year floor_topbot  living_ratio  \\\n",
       "0   2407.407407           3         3     2019        other      0.472222   \n",
       "1   1658.415842           1        12     2018        first      0.460396   \n",
       "2   1855.714286           3         8     2015        other      0.612500   \n",
       "3   8163.522013           4         7     2015        other      0.345912   \n",
       "4   2000.000000           1         6     2018        other      0.320000   \n",
       "\n",
       "   kitchen_ratio  \n",
       "0       0.231481  \n",
       "1       0.272277  \n",
       "2       0.148214  \n",
       "3       0.088050  \n",
       "4       0.410000  "
      ]
     },
     "execution_count": 24,
     "metadata": {},
     "output_type": "execute_result"
    }
   ],
   "source": [
    "df['living_ratio'] = df['living_area']/df['total_area']\n",
    "df['kitchen_ratio'] = df['kitchen_area']/df['total_area']\n",
    "\n",
    "df.head()"
   ]
  },
  {
   "cell_type": "markdown",
   "metadata": {},
   "source": [
    "### Conclusions: Done calculating these parameters:\n",
    "- the price per square meter\n",
    "- the day of the week, month, and year that the ad was published\n",
    "- which floor the apartment is on (first, last, or other)\n",
    "- the ratio between the living space and the total area, as well as between the kitchen space and the total area."
   ]
  },
  {
   "cell_type": "markdown",
   "metadata": {},
   "source": [
    "### Step 4. Conduct exploratory data analysis "
   ]
  },
  {
   "cell_type": "markdown",
   "metadata": {},
   "source": [
    "### 4.1 Task 1: Investigate the following parameters: square area, price, number of rooms, and ceiling height. Plot a histogram for each parameter."
   ]
  },
  {
   "cell_type": "markdown",
   "metadata": {},
   "source": [
    "### 4.1.1. Square area"
   ]
  },
  {
   "cell_type": "code",
   "execution_count": 25,
   "metadata": {},
   "outputs": [
    {
     "data": {
      "text/plain": [
       "count    23565.000000\n",
       "mean        60.322824\n",
       "std         35.657060\n",
       "min         12.000000\n",
       "25%         40.000000\n",
       "50%         52.000000\n",
       "75%         69.700000\n",
       "max        900.000000\n",
       "Name: total_area, dtype: float64"
      ]
     },
     "execution_count": 25,
     "metadata": {},
     "output_type": "execute_result"
    },
    {
     "data": {
      "image/png": "[encoded data removed]",
      "text/plain": [
       "<Figure size 432x288 with 1 Axes>"
      ]
     },
     "metadata": {
      "needs_background": "light"
     },
     "output_type": "display_data"
    }
   ],
   "source": [
    "df['total_area'].hist(range = (0,900), bins=100)\n",
    "df['total_area'].describe()"
   ]
  },
  {
   "cell_type": "markdown",
   "metadata": {},
   "source": [
    "Comment: The graph has its peak around 37 square metters, most of the houses' total area range from 30 to 100 square meters. Houses with total area more than 200 square meters are already rare. Almost no houses have more than 300-square-meter total_area, here the histogram merges with zero (if there are visits, they’re few and far between).\n",
    "Decide to drop values that are larger than 300 square meters. "
   ]
  },
  {
   "cell_type": "code",
   "execution_count": 26,
   "metadata": {},
   "outputs": [
    {
     "data": {
      "text/html": [
       "<div>\n",
       "<style scoped>\n",
       "    .dataframe tbody tr th:only-of-type {\n",
       "        vertical-align: middle;\n",
       "    }\n",
       "\n",
       "    .dataframe tbody tr th {\n",
       "        vertical-align: top;\n",
       "    }\n",
       "\n",
       "    .dataframe thead th {\n",
       "        text-align: right;\n",
       "    }\n",
       "</style>\n",
       "<table border=\"1\" class=\"dataframe\">\n",
       "  <thead>\n",
       "    <tr style=\"text-align: right;\">\n",
       "      <th></th>\n",
       "      <th>date_posted</th>\n",
       "      <th>days_listed</th>\n",
       "      <th>last_price</th>\n",
       "      <th>bedrooms</th>\n",
       "      <th>kitchen_area</th>\n",
       "      <th>living_area</th>\n",
       "      <th>total_area</th>\n",
       "      <th>balconies</th>\n",
       "      <th>ceiling_height</th>\n",
       "      <th>floors_total</th>\n",
       "      <th>floor</th>\n",
       "      <th>total_images</th>\n",
       "      <th>bike_parking</th>\n",
       "      <th>is_studio</th>\n",
       "      <th>is_open_plan</th>\n",
       "      <th>locality_name</th>\n",
       "      <th>airport_dist</th>\n",
       "      <th>city_center_dist</th>\n",
       "      <th>park_dist</th>\n",
       "      <th>parks_within_3000</th>\n",
       "      <th>pond_dist</th>\n",
       "      <th>ponds_within_3000</th>\n",
       "      <th>date_removed</th>\n",
       "      <th>last_price_level</th>\n",
       "      <th>total_area_level</th>\n",
       "      <th>price_per_sm</th>\n",
       "      <th>ad_weekday</th>\n",
       "      <th>ad_month</th>\n",
       "      <th>ad_year</th>\n",
       "      <th>floor_topbot</th>\n",
       "      <th>living_ratio</th>\n",
       "      <th>kitchen_ratio</th>\n",
       "    </tr>\n",
       "  </thead>\n",
       "  <tbody>\n",
       "    <tr>\n",
       "      <td>4659</td>\n",
       "      <td>2019-02-28</td>\n",
       "      <td>NaN</td>\n",
       "      <td>33000.0</td>\n",
       "      <td>5</td>\n",
       "      <td>11.0</td>\n",
       "      <td>71.0</td>\n",
       "      <td>115.0</td>\n",
       "      <td>0.0</td>\n",
       "      <td>3.001081</td>\n",
       "      <td>5.0</td>\n",
       "      <td>1</td>\n",
       "      <td>1</td>\n",
       "      <td>True</td>\n",
       "      <td>False</td>\n",
       "      <td>False</td>\n",
       "      <td>slantsy</td>\n",
       "      <td>26073.0</td>\n",
       "      <td>17986.0</td>\n",
       "      <td>3127.0</td>\n",
       "      <td>0.0</td>\n",
       "      <td>586.871424</td>\n",
       "      <td>1.0</td>\n",
       "      <td>NaT</td>\n",
       "      <td>0</td>\n",
       "      <td>4</td>\n",
       "      <td>286.956522</td>\n",
       "      <td>3</td>\n",
       "      <td>2</td>\n",
       "      <td>2019</td>\n",
       "      <td>first</td>\n",
       "      <td>0.617391</td>\n",
       "      <td>0.095652</td>\n",
       "    </tr>\n",
       "    <tr>\n",
       "      <td>7085</td>\n",
       "      <td>2019-03-03</td>\n",
       "      <td>19.0</td>\n",
       "      <td>73000.0</td>\n",
       "      <td>5</td>\n",
       "      <td>9.0</td>\n",
       "      <td>55.0</td>\n",
       "      <td>110.0</td>\n",
       "      <td>0.0</td>\n",
       "      <td>2.500000</td>\n",
       "      <td>6.0</td>\n",
       "      <td>5</td>\n",
       "      <td>16</td>\n",
       "      <td>True</td>\n",
       "      <td>False</td>\n",
       "      <td>False</td>\n",
       "      <td>kirishi</td>\n",
       "      <td>26711.0</td>\n",
       "      <td>14816.0</td>\n",
       "      <td>3127.0</td>\n",
       "      <td>0.0</td>\n",
       "      <td>586.871424</td>\n",
       "      <td>1.0</td>\n",
       "      <td>2019-03-22</td>\n",
       "      <td>1</td>\n",
       "      <td>4</td>\n",
       "      <td>663.636364</td>\n",
       "      <td>6</td>\n",
       "      <td>3</td>\n",
       "      <td>2019</td>\n",
       "      <td>other</td>\n",
       "      <td>0.500000</td>\n",
       "      <td>0.081818</td>\n",
       "    </tr>\n",
       "    <tr>\n",
       "      <td>8793</td>\n",
       "      <td>2019-03-20</td>\n",
       "      <td>8.0</td>\n",
       "      <td>244.0</td>\n",
       "      <td>2</td>\n",
       "      <td>40.5</td>\n",
       "      <td>32.0</td>\n",
       "      <td>109.0</td>\n",
       "      <td>0.0</td>\n",
       "      <td>2.750000</td>\n",
       "      <td>25.0</td>\n",
       "      <td>25</td>\n",
       "      <td>7</td>\n",
       "      <td>True</td>\n",
       "      <td>False</td>\n",
       "      <td>False</td>\n",
       "      <td>saint petersburg</td>\n",
       "      <td>36421.0</td>\n",
       "      <td>9176.0</td>\n",
       "      <td>805.0</td>\n",
       "      <td>1.0</td>\n",
       "      <td>NaN</td>\n",
       "      <td>0.0</td>\n",
       "      <td>2019-03-28</td>\n",
       "      <td>0</td>\n",
       "      <td>4</td>\n",
       "      <td>2.238532</td>\n",
       "      <td>2</td>\n",
       "      <td>3</td>\n",
       "      <td>2019</td>\n",
       "      <td>last</td>\n",
       "      <td>0.293578</td>\n",
       "      <td>0.371560</td>\n",
       "    </tr>\n",
       "    <tr>\n",
       "      <td>14655</td>\n",
       "      <td>2018-09-11</td>\n",
       "      <td>209.0</td>\n",
       "      <td>79000.0</td>\n",
       "      <td>3</td>\n",
       "      <td>18.7</td>\n",
       "      <td>80.0</td>\n",
       "      <td>119.3</td>\n",
       "      <td>0.0</td>\n",
       "      <td>2.800000</td>\n",
       "      <td>3.0</td>\n",
       "      <td>3</td>\n",
       "      <td>14</td>\n",
       "      <td>True</td>\n",
       "      <td>False</td>\n",
       "      <td>False</td>\n",
       "      <td>village kikerino</td>\n",
       "      <td>26711.0</td>\n",
       "      <td>14816.0</td>\n",
       "      <td>3127.0</td>\n",
       "      <td>0.0</td>\n",
       "      <td>586.871424</td>\n",
       "      <td>1.0</td>\n",
       "      <td>2019-04-08</td>\n",
       "      <td>1</td>\n",
       "      <td>4</td>\n",
       "      <td>662.196144</td>\n",
       "      <td>1</td>\n",
       "      <td>9</td>\n",
       "      <td>2018</td>\n",
       "      <td>last</td>\n",
       "      <td>0.670578</td>\n",
       "      <td>0.156748</td>\n",
       "    </tr>\n",
       "    <tr>\n",
       "      <td>17753</td>\n",
       "      <td>2016-02-18</td>\n",
       "      <td>139.0</td>\n",
       "      <td>36000.0</td>\n",
       "      <td>5</td>\n",
       "      <td>12.9</td>\n",
       "      <td>23.6</td>\n",
       "      <td>117.3</td>\n",
       "      <td>0.0</td>\n",
       "      <td>3.001081</td>\n",
       "      <td>4.0</td>\n",
       "      <td>2</td>\n",
       "      <td>12</td>\n",
       "      <td>False</td>\n",
       "      <td>False</td>\n",
       "      <td>False</td>\n",
       "      <td>saint petersburg</td>\n",
       "      <td>24670.0</td>\n",
       "      <td>5238.0</td>\n",
       "      <td>3127.0</td>\n",
       "      <td>0.0</td>\n",
       "      <td>NaN</td>\n",
       "      <td>0.0</td>\n",
       "      <td>2016-07-06</td>\n",
       "      <td>0</td>\n",
       "      <td>4</td>\n",
       "      <td>306.905371</td>\n",
       "      <td>3</td>\n",
       "      <td>2</td>\n",
       "      <td>2016</td>\n",
       "      <td>other</td>\n",
       "      <td>0.201194</td>\n",
       "      <td>0.109974</td>\n",
       "    </tr>\n",
       "    <tr>\n",
       "      <td>18186</td>\n",
       "      <td>2016-05-29</td>\n",
       "      <td>812.0</td>\n",
       "      <td>57000.0</td>\n",
       "      <td>5</td>\n",
       "      <td>9.0</td>\n",
       "      <td>76.0</td>\n",
       "      <td>106.0</td>\n",
       "      <td>0.0</td>\n",
       "      <td>2.600000</td>\n",
       "      <td>5.0</td>\n",
       "      <td>2</td>\n",
       "      <td>8</td>\n",
       "      <td>True</td>\n",
       "      <td>False</td>\n",
       "      <td>False</td>\n",
       "      <td>siversky village</td>\n",
       "      <td>26073.0</td>\n",
       "      <td>17986.0</td>\n",
       "      <td>3127.0</td>\n",
       "      <td>0.0</td>\n",
       "      <td>586.871424</td>\n",
       "      <td>1.0</td>\n",
       "      <td>2018-08-19</td>\n",
       "      <td>0</td>\n",
       "      <td>4</td>\n",
       "      <td>537.735849</td>\n",
       "      <td>6</td>\n",
       "      <td>5</td>\n",
       "      <td>2016</td>\n",
       "      <td>other</td>\n",
       "      <td>0.716981</td>\n",
       "      <td>0.084906</td>\n",
       "    </tr>\n",
       "    <tr>\n",
       "      <td>19952</td>\n",
       "      <td>2016-06-24</td>\n",
       "      <td>203.0</td>\n",
       "      <td>44000.0</td>\n",
       "      <td>4</td>\n",
       "      <td>13.7</td>\n",
       "      <td>90.7</td>\n",
       "      <td>138.7</td>\n",
       "      <td>0.0</td>\n",
       "      <td>3.001081</td>\n",
       "      <td>7.0</td>\n",
       "      <td>5</td>\n",
       "      <td>7</td>\n",
       "      <td>False</td>\n",
       "      <td>False</td>\n",
       "      <td>False</td>\n",
       "      <td>saint petersburg</td>\n",
       "      <td>25221.0</td>\n",
       "      <td>4069.0</td>\n",
       "      <td>3127.0</td>\n",
       "      <td>0.0</td>\n",
       "      <td>653.000000</td>\n",
       "      <td>2.0</td>\n",
       "      <td>2017-01-13</td>\n",
       "      <td>0</td>\n",
       "      <td>4</td>\n",
       "      <td>317.231435</td>\n",
       "      <td>4</td>\n",
       "      <td>6</td>\n",
       "      <td>2016</td>\n",
       "      <td>other</td>\n",
       "      <td>0.653929</td>\n",
       "      <td>0.098774</td>\n",
       "    </tr>\n",
       "    <tr>\n",
       "      <td>21338</td>\n",
       "      <td>2016-06-16</td>\n",
       "      <td>11.0</td>\n",
       "      <td>64000.0</td>\n",
       "      <td>1</td>\n",
       "      <td>13.0</td>\n",
       "      <td>43.0</td>\n",
       "      <td>190.0</td>\n",
       "      <td>0.0</td>\n",
       "      <td>3.000000</td>\n",
       "      <td>6.0</td>\n",
       "      <td>4</td>\n",
       "      <td>15</td>\n",
       "      <td>False</td>\n",
       "      <td>False</td>\n",
       "      <td>False</td>\n",
       "      <td>saint petersburg</td>\n",
       "      <td>22592.0</td>\n",
       "      <td>4312.0</td>\n",
       "      <td>350.0</td>\n",
       "      <td>1.0</td>\n",
       "      <td>NaN</td>\n",
       "      <td>0.0</td>\n",
       "      <td>2016-06-27</td>\n",
       "      <td>1</td>\n",
       "      <td>4</td>\n",
       "      <td>336.842105</td>\n",
       "      <td>3</td>\n",
       "      <td>6</td>\n",
       "      <td>2016</td>\n",
       "      <td>other</td>\n",
       "      <td>0.226316</td>\n",
       "      <td>0.068421</td>\n",
       "    </tr>\n",
       "    <tr>\n",
       "      <td>22963</td>\n",
       "      <td>2018-06-26</td>\n",
       "      <td>57.0</td>\n",
       "      <td>63000.0</td>\n",
       "      <td>5</td>\n",
       "      <td>24.0</td>\n",
       "      <td>78.0</td>\n",
       "      <td>102.0</td>\n",
       "      <td>1.0</td>\n",
       "      <td>3.001081</td>\n",
       "      <td>9.0</td>\n",
       "      <td>8</td>\n",
       "      <td>16</td>\n",
       "      <td>True</td>\n",
       "      <td>False</td>\n",
       "      <td>False</td>\n",
       "      <td>kingisepp</td>\n",
       "      <td>26073.0</td>\n",
       "      <td>17986.0</td>\n",
       "      <td>3127.0</td>\n",
       "      <td>0.0</td>\n",
       "      <td>586.871424</td>\n",
       "      <td>1.0</td>\n",
       "      <td>2018-08-22</td>\n",
       "      <td>0</td>\n",
       "      <td>4</td>\n",
       "      <td>617.647059</td>\n",
       "      <td>1</td>\n",
       "      <td>6</td>\n",
       "      <td>2018</td>\n",
       "      <td>other</td>\n",
       "      <td>0.764706</td>\n",
       "      <td>0.235294</td>\n",
       "    </tr>\n",
       "    <tr>\n",
       "      <td>23458</td>\n",
       "      <td>2016-11-04</td>\n",
       "      <td>NaN</td>\n",
       "      <td>51000.0</td>\n",
       "      <td>5</td>\n",
       "      <td>9.0</td>\n",
       "      <td>66.0</td>\n",
       "      <td>103.1</td>\n",
       "      <td>0.0</td>\n",
       "      <td>2.500000</td>\n",
       "      <td>5.0</td>\n",
       "      <td>4</td>\n",
       "      <td>16</td>\n",
       "      <td>True</td>\n",
       "      <td>False</td>\n",
       "      <td>False</td>\n",
       "      <td>village vozrozhdeniye</td>\n",
       "      <td>26073.0</td>\n",
       "      <td>17986.0</td>\n",
       "      <td>3127.0</td>\n",
       "      <td>0.0</td>\n",
       "      <td>586.871424</td>\n",
       "      <td>1.0</td>\n",
       "      <td>NaT</td>\n",
       "      <td>0</td>\n",
       "      <td>4</td>\n",
       "      <td>494.665373</td>\n",
       "      <td>4</td>\n",
       "      <td>11</td>\n",
       "      <td>2016</td>\n",
       "      <td>other</td>\n",
       "      <td>0.640155</td>\n",
       "      <td>0.087294</td>\n",
       "    </tr>\n",
       "    <tr>\n",
       "      <td>23477</td>\n",
       "      <td>2018-07-06</td>\n",
       "      <td>52.0</td>\n",
       "      <td>29000.0</td>\n",
       "      <td>3</td>\n",
       "      <td>12.0</td>\n",
       "      <td>58.0</td>\n",
       "      <td>138.0</td>\n",
       "      <td>0.0</td>\n",
       "      <td>3.001081</td>\n",
       "      <td>2.0</td>\n",
       "      <td>2</td>\n",
       "      <td>3</td>\n",
       "      <td>True</td>\n",
       "      <td>False</td>\n",
       "      <td>False</td>\n",
       "      <td>gatchina</td>\n",
       "      <td>26073.0</td>\n",
       "      <td>17986.0</td>\n",
       "      <td>3127.0</td>\n",
       "      <td>0.0</td>\n",
       "      <td>586.871424</td>\n",
       "      <td>1.0</td>\n",
       "      <td>2018-08-27</td>\n",
       "      <td>0</td>\n",
       "      <td>4</td>\n",
       "      <td>210.144928</td>\n",
       "      <td>4</td>\n",
       "      <td>7</td>\n",
       "      <td>2018</td>\n",
       "      <td>last</td>\n",
       "      <td>0.420290</td>\n",
       "      <td>0.086957</td>\n",
       "    </tr>\n",
       "  </tbody>\n",
       "</table>\n",
       "</div>"
      ],
      "text/plain": [
       "      date_posted  days_listed  last_price  bedrooms  kitchen_area  \\\n",
       "4659   2019-02-28          NaN     33000.0         5          11.0   \n",
       "7085   2019-03-03         19.0     73000.0         5           9.0   \n",
       "8793   2019-03-20          8.0       244.0         2          40.5   \n",
       "14655  2018-09-11        209.0     79000.0         3          18.7   \n",
       "17753  2016-02-18        139.0     36000.0         5          12.9   \n",
       "18186  2016-05-29        812.0     57000.0         5           9.0   \n",
       "19952  2016-06-24        203.0     44000.0         4          13.7   \n",
       "21338  2016-06-16         11.0     64000.0         1          13.0   \n",
       "22963  2018-06-26         57.0     63000.0         5          24.0   \n",
       "23458  2016-11-04          NaN     51000.0         5           9.0   \n",
       "23477  2018-07-06         52.0     29000.0         3          12.0   \n",
       "\n",
       "       living_area  total_area  balconies  ceiling_height  floors_total  \\\n",
       "4659          71.0       115.0        0.0        3.001081           5.0   \n",
       "7085          55.0       110.0        0.0        2.500000           6.0   \n",
       "8793          32.0       109.0        0.0        2.750000          25.0   \n",
       "14655         80.0       119.3        0.0        2.800000           3.0   \n",
       "17753         23.6       117.3        0.0        3.001081           4.0   \n",
       "18186         76.0       106.0        0.0        2.600000           5.0   \n",
       "19952         90.7       138.7        0.0        3.001081           7.0   \n",
       "21338         43.0       190.0        0.0        3.000000           6.0   \n",
       "22963         78.0       102.0        1.0        3.001081           9.0   \n",
       "23458         66.0       103.1        0.0        2.500000           5.0   \n",
       "23477         58.0       138.0        0.0        3.001081           2.0   \n",
       "\n",
       "       floor  total_images  bike_parking  is_studio  is_open_plan  \\\n",
       "4659       1             1          True      False         False   \n",
       "7085       5            16          True      False         False   \n",
       "8793      25             7          True      False         False   \n",
       "14655      3            14          True      False         False   \n",
       "17753      2            12         False      False         False   \n",
       "18186      2             8          True      False         False   \n",
       "19952      5             7         False      False         False   \n",
       "21338      4            15         False      False         False   \n",
       "22963      8            16          True      False         False   \n",
       "23458      4            16          True      False         False   \n",
       "23477      2             3          True      False         False   \n",
       "\n",
       "               locality_name  airport_dist  city_center_dist  park_dist  \\\n",
       "4659                 slantsy       26073.0           17986.0     3127.0   \n",
       "7085                 kirishi       26711.0           14816.0     3127.0   \n",
       "8793        saint petersburg       36421.0            9176.0      805.0   \n",
       "14655       village kikerino       26711.0           14816.0     3127.0   \n",
       "17753       saint petersburg       24670.0            5238.0     3127.0   \n",
       "18186       siversky village       26073.0           17986.0     3127.0   \n",
       "19952       saint petersburg       25221.0            4069.0     3127.0   \n",
       "21338       saint petersburg       22592.0            4312.0      350.0   \n",
       "22963              kingisepp       26073.0           17986.0     3127.0   \n",
       "23458  village vozrozhdeniye       26073.0           17986.0     3127.0   \n",
       "23477               gatchina       26073.0           17986.0     3127.0   \n",
       "\n",
       "       parks_within_3000   pond_dist  ponds_within_3000 date_removed  \\\n",
       "4659                 0.0  586.871424                1.0          NaT   \n",
       "7085                 0.0  586.871424                1.0   2019-03-22   \n",
       "8793                 1.0         NaN                0.0   2019-03-28   \n",
       "14655                0.0  586.871424                1.0   2019-04-08   \n",
       "17753                0.0         NaN                0.0   2016-07-06   \n",
       "18186                0.0  586.871424                1.0   2018-08-19   \n",
       "19952                0.0  653.000000                2.0   2017-01-13   \n",
       "21338                1.0         NaN                0.0   2016-06-27   \n",
       "22963                0.0  586.871424                1.0   2018-08-22   \n",
       "23458                0.0  586.871424                1.0          NaT   \n",
       "23477                0.0  586.871424                1.0   2018-08-27   \n",
       "\n",
       "       last_price_level  total_area_level  price_per_sm  ad_weekday  ad_month  \\\n",
       "4659                  0                 4    286.956522           3         2   \n",
       "7085                  1                 4    663.636364           6         3   \n",
       "8793                  0                 4      2.238532           2         3   \n",
       "14655                 1                 4    662.196144           1         9   \n",
       "17753                 0                 4    306.905371           3         2   \n",
       "18186                 0                 4    537.735849           6         5   \n",
       "19952                 0                 4    317.231435           4         6   \n",
       "21338                 1                 4    336.842105           3         6   \n",
       "22963                 0                 4    617.647059           1         6   \n",
       "23458                 0                 4    494.665373           4        11   \n",
       "23477                 0                 4    210.144928           4         7   \n",
       "\n",
       "       ad_year floor_topbot  living_ratio  kitchen_ratio  \n",
       "4659      2019        first      0.617391       0.095652  \n",
       "7085      2019        other      0.500000       0.081818  \n",
       "8793      2019         last      0.293578       0.371560  \n",
       "14655     2018         last      0.670578       0.156748  \n",
       "17753     2016        other      0.201194       0.109974  \n",
       "18186     2016        other      0.716981       0.084906  \n",
       "19952     2016        other      0.653929       0.098774  \n",
       "21338     2016        other      0.226316       0.068421  \n",
       "22963     2018        other      0.764706       0.235294  \n",
       "23458     2016        other      0.640155       0.087294  \n",
       "23477     2018         last      0.420290       0.086957  "
      ]
     },
     "execution_count": 26,
     "metadata": {},
     "output_type": "execute_result"
    }
   ],
   "source": [
    "#Count number of houses that are > 300 square meters in total area\n",
    "len(df.query('total_area > 300')) #61\n",
    "#Drop these observations\n",
    "df = df.query('total_area <= 300')\n",
    "\n",
    "df['total_area'].describe()\n",
    "\n",
    "#Investigate the big houses (total_area > 100): too see if the price_level is compatible with the area\n",
    "len(df.query('total_area > 100')) #1758\n",
    "\n",
    "df.query('total_area > 100 & last_price_level == (0,1)') #10 rows, not many, these houses might have some disadvantages in distance_to_center or locality\n"
   ]
  },
  {
   "cell_type": "markdown",
   "metadata": {},
   "source": [
    "### 4.1.2. Price"
   ]
  },
  {
   "cell_type": "code",
   "execution_count": 27,
   "metadata": {},
   "outputs": [
    {
     "data": {
      "text/plain": [
       "count    2.350400e+04\n",
       "mean     1.260672e+05\n",
       "std      1.556522e+05\n",
       "min      2.440000e+02\n",
       "25%      6.800000e+04\n",
       "50%      9.200000e+04\n",
       "75%      1.350000e+05\n",
       "max      6.600000e+06\n",
       "Name: last_price, dtype: float64"
      ]
     },
     "execution_count": 27,
     "metadata": {},
     "output_type": "execute_result"
    },
    {
     "data": {
      "image/png": "[encoded data removed]",
      "text/plain": [
       "<Figure size 432x288 with 1 Axes>"
      ]
     },
     "metadata": {
      "needs_background": "light"
     },
     "output_type": "display_data"
    }
   ],
   "source": [
    "df['last_price'].hist(range=(0,400000), bins=100)\n",
    "df['last_price'].describe()"
   ]
  },
  {
   "cell_type": "code",
   "execution_count": 28,
   "metadata": {},
   "outputs": [
    {
     "data": {
      "text/plain": [
       "<matplotlib.axes._subplots.AxesSubplot at 0x7efe5bc2eb90>"
      ]
     },
     "execution_count": 28,
     "metadata": {},
     "output_type": "execute_result"
    },
    {
     "data": {
      "image/png": "[encoded data removed]",
      "text/plain": [
       "<Figure size 432x288 with 1 Axes>"
      ]
     },
     "metadata": {
      "needs_background": "light"
     },
     "output_type": "display_data"
    }
   ],
   "source": [
    "df['last_price'].hist(range=(150000,6000000), bins=100)"
   ]
  },
  {
   "cell_type": "markdown",
   "metadata": {},
   "source": [
    "Comment: The graph has its peak around 70k-80k dollars, most of the houses' total area range from 68k to 135k dollars (the interquartile range). The maximum price (6.6mil), the minimum price is 244 dollars. \n",
    "- However this minumum value is suspected to be incorrectly inputed. The graph shows there is a space between values above 8100 and near 0. Need to investigate\n",
    "- On the higher end of the value range, houses that cost more than 1.8million are very rare --> drop"
   ]
  },
  {
   "cell_type": "code",
   "execution_count": 29,
   "metadata": {},
   "outputs": [
    {
     "data": {
      "text/plain": [
       "count    2.347700e+04\n",
       "mean     1.229695e+05\n",
       "std      1.187100e+05\n",
       "min      8.600000e+03\n",
       "25%      6.800000e+04\n",
       "50%      9.200000e+04\n",
       "75%      1.340000e+05\n",
       "max      1.740000e+06\n",
       "Name: last_price, dtype: float64"
      ]
     },
     "execution_count": 29,
     "metadata": {},
     "output_type": "execute_result"
    }
   ],
   "source": [
    "df = df.query('last_price > 8100 & last_price < 1800000') \n",
    "df['last_price'].describe()"
   ]
  },
  {
   "cell_type": "markdown",
   "metadata": {},
   "source": [
    "### 4.1.3. Number of rooms"
   ]
  },
  {
   "cell_type": "code",
   "execution_count": 30,
   "metadata": {},
   "outputs": [
    {
     "data": {
      "image/png": "[encoded data removed]",
      "text/plain": [
       "<Figure size 432x288 with 1 Axes>"
      ]
     },
     "metadata": {
      "needs_background": "light"
     },
     "output_type": "display_data"
    }
   ],
   "source": [
    "df['bedrooms'].hist(bins=100)\n",
    "\n",
    "len(df.query('bedrooms > 8 & last_price_level != 4')) #11\n",
    "\n",
    "df['bedrooms'].value_counts()\n",
    "\n",
    "#Houses that have more than 8 rooms are rare, let choose this as a threshold \n",
    "#Drop houses that have more than 8 rooms\n",
    "\n",
    "df = df.query('bedrooms <= 8')"
   ]
  },
  {
   "cell_type": "markdown",
   "metadata": {},
   "source": [
    "### 4.1.4. Ceiling height"
   ]
  },
  {
   "cell_type": "code",
   "execution_count": 31,
   "metadata": {},
   "outputs": [
    {
     "data": {
      "text/plain": [
       "count    23466.000000\n",
       "mean         2.763745\n",
       "std          0.992411\n",
       "min          1.000000\n",
       "25%          2.600000\n",
       "50%          2.703423\n",
       "75%          2.750000\n",
       "max        100.000000\n",
       "Name: ceiling_height, dtype: float64"
      ]
     },
     "execution_count": 31,
     "metadata": {},
     "output_type": "execute_result"
    },
    {
     "data": {
      "image/png": "[encoded data removed]",
      "text/plain": [
       "<Figure size 432x288 with 1 Axes>"
      ]
     },
     "metadata": {
      "needs_background": "light"
     },
     "output_type": "display_data"
    }
   ],
   "source": [
    "df['ceiling_height'].hist(range=(2,10), bins=100)\n",
    "df['ceiling_height'].describe()"
   ]
  },
  {
   "cell_type": "code",
   "execution_count": 32,
   "metadata": {},
   "outputs": [
    {
     "data": {
      "text/plain": [
       "count    23433.000000\n",
       "mean         2.735481\n",
       "std          0.221381\n",
       "min          1.000000\n",
       "25%          2.600000\n",
       "50%          2.703423\n",
       "75%          2.750000\n",
       "max          5.000000\n",
       "Name: ceiling_height, dtype: float64"
      ]
     },
     "execution_count": 32,
     "metadata": {},
     "output_type": "execute_result"
    }
   ],
   "source": [
    "#Decide to drop rows that have ceiling_height > 5 (because values are rare and impractical height for ceilings)\n",
    "len(df.query('ceiling_height > 5')) #only 33 observations\n",
    "df = df[df.ceiling_height <= 5]\n",
    "df['ceiling_height'].describe()"
   ]
  },
  {
   "cell_type": "markdown",
   "metadata": {},
   "source": [
    "##### Comment: \n",
    "The graph's peak is around 2.7 meter - this is a practical ceiling height. Decide to drop rows that have ceiling height > 5 (there are only 33 observations with ceiling height >5, so safe to drop)"
   ]
  },
  {
   "cell_type": "markdown",
   "metadata": {},
   "source": [
    "### 4.2. Task 2&3: \n",
    "- Examine the time it's taken to sell the apartment and plot a histogram. Calculate the mean and median and explain the average time it usually takes to complete a sale. When can a sale be considered to have happened rather quickly or taken an extra long time?\n",
    "\n",
    "- Remove rare and outlying values and describe the patterns you've discovered."
   ]
  },
  {
   "cell_type": "markdown",
   "metadata": {},
   "source": [
    "### 4.2.1. Investigate the general info of days_listed for a sale to be completed"
   ]
  },
  {
   "cell_type": "code",
   "execution_count": 33,
   "metadata": {},
   "outputs": [
    {
     "data": {
      "text/plain": [
       "count    20289.000000\n",
       "mean       180.318991\n",
       "std        219.339807\n",
       "min          1.000000\n",
       "25%         45.000000\n",
       "50%         95.000000\n",
       "75%        230.000000\n",
       "max       1580.000000\n",
       "Name: days_listed, dtype: float64"
      ]
     },
     "execution_count": 33,
     "metadata": {},
     "output_type": "execute_result"
    },
    {
     "data": {
      "image/png": "[encoded data removed]",
      "text/plain": [
       "<Figure size 432x288 with 1 Axes>"
      ]
     },
     "metadata": {
      "needs_background": "light"
     },
     "output_type": "display_data"
    }
   ],
   "source": [
    "#Using boxplot to investigate the values of days_listed\n",
    "df.boxplot(column=['days_listed'])\n",
    "plt.ylim(-10, 600)\n",
    "df['days_listed'].describe()"
   ]
  },
  {
   "cell_type": "markdown",
   "metadata": {},
   "source": [
    "### Comments:\n",
    "- The mean (180) is nearly double the median (95), which means there are a few high values that affect the mean\n",
    "- Regular values fall within the whiskers, which range from 1 to 510 days. \n",
    "- The interquartile ranges from 45 to 230 days - this is the range where most the values lie within. \n",
    "- The outliers are displayed as points outside of the whiskers: > 510 (the other end of the whisker stops at 0). Therefore a sale can be considered to have happened too long are those that take more than around 510 days. Actually those sale that were sold below the Q1 (45 days) seem suspiciously quick too. "
   ]
  },
  {
   "cell_type": "markdown",
   "metadata": {},
   "source": [
    "### 4.2.2. Investigate the suspiciously long time to sell a house"
   ]
  },
  {
   "cell_type": "code",
   "execution_count": 34,
   "metadata": {},
   "outputs": [
    {
     "data": {
      "text/plain": [
       "<matplotlib.axes._subplots.AxesSubplot at 0x7efe5ba0e2d0>"
      ]
     },
     "execution_count": 34,
     "metadata": {},
     "output_type": "execute_result"
    },
    {
     "data": {
      "image/png": "[encoded data removed]",
      "text/plain": [
       "<Figure size 432x288 with 1 Axes>"
      ]
     },
     "metadata": {
      "needs_background": "light"
     },
     "output_type": "display_data"
    }
   ],
   "source": [
    "#Using histogram to investigate the values of days_listed\n",
    "df['days_listed'].hist(range=(0,1600), bins=100)"
   ]
  },
  {
   "cell_type": "markdown",
   "metadata": {},
   "source": [
    "There's a sharp peak around 45 and 60 days, whereas the wider peak is around 230 days. This confirms the conslusion from the boxplot: 45-230 days is the average time it usually takes to complete a sale. The distribution has a long tail, which means there are a few high values that affect the mean. There aren't many values after 1000 days, although we have a few outliers ranging all the way up to 1580 days. "
   ]
  },
  {
   "cell_type": "code",
   "execution_count": 35,
   "metadata": {},
   "outputs": [
    {
     "data": {
      "text/plain": [
       "271"
      ]
     },
     "execution_count": 35,
     "metadata": {},
     "output_type": "execute_result"
    }
   ],
   "source": [
    "len(df.query('days_listed > 1000')) #271 observations - ~1% of the dataset, safe to drop"
   ]
  },
  {
   "cell_type": "markdown",
   "metadata": {},
   "source": [
    "The time that takes more than 1000 days (nearly 3 years) seem to be suspicious. Also, the typical US home spent between 65 and 93 days on the market, from listing to closing (ref: https://www.zillow.com/sellers-guide/average-time-to-sell-a-house/).\n",
    "People might forget to take out the ad even after the property was sold, or it might be a scam. If that's the case, they don't count toward our research. Decide to drop observations > 1000 days"
   ]
  },
  {
   "cell_type": "code",
   "execution_count": 36,
   "metadata": {},
   "outputs": [
    {
     "data": {
      "text/plain": [
       "count    20018.000000\n",
       "mean       166.935508\n",
       "std        187.372279\n",
       "min          1.000000\n",
       "25%         44.000000\n",
       "50%         93.000000\n",
       "75%        220.000000\n",
       "max       1000.000000\n",
       "Name: days_listed, dtype: float64"
      ]
     },
     "execution_count": 36,
     "metadata": {},
     "output_type": "execute_result"
    }
   ],
   "source": [
    "df = df.query('days_listed <= 1000')\n",
    "df['days_listed'].describe()"
   ]
  },
  {
   "cell_type": "markdown",
   "metadata": {},
   "source": [
    "### 4.2.3. Investigate the suspiciously quick time to sell a house"
   ]
  },
  {
   "cell_type": "code",
   "execution_count": 37,
   "metadata": {},
   "outputs": [
    {
     "data": {
      "text/plain": [
       "<matplotlib.axes._subplots.AxesSubplot at 0x7efe5b840250>"
      ]
     },
     "execution_count": 37,
     "metadata": {},
     "output_type": "execute_result"
    },
    {
     "data": {
      "image/png": "[encoded data removed]",
      "text/plain": [
       "<Figure size 432x288 with 1 Axes>"
      ]
     },
     "metadata": {
      "needs_background": "light"
     },
     "output_type": "display_data"
    }
   ],
   "source": [
    "df['days_listed'].hist(range=(0,50), bins=100)"
   ]
  },
  {
   "cell_type": "markdown",
   "metadata": {},
   "source": [
    "The houses that were sold below 3 days are very rare --> drop these houses"
   ]
  },
  {
   "cell_type": "code",
   "execution_count": 38,
   "metadata": {},
   "outputs": [
    {
     "name": "stdout",
     "output_type": "stream",
     "text": [
      "<class 'pandas.core.frame.DataFrame'>\n",
      "Int64Index: 20014 entries, 1 to 23697\n",
      "Data columns (total 32 columns):\n",
      "date_posted          20014 non-null datetime64[ns]\n",
      "days_listed          20014 non-null float64\n",
      "last_price           20014 non-null float64\n",
      "bedrooms             20014 non-null int64\n",
      "kitchen_area         20014 non-null float64\n",
      "living_area          20014 non-null float64\n",
      "total_area           20014 non-null float64\n",
      "balconies            20014 non-null float64\n",
      "ceiling_height       20014 non-null float64\n",
      "floors_total         20014 non-null float64\n",
      "floor                20014 non-null int64\n",
      "total_images         20014 non-null int64\n",
      "bike_parking         20014 non-null bool\n",
      "is_studio            20014 non-null bool\n",
      "is_open_plan         20014 non-null bool\n",
      "locality_name        20014 non-null object\n",
      "airport_dist         20014 non-null float64\n",
      "city_center_dist     20014 non-null float64\n",
      "park_dist            20014 non-null float64\n",
      "parks_within_3000    20014 non-null float64\n",
      "pond_dist            12193 non-null float64\n",
      "ponds_within_3000    20014 non-null float64\n",
      "date_removed         20014 non-null datetime64[ns]\n",
      "last_price_level     20014 non-null int64\n",
      "total_area_level     20014 non-null int64\n",
      "price_per_sm         20014 non-null float64\n",
      "ad_weekday           20014 non-null int64\n",
      "ad_month             20014 non-null int64\n",
      "ad_year              20014 non-null int64\n",
      "floor_topbot         20014 non-null object\n",
      "living_ratio         20014 non-null float64\n",
      "kitchen_ratio        20014 non-null float64\n",
      "dtypes: bool(3), datetime64[ns](2), float64(17), int64(8), object(2)\n",
      "memory usage: 4.6+ MB\n"
     ]
    }
   ],
   "source": [
    "df = df.query('days_listed >=3')\n",
    "df.info()"
   ]
  },
  {
   "cell_type": "markdown",
   "metadata": {},
   "source": [
    "### Task 2 & 3 conclusions:\n",
    "- The mean is nearly double the median (95), which means there are a few high values that affect the mean\n",
    "- A sale can be considered to have happened too quickly are those took less than 3 days to complete.\n",
    "- A sale can be considered to have happened too long are those took more than 1000 days to complete. \n",
    "- These are the two safe thresolds (3 and 1000 days) to remove data points, actually it mostly took 45 to 230 days to complete a sale "
   ]
  },
  {
   "cell_type": "markdown",
   "metadata": {},
   "source": [
    "### 4.3. Task 4: Examine Which factors have had the biggest influence on an apartment’s price"
   ]
  },
  {
   "cell_type": "markdown",
   "metadata": {},
   "source": [
    "Describe: \n",
    "- Examine whether the apartment's price depends on:\n",
    "    - Continuous variables: total square area, the proximity to the city center area\n",
    "    - Discrete variable: number of rooms\n",
    "    - Categorical variable: floor (top or bottom)\n",
    "- Also check whether the publication date has any effect on the price: \n",
    "   - Day of the week\n",
    "   - Month\n",
    "   - Year\n",
    "\n",
    "*Note that using scatter plot is preferable to hexbin. If you do decide to use hexbin, please use scatter plot too, and then compare the results. It is also recommended to check the hexbin documentation and carefully study its parameters."
   ]
  },
  {
   "cell_type": "markdown",
   "metadata": {},
   "source": [
    "### 4.3.1. Relationship between apartment price and continuous variables: total square area, the proximity to the city center area"
   ]
  },
  {
   "cell_type": "markdown",
   "metadata": {},
   "source": [
    "### 4.3.1.1. Total square area"
   ]
  },
  {
   "cell_type": "code",
   "execution_count": 39,
   "metadata": {},
   "outputs": [
    {
     "data": {
      "text/plain": [
       "(0, 2000000)"
      ]
     },
     "execution_count": 39,
     "metadata": {},
     "output_type": "execute_result"
    },
    {
     "data": {
      "image/png": "[encoded data removed]",
      "text/plain": [
       "<Figure size 432x288 with 1 Axes>"
      ]
     },
     "metadata": {
      "needs_background": "light"
     },
     "output_type": "display_data"
    }
   ],
   "source": [
    "#scatterplot\n",
    "\n",
    "plt.scatter(df['total_area'], df['last_price'], label= 'Sale Price vs total area square feet', color= \"green\",  \n",
    "            marker= \"*\", s=50, alpha=0.1) \n",
    "plt.xlabel('Total area square feet') \n",
    "plt.ylabel('Sale price') \n",
    "plt.ylim(0,2000000)"
   ]
  },
  {
   "cell_type": "markdown",
   "metadata": {},
   "source": [
    "#### Comments about the graph:\n",
    "- Most of the houses have a total area from 12 to 140 square meters with the corresponding price range from 10,000 - 300,000 dollars. The houses in these ranges follow an approximate linear relationship, i.e. the bigger the total area is, the higher the sale price is.\n",
    "- The houses out of these ranges do not follow any pattern (the points in the plot form a cloud without any specific pattern)"
   ]
  },
  {
   "cell_type": "code",
   "execution_count": 40,
   "metadata": {},
   "outputs": [
    {
     "data": {
      "text/plain": [
       "0.7496652961833968"
      ]
     },
     "execution_count": 40,
     "metadata": {},
     "output_type": "execute_result"
    }
   ],
   "source": [
    "#Investigate the correlation by corr test\n",
    "df['total_area'].corr(df['last_price'])"
   ]
  },
  {
   "cell_type": "markdown",
   "metadata": {},
   "source": [
    "The correlation coefficient is strong, confirms the above comments from the plot."
   ]
  },
  {
   "cell_type": "code",
   "execution_count": 41,
   "metadata": {},
   "outputs": [
    {
     "data": {
      "text/plain": [
       "(0, 500000)"
      ]
     },
     "execution_count": 41,
     "metadata": {},
     "output_type": "execute_result"
    },
    {
     "data": {
      "image/png": "[encoded data removed]",
      "text/plain": [
       "<Figure size 432x288 with 1 Axes>"
      ]
     },
     "metadata": {
      "needs_background": "light"
     },
     "output_type": "display_data"
    }
   ],
   "source": [
    "plt.scatter(df['city_center_dist'], df['last_price'], label= 'Sale Price vs total area square feet', color= \"green\",  \n",
    "            marker= \"*\", s=50, alpha=0.1) \n",
    "plt.xlabel('Distance to city center') \n",
    "plt.ylabel('Sale price') \n",
    "plt.ylim(0,500000)"
   ]
  },
  {
   "cell_type": "markdown",
   "metadata": {},
   "source": [
    "#### Comments about the graph:\n",
    "- Most of the houses that are at higher price (>300,000) are closer to city center, i.e. distance is shorter (< 10000m or 10km) --> a negative correlation\n",
    "- There is a smaller portion of houses that are very far from city center (>40km). Most of theses houses have lower price (<100,000 dollars) --> a negative correlation\n",
    "- The housess' distance to the city in the range of 0-20000m have sale price varying in the range of 50,000 to 200,000 dollars. In this range, distance and sale price do not follow a clear pattern. "
   ]
  },
  {
   "cell_type": "code",
   "execution_count": 42,
   "metadata": {},
   "outputs": [
    {
     "data": {
      "text/plain": [
       "-0.33175651955326974"
      ]
     },
     "execution_count": 42,
     "metadata": {},
     "output_type": "execute_result"
    }
   ],
   "source": [
    "#Investigate the correlation by corr test\n",
    "df['city_center_dist'].corr(df['last_price'])"
   ]
  },
  {
   "cell_type": "markdown",
   "metadata": {},
   "source": [
    "This is a relatively weak negative correlation coefficient, which confirms the results from the graph."
   ]
  },
  {
   "cell_type": "markdown",
   "metadata": {},
   "source": [
    "### 4.3.1.2. Relationship between apartment price and discrete variable: number of rooms"
   ]
  },
  {
   "cell_type": "code",
   "execution_count": 43,
   "metadata": {},
   "outputs": [
    {
     "data": {
      "text/plain": [
       "(0, 2000000)"
      ]
     },
     "execution_count": 43,
     "metadata": {},
     "output_type": "execute_result"
    },
    {
     "data": {
      "image/png": "[encoded data removed]",
      "text/plain": [
       "<Figure size 432x288 with 1 Axes>"
      ]
     },
     "metadata": {
      "needs_background": "light"
     },
     "output_type": "display_data"
    }
   ],
   "source": [
    "#Use box-plot instead of scatterplot\n",
    "sns.boxplot(x=\"bedrooms\", y=\"last_price\", data=df)\n",
    "plt.ylim(0, 2000000)"
   ]
  },
  {
   "cell_type": "markdown",
   "metadata": {},
   "source": [
    "#### Comments about the graph:\n",
    "- Houses with 0-3 bedrooms have a narrow avarage price range, from 60k - 120k\n",
    "- Houses with more than 3 bedrooms have wider price range\n",
    "- The number of bedrooms follows a positive correlation with the median price"
   ]
  },
  {
   "cell_type": "code",
   "execution_count": 44,
   "metadata": {},
   "outputs": [
    {
     "data": {
      "text/plain": [
       "0.533980175584699"
      ]
     },
     "execution_count": 44,
     "metadata": {},
     "output_type": "execute_result"
    }
   ],
   "source": [
    "#Investigate the correlation by corr test\n",
    "df['bedrooms'].corr(df['last_price'], method='spearman') #because of discrete data, use spearman method"
   ]
  },
  {
   "cell_type": "markdown",
   "metadata": {},
   "source": [
    "The correlation is moderately strong, which confirms the findings from the graph"
   ]
  },
  {
   "cell_type": "markdown",
   "metadata": {},
   "source": [
    "### 4.3.1.3. Relationship between apartment price and categorical variable: floor"
   ]
  },
  {
   "cell_type": "code",
   "execution_count": 45,
   "metadata": {},
   "outputs": [
    {
     "data": {
      "text/plain": [
       "(0, 250000)"
      ]
     },
     "execution_count": 45,
     "metadata": {},
     "output_type": "execute_result"
    },
    {
     "data": {
      "image/png": "[encoded data removed]",
      "text/plain": [
       "<Figure size 432x288 with 1 Axes>"
      ]
     },
     "metadata": {
      "needs_background": "light"
     },
     "output_type": "display_data"
    }
   ],
   "source": [
    "sns.boxplot(x=\"floor_topbot\", y=\"last_price\", data=df)\n",
    "plt.ylim(0, 250000)"
   ]
  },
  {
   "cell_type": "markdown",
   "metadata": {},
   "source": [
    "#### Comments about the graph:\n",
    "The relationship between apartment price and the floor that the apartment is on (first or top) is not clear though the median price of the houses on the top floor is slightly higher than that of the houses at the first floor."
   ]
  },
  {
   "cell_type": "markdown",
   "metadata": {},
   "source": [
    "### 4.3.1.4. Relationship between apartment price and publication date: day of the week, month, year"
   ]
  },
  {
   "cell_type": "markdown",
   "metadata": {},
   "source": [
    "### a. Relationship between apartment price and the day of the week that an ad was published"
   ]
  },
  {
   "cell_type": "code",
   "execution_count": 46,
   "metadata": {},
   "outputs": [
    {
     "data": {
      "text/plain": [
       "<matplotlib.axes._subplots.AxesSubplot at 0x7efe5b628750>"
      ]
     },
     "execution_count": 46,
     "metadata": {},
     "output_type": "execute_result"
    },
    {
     "data": {
      "image/png": "[encoded data removed]",
      "text/plain": [
       "<Figure size 432x288 with 1 Axes>"
      ]
     },
     "metadata": {
      "needs_background": "light"
     },
     "output_type": "display_data"
    }
   ],
   "source": [
    "#Create graphs to examine the pattern between ad day of the week and housing price\n",
    "df.groupby('ad_weekday')['last_price'].mean().plot(style=\"o-\")"
   ]
  },
  {
   "cell_type": "markdown",
   "metadata": {},
   "source": [
    "#### Comments about the graph:\n",
    "- The price goes up in the first half of the week, reaching its highest price on Thursday\n",
    "- Then it goes down in the second half of the week, reaching its lowest price on Sunday"
   ]
  },
  {
   "cell_type": "markdown",
   "metadata": {},
   "source": [
    "### b. Relationship between apartment price and the month that an ad was published"
   ]
  },
  {
   "cell_type": "code",
   "execution_count": 47,
   "metadata": {},
   "outputs": [
    {
     "data": {
      "text/plain": [
       "<matplotlib.axes._subplots.AxesSubplot at 0x7efe5b640490>"
      ]
     },
     "execution_count": 47,
     "metadata": {},
     "output_type": "execute_result"
    },
    {
     "data": {
      "image/png": "[encoded data removed]",
      "text/plain": [
       "<Figure size 432x288 with 1 Axes>"
      ]
     },
     "metadata": {
      "needs_background": "light"
     },
     "output_type": "display_data"
    }
   ],
   "source": [
    "#Create graphs to examine the pattern between ad month and housing price\n",
    "df.groupby('ad_month')['last_price'].mean().plot(style=\"o-\")"
   ]
  },
  {
   "cell_type": "markdown",
   "metadata": {},
   "source": [
    "#### Comments about the graph:\n",
    "- The mean housing price is highest in May and September\n",
    "- The mean housing price is lowest in March and October\n",
    "- There is not a linear relationship between month of the ad and housing price, instead the lines form a zig zag shape: the price goes up in one month, then the next month it drops (except from March to May)"
   ]
  },
  {
   "cell_type": "markdown",
   "metadata": {},
   "source": [
    "### c. Relationship between apartment price and the year that an ad was published"
   ]
  },
  {
   "cell_type": "code",
   "execution_count": 48,
   "metadata": {},
   "outputs": [
    {
     "data": {
      "text/plain": [
       "<matplotlib.axes._subplots.AxesSubplot at 0x7efe5baa1650>"
      ]
     },
     "execution_count": 48,
     "metadata": {},
     "output_type": "execute_result"
    },
    {
     "data": {
      "image/png": "[encoded data removed]",
      "text/plain": [
       "<Figure size 432x288 with 1 Axes>"
      ]
     },
     "metadata": {
      "needs_background": "light"
     },
     "output_type": "display_data"
    }
   ],
   "source": [
    "#Create graphs to examine the pattern between ad year and housing price\n",
    "df.groupby('ad_year')['last_price'].mean().plot(style=\"o-\")"
   ]
  },
  {
   "cell_type": "markdown",
   "metadata": {},
   "source": [
    "#### Comments about the graph:\n",
    "- The house price in the year 2014 has the highest median \n",
    "- From 2014 to 2015, the price dropped dramatically\n",
    "- From 2015 to 2018, the price went down year by year with a slower rate\n",
    "- 2019: the price went up a little bit"
   ]
  },
  {
   "cell_type": "markdown",
   "metadata": {},
   "source": [
    "### Task 4 conclusions:\n",
    "- The factors that have the biggest influence on the apartment price are: total area, followed by number of bedrooms and lastly distance to city center.\n",
    "- The time that an ad was published (day of the week, month, year) affects the house price but not in a linear relationship"
   ]
  },
  {
   "cell_type": "markdown",
   "metadata": {},
   "source": [
    "### Task 5: Examine the localities that have the highest and lowest housing price"
   ]
  },
  {
   "cell_type": "markdown",
   "metadata": {},
   "source": [
    "Describe: \n",
    "- Select the 10 localities with the largest number of ads then calculate the average price per square meter in these localities\n",
    "- Determine which ones have the highest and lowest housing prices.\n",
    "\n",
    "*Note: You can find this data by name in the ’locality_name’ column."
   ]
  },
  {
   "cell_type": "code",
   "execution_count": 49,
   "metadata": {},
   "outputs": [
    {
     "data": {
      "text/plain": [
       "saint petersburg     13281\n",
       "murino village         540\n",
       "shushary village       403\n",
       "vsevolozhsk            335\n",
       "kolpino                305\n",
       "pargolovo village      301\n",
       "pushkin                298\n",
       "kudrovo village        294\n",
       "gatchina               267\n",
       "vyborg                 207\n",
       "Name: locality_name, dtype: int64"
      ]
     },
     "execution_count": 49,
     "metadata": {},
     "output_type": "execute_result"
    }
   ],
   "source": [
    "#Select the 10 localities with the largest number of ads\n",
    "df['locality_name'].value_counts().head(10)"
   ]
  },
  {
   "cell_type": "code",
   "execution_count": 50,
   "metadata": {},
   "outputs": [
    {
     "data": {
      "text/plain": [
       "['saint petersburg',\n",
       " 'murino village',\n",
       " 'shushary village',\n",
       " 'vsevolozhsk',\n",
       " 'kolpino',\n",
       " 'pargolovo village',\n",
       " 'pushkin',\n",
       " 'kudrovo village',\n",
       " 'gatchina',\n",
       " 'vyborg']"
      ]
     },
     "execution_count": 50,
     "metadata": {},
     "output_type": "execute_result"
    }
   ],
   "source": [
    "#Get the top 10 localities with the highest number of ads and save them into a list to extract data\n",
    "top_localities = df['locality_name'].value_counts()[:10].index.tolist()\n",
    "top_localities"
   ]
  },
  {
   "cell_type": "code",
   "execution_count": 51,
   "metadata": {},
   "outputs": [
    {
     "data": {
      "text/plain": [
       "array(['shushary village', 'saint petersburg', 'pargolovo village',\n",
       "       'murino village', 'pushkin', 'kudrovo village', 'kolpino',\n",
       "       'gatchina', 'vyborg', 'vsevolozhsk'], dtype=object)"
      ]
     },
     "execution_count": 51,
     "metadata": {},
     "output_type": "execute_result"
    }
   ],
   "source": [
    "#Extract a dataframe from the original df that has the locality_name in the top_localities list\n",
    "top = df.query('locality_name in @ top_localities')\n",
    "top.head(50)\n",
    "top['locality_name'].unique()"
   ]
  },
  {
   "cell_type": "code",
   "execution_count": 52,
   "metadata": {},
   "outputs": [
    {
     "data": {
      "text/html": [
       "<div>\n",
       "<style scoped>\n",
       "    .dataframe tbody tr th:only-of-type {\n",
       "        vertical-align: middle;\n",
       "    }\n",
       "\n",
       "    .dataframe tbody tr th {\n",
       "        vertical-align: top;\n",
       "    }\n",
       "\n",
       "    .dataframe thead th {\n",
       "        text-align: right;\n",
       "    }\n",
       "</style>\n",
       "<table border=\"1\" class=\"dataframe\">\n",
       "  <thead>\n",
       "    <tr style=\"text-align: right;\">\n",
       "      <th></th>\n",
       "      <th>locality_name</th>\n",
       "      <th>price_per_sm</th>\n",
       "      <th>total_price</th>\n",
       "    </tr>\n",
       "  </thead>\n",
       "  <tbody>\n",
       "    <tr>\n",
       "      <td>6</td>\n",
       "      <td>saint petersburg</td>\n",
       "      <td>2216.033742</td>\n",
       "      <td>140469.232964</td>\n",
       "    </tr>\n",
       "    <tr>\n",
       "      <td>5</td>\n",
       "      <td>pushkin</td>\n",
       "      <td>2043.479838</td>\n",
       "      <td>118782.577181</td>\n",
       "    </tr>\n",
       "    <tr>\n",
       "      <td>4</td>\n",
       "      <td>pargolovo village</td>\n",
       "      <td>1788.479872</td>\n",
       "      <td>87868.667774</td>\n",
       "    </tr>\n",
       "    <tr>\n",
       "      <td>2</td>\n",
       "      <td>kudrovo village</td>\n",
       "      <td>1848.430500</td>\n",
       "      <td>84675.193878</td>\n",
       "    </tr>\n",
       "    <tr>\n",
       "      <td>7</td>\n",
       "      <td>shushary village</td>\n",
       "      <td>1555.960306</td>\n",
       "      <td>81092.694789</td>\n",
       "    </tr>\n",
       "    <tr>\n",
       "      <td>1</td>\n",
       "      <td>kolpino</td>\n",
       "      <td>1494.014869</td>\n",
       "      <td>75874.439344</td>\n",
       "    </tr>\n",
       "    <tr>\n",
       "      <td>8</td>\n",
       "      <td>vsevolozhsk</td>\n",
       "      <td>1372.462841</td>\n",
       "      <td>73822.235821</td>\n",
       "    </tr>\n",
       "    <tr>\n",
       "      <td>3</td>\n",
       "      <td>murino village</td>\n",
       "      <td>1715.500028</td>\n",
       "      <td>72948.448148</td>\n",
       "    </tr>\n",
       "    <tr>\n",
       "      <td>0</td>\n",
       "      <td>gatchina</td>\n",
       "      <td>1358.769593</td>\n",
       "      <td>67359.554307</td>\n",
       "    </tr>\n",
       "    <tr>\n",
       "      <td>9</td>\n",
       "      <td>vyborg</td>\n",
       "      <td>1141.118798</td>\n",
       "      <td>60861.159420</td>\n",
       "    </tr>\n",
       "  </tbody>\n",
       "</table>\n",
       "</div>"
      ],
      "text/plain": [
       "       locality_name  price_per_sm    total_price\n",
       "6   saint petersburg   2216.033742  140469.232964\n",
       "5            pushkin   2043.479838  118782.577181\n",
       "4  pargolovo village   1788.479872   87868.667774\n",
       "2    kudrovo village   1848.430500   84675.193878\n",
       "7   shushary village   1555.960306   81092.694789\n",
       "1            kolpino   1494.014869   75874.439344\n",
       "8        vsevolozhsk   1372.462841   73822.235821\n",
       "3     murino village   1715.500028   72948.448148\n",
       "0           gatchina   1358.769593   67359.554307\n",
       "9             vyborg   1141.118798   60861.159420"
      ]
     },
     "execution_count": 52,
     "metadata": {},
     "output_type": "execute_result"
    }
   ],
   "source": [
    "#calculate the average price per square meter in these localities\n",
    "price_persm = top.groupby('locality_name')[['price_per_sm','last_price']].agg('mean').reset_index()\n",
    "price_persm.columns = ['locality_name', 'price_per_sm', 'total_price']\n",
    "price_persm = price_persm.sort_values(by='total_price', ascending = False)\n",
    "price_persm                                  "
   ]
  },
  {
   "cell_type": "markdown",
   "metadata": {},
   "source": [
    "### Task 5 conclusions:\n",
    "- The top 10 localities that have the highest number of ads are: 'saint petersburg', 'pushkin', 'pargolovo village', 'kudrovo village', shushary village', 'kolpino', 'vsevolozhsk', 'murino village',  , gatchina', 'vyborg'.\n",
    "- Sain Petersburg has the highest while Vyborg village has the lowest housing price."
   ]
  },
  {
   "cell_type": "markdown",
   "metadata": {},
   "source": [
    "### Task 6: Pinpoint which area is considered to be in the city center"
   ]
  },
  {
   "cell_type": "markdown",
   "metadata": {},
   "source": [
    "Describe: \n",
    "- Thoroughly look at apartment offers: Each apartment has information about the distance to the city center. \n",
    "- Select apartments in Saint Petersburg (‘locality_name’). \n",
    "- Create a column with the distance to the city center in km and round to the nearest whole number.\n",
    "- Next, calculate the average price for each kilometer \n",
    "- Plot a graph to display how prices are affected by the distance to the city center. \n",
    "- Find a place on the graph where it shifts significantly. That's the city center border."
   ]
  },
  {
   "cell_type": "code",
   "execution_count": 53,
   "metadata": {},
   "outputs": [
    {
     "data": {
      "text/plain": [
       "array(['saint petersburg'], dtype=object)"
      ]
     },
     "execution_count": 53,
     "metadata": {},
     "output_type": "execute_result"
    }
   ],
   "source": [
    "#Select apartments in Saint Petersburg (‘locality_name’)\n",
    "sp = df.query('locality_name == \"saint petersburg\"')\n",
    "sp['locality_name'].unique() #checked!"
   ]
  },
  {
   "cell_type": "code",
   "execution_count": 54,
   "metadata": {},
   "outputs": [
    {
     "data": {
      "text/plain": [
       "array([14.,  7.,  8., 15., 11., 13., 10.,  2., 12.,  4., 16., 17.,  5.,\n",
       "        9.,  3.,  6., 21.,  1., 24., 26., 22., 18., 20., 23., 25., 27.,\n",
       "       28., 19.,  0., 29.])"
      ]
     },
     "execution_count": 54,
     "metadata": {},
     "output_type": "execute_result"
    }
   ],
   "source": [
    "#Create a column with the distance to the city center in km and round to the nearest whole number\n",
    "sp['center_dist_km'] = (sp['city_center_dist']/1000).round(decimals=0)\n",
    "sp.head(10)\n",
    "sp['center_dist_km'].unique()"
   ]
  },
  {
   "cell_type": "code",
   "execution_count": 55,
   "metadata": {},
   "outputs": [
    {
     "data": {
      "text/html": [
       "<div>\n",
       "<style scoped>\n",
       "    .dataframe tbody tr th:only-of-type {\n",
       "        vertical-align: middle;\n",
       "    }\n",
       "\n",
       "    .dataframe tbody tr th {\n",
       "        vertical-align: top;\n",
       "    }\n",
       "\n",
       "    .dataframe thead th {\n",
       "        text-align: right;\n",
       "    }\n",
       "</style>\n",
       "<table border=\"1\" class=\"dataframe\">\n",
       "  <thead>\n",
       "    <tr style=\"text-align: right;\">\n",
       "      <th></th>\n",
       "      <th>km</th>\n",
       "      <th>median_house_price</th>\n",
       "    </tr>\n",
       "  </thead>\n",
       "  <tbody>\n",
       "    <tr>\n",
       "      <td>0</td>\n",
       "      <td>0.0</td>\n",
       "      <td>219800.0</td>\n",
       "    </tr>\n",
       "    <tr>\n",
       "      <td>1</td>\n",
       "      <td>1.0</td>\n",
       "      <td>203000.0</td>\n",
       "    </tr>\n",
       "    <tr>\n",
       "      <td>2</td>\n",
       "      <td>2.0</td>\n",
       "      <td>188000.0</td>\n",
       "    </tr>\n",
       "    <tr>\n",
       "      <td>5</td>\n",
       "      <td>5.0</td>\n",
       "      <td>175400.0</td>\n",
       "    </tr>\n",
       "    <tr>\n",
       "      <td>4</td>\n",
       "      <td>4.0</td>\n",
       "      <td>172000.0</td>\n",
       "    </tr>\n",
       "    <tr>\n",
       "      <td>27</td>\n",
       "      <td>27.0</td>\n",
       "      <td>166000.0</td>\n",
       "    </tr>\n",
       "    <tr>\n",
       "      <td>6</td>\n",
       "      <td>6.0</td>\n",
       "      <td>164000.0</td>\n",
       "    </tr>\n",
       "    <tr>\n",
       "      <td>3</td>\n",
       "      <td>3.0</td>\n",
       "      <td>158000.0</td>\n",
       "    </tr>\n",
       "    <tr>\n",
       "      <td>7</td>\n",
       "      <td>7.0</td>\n",
       "      <td>144000.0</td>\n",
       "    </tr>\n",
       "    <tr>\n",
       "      <td>8</td>\n",
       "      <td>8.0</td>\n",
       "      <td>138438.0</td>\n",
       "    </tr>\n",
       "    <tr>\n",
       "      <td>9</td>\n",
       "      <td>9.0</td>\n",
       "      <td>104000.0</td>\n",
       "    </tr>\n",
       "    <tr>\n",
       "      <td>13</td>\n",
       "      <td>13.0</td>\n",
       "      <td>102000.0</td>\n",
       "    </tr>\n",
       "    <tr>\n",
       "      <td>28</td>\n",
       "      <td>28.0</td>\n",
       "      <td>99800.0</td>\n",
       "    </tr>\n",
       "    <tr>\n",
       "      <td>20</td>\n",
       "      <td>20.0</td>\n",
       "      <td>98000.0</td>\n",
       "    </tr>\n",
       "    <tr>\n",
       "      <td>10</td>\n",
       "      <td>10.0</td>\n",
       "      <td>97890.0</td>\n",
       "    </tr>\n",
       "    <tr>\n",
       "      <td>21</td>\n",
       "      <td>21.0</td>\n",
       "      <td>97800.0</td>\n",
       "    </tr>\n",
       "    <tr>\n",
       "      <td>11</td>\n",
       "      <td>11.0</td>\n",
       "      <td>97000.0</td>\n",
       "    </tr>\n",
       "    <tr>\n",
       "      <td>12</td>\n",
       "      <td>12.0</td>\n",
       "      <td>96450.0</td>\n",
       "    </tr>\n",
       "    <tr>\n",
       "      <td>14</td>\n",
       "      <td>14.0</td>\n",
       "      <td>94980.0</td>\n",
       "    </tr>\n",
       "    <tr>\n",
       "      <td>15</td>\n",
       "      <td>15.0</td>\n",
       "      <td>94000.0</td>\n",
       "    </tr>\n",
       "    <tr>\n",
       "      <td>22</td>\n",
       "      <td>22.0</td>\n",
       "      <td>93450.0</td>\n",
       "    </tr>\n",
       "    <tr>\n",
       "      <td>16</td>\n",
       "      <td>16.0</td>\n",
       "      <td>92000.0</td>\n",
       "    </tr>\n",
       "    <tr>\n",
       "      <td>17</td>\n",
       "      <td>17.0</td>\n",
       "      <td>90000.0</td>\n",
       "    </tr>\n",
       "    <tr>\n",
       "      <td>29</td>\n",
       "      <td>29.0</td>\n",
       "      <td>87400.0</td>\n",
       "    </tr>\n",
       "    <tr>\n",
       "      <td>19</td>\n",
       "      <td>19.0</td>\n",
       "      <td>86000.0</td>\n",
       "    </tr>\n",
       "    <tr>\n",
       "      <td>23</td>\n",
       "      <td>23.0</td>\n",
       "      <td>85400.0</td>\n",
       "    </tr>\n",
       "    <tr>\n",
       "      <td>18</td>\n",
       "      <td>18.0</td>\n",
       "      <td>84000.0</td>\n",
       "    </tr>\n",
       "    <tr>\n",
       "      <td>25</td>\n",
       "      <td>25.0</td>\n",
       "      <td>75897.5</td>\n",
       "    </tr>\n",
       "    <tr>\n",
       "      <td>24</td>\n",
       "      <td>24.0</td>\n",
       "      <td>69600.0</td>\n",
       "    </tr>\n",
       "    <tr>\n",
       "      <td>26</td>\n",
       "      <td>26.0</td>\n",
       "      <td>66950.0</td>\n",
       "    </tr>\n",
       "  </tbody>\n",
       "</table>\n",
       "</div>"
      ],
      "text/plain": [
       "      km  median_house_price\n",
       "0    0.0            219800.0\n",
       "1    1.0            203000.0\n",
       "2    2.0            188000.0\n",
       "5    5.0            175400.0\n",
       "4    4.0            172000.0\n",
       "27  27.0            166000.0\n",
       "6    6.0            164000.0\n",
       "3    3.0            158000.0\n",
       "7    7.0            144000.0\n",
       "8    8.0            138438.0\n",
       "9    9.0            104000.0\n",
       "13  13.0            102000.0\n",
       "28  28.0             99800.0\n",
       "20  20.0             98000.0\n",
       "10  10.0             97890.0\n",
       "21  21.0             97800.0\n",
       "11  11.0             97000.0\n",
       "12  12.0             96450.0\n",
       "14  14.0             94980.0\n",
       "15  15.0             94000.0\n",
       "22  22.0             93450.0\n",
       "16  16.0             92000.0\n",
       "17  17.0             90000.0\n",
       "29  29.0             87400.0\n",
       "19  19.0             86000.0\n",
       "23  23.0             85400.0\n",
       "18  18.0             84000.0\n",
       "25  25.0             75897.5\n",
       "24  24.0             69600.0\n",
       "26  26.0             66950.0"
      ]
     },
     "execution_count": 55,
     "metadata": {},
     "output_type": "execute_result"
    }
   ],
   "source": [
    "#Calculate the average price for each kilometer\n",
    "price_dist = sp.groupby('center_dist_km')['last_price'].agg('median').reset_index()\n",
    "price_dist.columns = ['km', 'median_house_price']\n",
    "price_dist = price_dist.sort_values(by='median_house_price', ascending = False)\n",
    "price_dist"
   ]
  },
  {
   "cell_type": "code",
   "execution_count": 56,
   "metadata": {},
   "outputs": [
    {
     "data": {
      "text/plain": [
       "(0, 500000)"
      ]
     },
     "execution_count": 56,
     "metadata": {},
     "output_type": "execute_result"
    },
    {
     "data": {
      "image/png": "[encoded data removed]",
      "text/plain": [
       "<Figure size 432x288 with 1 Axes>"
      ]
     },
     "metadata": {
      "needs_background": "light"
     },
     "output_type": "display_data"
    }
   ],
   "source": [
    "#Graph\n",
    "plt.scatter(price_dist['km'], price_dist['median_house_price'], label= 'Sale Price vs distance to city center', color= \"green\",  \n",
    "            marker= \"*\", s=100) \n",
    "plt.xlabel('Distance to city center') \n",
    "plt.ylabel('Sale price') \n",
    "plt.ylim(0,500000)"
   ]
  },
  {
   "cell_type": "markdown",
   "metadata": {},
   "source": [
    "### Task 6 conclusions:\n",
    "The city center area is the area that is ~8km from the center to each house."
   ]
  },
  {
   "cell_type": "markdown",
   "metadata": {},
   "source": [
    "### Task 7: Examine correlations among factors and between house price and other factors in the city center and compare with the whole country"
   ]
  },
  {
   "cell_type": "markdown",
   "metadata": {},
   "source": [
    "Describe: \n",
    "- Select all the apartments in the city center and examine correlations between the following parameters: \n",
    "   - total area\n",
    "   - price\n",
    "   - number of rooms\n",
    "   - ceiling height\n",
    "- Also identify the factors that affect an apartment’s price: \n",
    "   - number of rooms \n",
    "   - floor\n",
    "   - distance to the city center\n",
    "   - ad publication date. \n",
    "- Draw your conclusions. Are they different from the overall deductions about the entire city?"
   ]
  },
  {
   "cell_type": "code",
   "execution_count": 57,
   "metadata": {},
   "outputs": [
    {
     "data": {
      "text/plain": [
       "count    2994.000000\n",
       "mean     4777.576152\n",
       "std      1789.279426\n",
       "min       208.000000\n",
       "25%      3677.000000\n",
       "50%      4836.000000\n",
       "75%      6017.000000\n",
       "max      7998.000000\n",
       "Name: city_center_dist, dtype: float64"
      ]
     },
     "execution_count": 57,
     "metadata": {},
     "output_type": "execute_result"
    }
   ],
   "source": [
    "#Select all the apartments in the city center\n",
    "center = df.query('city_center_dist <= 8000')\n",
    "center['city_center_dist'].describe()"
   ]
  },
  {
   "cell_type": "code",
   "execution_count": 58,
   "metadata": {},
   "outputs": [
    {
     "name": "stdout",
     "output_type": "stream",
     "text": [
      "<class 'pandas.core.frame.DataFrame'>\n",
      "Int64Index: 2994 entries, 3 to 23691\n",
      "Data columns (total 4 columns):\n",
      "last_price        2994 non-null float64\n",
      "total_area        2994 non-null float64\n",
      "bedrooms          2994 non-null int64\n",
      "ceiling_height    2994 non-null float64\n",
      "dtypes: float64(3), int64(1)\n",
      "memory usage: 117.0 KB\n"
     ]
    },
    {
     "data": {
      "text/plain": [
       "array([[<matplotlib.axes._subplots.AxesSubplot object at 0x7efe5e510150>,\n",
       "        <matplotlib.axes._subplots.AxesSubplot object at 0x7efe5e604e10>,\n",
       "        <matplotlib.axes._subplots.AxesSubplot object at 0x7efe5e5f6510>,\n",
       "        <matplotlib.axes._subplots.AxesSubplot object at 0x7efe5bc7f750>],\n",
       "       [<matplotlib.axes._subplots.AxesSubplot object at 0x7efe5bd30a90>,\n",
       "        <matplotlib.axes._subplots.AxesSubplot object at 0x7efe5bd57f90>,\n",
       "        <matplotlib.axes._subplots.AxesSubplot object at 0x7efe5ba3d7d0>,\n",
       "        <matplotlib.axes._subplots.AxesSubplot object at 0x7efe5e512fd0>],\n",
       "       [<matplotlib.axes._subplots.AxesSubplot object at 0x7efe5e493b50>,\n",
       "        <matplotlib.axes._subplots.AxesSubplot object at 0x7efe5b679510>,\n",
       "        <matplotlib.axes._subplots.AxesSubplot object at 0x7efe5b49f850>,\n",
       "        <matplotlib.axes._subplots.AxesSubplot object at 0x7efe5b516bd0>],\n",
       "       [<matplotlib.axes._subplots.AxesSubplot object at 0x7efe5a83b890>,\n",
       "        <matplotlib.axes._subplots.AxesSubplot object at 0x7efe5e530c10>,\n",
       "        <matplotlib.axes._subplots.AxesSubplot object at 0x7efe5b3488d0>,\n",
       "        <matplotlib.axes._subplots.AxesSubplot object at 0x7efe5b535c50>]],\n",
       "      dtype=object)"
      ]
     },
     "execution_count": 58,
     "metadata": {},
     "output_type": "execute_result"
    },
    {
     "data": {
      "image/png": "[encoded data removed]",
      "text/plain": [
       "<Figure size 864x432 with 16 Axes>"
      ]
     },
     "metadata": {
      "needs_background": "light"
     },
     "output_type": "display_data"
    }
   ],
   "source": [
    "#examine correlations between the following parameters: total area, price, number of rooms, ceiling height\n",
    "#Select the above columns from the orginal df\n",
    "center1 = center[['last_price','total_area','bedrooms','ceiling_height']]\n",
    "center1.info() #2994 observations, 4 columns\n",
    "\n",
    "#Graph\n",
    "pd.plotting.scatter_matrix(center1, figsize=(12,6))"
   ]
  },
  {
   "cell_type": "code",
   "execution_count": 59,
   "metadata": {},
   "outputs": [
    {
     "data": {
      "text/html": [
       "<div>\n",
       "<style scoped>\n",
       "    .dataframe tbody tr th:only-of-type {\n",
       "        vertical-align: middle;\n",
       "    }\n",
       "\n",
       "    .dataframe tbody tr th {\n",
       "        vertical-align: top;\n",
       "    }\n",
       "\n",
       "    .dataframe thead th {\n",
       "        text-align: right;\n",
       "    }\n",
       "</style>\n",
       "<table border=\"1\" class=\"dataframe\">\n",
       "  <thead>\n",
       "    <tr style=\"text-align: right;\">\n",
       "      <th></th>\n",
       "      <th>last_price</th>\n",
       "      <th>total_area</th>\n",
       "      <th>bedrooms</th>\n",
       "      <th>ceiling_height</th>\n",
       "    </tr>\n",
       "  </thead>\n",
       "  <tbody>\n",
       "    <tr>\n",
       "      <td>last_price</td>\n",
       "      <td>1.000000</td>\n",
       "      <td>0.818114</td>\n",
       "      <td>0.565948</td>\n",
       "      <td>0.458395</td>\n",
       "    </tr>\n",
       "    <tr>\n",
       "      <td>total_area</td>\n",
       "      <td>0.818114</td>\n",
       "      <td>1.000000</td>\n",
       "      <td>0.824628</td>\n",
       "      <td>0.534468</td>\n",
       "    </tr>\n",
       "    <tr>\n",
       "      <td>bedrooms</td>\n",
       "      <td>0.565948</td>\n",
       "      <td>0.824628</td>\n",
       "      <td>1.000000</td>\n",
       "      <td>0.445563</td>\n",
       "    </tr>\n",
       "    <tr>\n",
       "      <td>ceiling_height</td>\n",
       "      <td>0.458395</td>\n",
       "      <td>0.534468</td>\n",
       "      <td>0.445563</td>\n",
       "      <td>1.000000</td>\n",
       "    </tr>\n",
       "  </tbody>\n",
       "</table>\n",
       "</div>"
      ],
      "text/plain": [
       "                last_price  total_area  bedrooms  ceiling_height\n",
       "last_price        1.000000    0.818114  0.565948        0.458395\n",
       "total_area        0.818114    1.000000  0.824628        0.534468\n",
       "bedrooms          0.565948    0.824628  1.000000        0.445563\n",
       "ceiling_height    0.458395    0.534468  0.445563        1.000000"
      ]
     },
     "execution_count": 59,
     "metadata": {},
     "output_type": "execute_result"
    }
   ],
   "source": [
    "#Using corr test\n",
    "center1.corr(method='spearman') #because there are non-normal distribution, use spearman method instead of pearson"
   ]
  },
  {
   "cell_type": "markdown",
   "metadata": {},
   "source": [
    "#### Comments about the correlation matrix graph:\n",
    "- The strong correlations exist between these pairs:\n",
    "    - total_area and bedrooms\n",
    "    - total_area and last_price\n",
    "- The moderate correlations exist between these pairs:\n",
    "    - bedrooms and last_price\n",
    "    - total_area and ceiling_height\n",
    "- The relatively weak correlations exist between these pairs:\n",
    "    - ceiling_height and last_price \n",
    "    - ceiling_height and bedrooms"
   ]
  },
  {
   "cell_type": "markdown",
   "metadata": {},
   "source": [
    "#### Identify the factors that affect an apartment’s price:\n",
    "- number of rooms\n",
    "- floor\n",
    "- distance to the city center\n",
    "- ad publication date"
   ]
  },
  {
   "cell_type": "code",
   "execution_count": 60,
   "metadata": {},
   "outputs": [
    {
     "name": "stdout",
     "output_type": "stream",
     "text": [
      "<class 'pandas.core.frame.DataFrame'>\n",
      "Int64Index: 2994 entries, 3 to 23691\n",
      "Data columns (total 10 columns):\n",
      "last_price          2994 non-null float64\n",
      "total_area          2994 non-null float64\n",
      "bedrooms            2994 non-null int64\n",
      "ceiling_height      2994 non-null float64\n",
      "floor               2994 non-null int64\n",
      "floor_topbot        2994 non-null object\n",
      "city_center_dist    2994 non-null float64\n",
      "ad_weekday          2994 non-null int64\n",
      "ad_month            2994 non-null int64\n",
      "ad_year             2994 non-null int64\n",
      "dtypes: float64(4), int64(5), object(1)\n",
      "memory usage: 257.3+ KB\n"
     ]
    },
    {
     "data": {
      "text/html": [
       "<div>\n",
       "<style scoped>\n",
       "    .dataframe tbody tr th:only-of-type {\n",
       "        vertical-align: middle;\n",
       "    }\n",
       "\n",
       "    .dataframe tbody tr th {\n",
       "        vertical-align: top;\n",
       "    }\n",
       "\n",
       "    .dataframe thead th {\n",
       "        text-align: right;\n",
       "    }\n",
       "</style>\n",
       "<table border=\"1\" class=\"dataframe\">\n",
       "  <thead>\n",
       "    <tr style=\"text-align: right;\">\n",
       "      <th></th>\n",
       "      <th>last_price</th>\n",
       "      <th>total_area</th>\n",
       "      <th>bedrooms</th>\n",
       "      <th>ceiling_height</th>\n",
       "      <th>floor</th>\n",
       "      <th>city_center_dist</th>\n",
       "      <th>ad_weekday</th>\n",
       "      <th>ad_month</th>\n",
       "      <th>ad_year</th>\n",
       "    </tr>\n",
       "  </thead>\n",
       "  <tbody>\n",
       "    <tr>\n",
       "      <td>last_price</td>\n",
       "      <td>1.000000</td>\n",
       "      <td>0.818114</td>\n",
       "      <td>0.565948</td>\n",
       "      <td>0.458395</td>\n",
       "      <td>0.175735</td>\n",
       "      <td>-0.113229</td>\n",
       "      <td>0.005883</td>\n",
       "      <td>-0.027972</td>\n",
       "      <td>-0.065370</td>\n",
       "    </tr>\n",
       "    <tr>\n",
       "      <td>total_area</td>\n",
       "      <td>0.818114</td>\n",
       "      <td>1.000000</td>\n",
       "      <td>0.824628</td>\n",
       "      <td>0.534468</td>\n",
       "      <td>0.063100</td>\n",
       "      <td>-0.161517</td>\n",
       "      <td>-0.006764</td>\n",
       "      <td>-0.013246</td>\n",
       "      <td>-0.116829</td>\n",
       "    </tr>\n",
       "    <tr>\n",
       "      <td>bedrooms</td>\n",
       "      <td>0.565948</td>\n",
       "      <td>0.824628</td>\n",
       "      <td>1.000000</td>\n",
       "      <td>0.445563</td>\n",
       "      <td>-0.039370</td>\n",
       "      <td>-0.187794</td>\n",
       "      <td>-0.015372</td>\n",
       "      <td>-0.007817</td>\n",
       "      <td>-0.085784</td>\n",
       "    </tr>\n",
       "    <tr>\n",
       "      <td>ceiling_height</td>\n",
       "      <td>0.458395</td>\n",
       "      <td>0.534468</td>\n",
       "      <td>0.445563</td>\n",
       "      <td>1.000000</td>\n",
       "      <td>-0.111988</td>\n",
       "      <td>-0.283607</td>\n",
       "      <td>-0.028349</td>\n",
       "      <td>-0.022204</td>\n",
       "      <td>-0.056053</td>\n",
       "    </tr>\n",
       "    <tr>\n",
       "      <td>floor</td>\n",
       "      <td>0.175735</td>\n",
       "      <td>0.063100</td>\n",
       "      <td>-0.039370</td>\n",
       "      <td>-0.111988</td>\n",
       "      <td>1.000000</td>\n",
       "      <td>0.247322</td>\n",
       "      <td>0.045683</td>\n",
       "      <td>0.018139</td>\n",
       "      <td>-0.015533</td>\n",
       "    </tr>\n",
       "    <tr>\n",
       "      <td>city_center_dist</td>\n",
       "      <td>-0.113229</td>\n",
       "      <td>-0.161517</td>\n",
       "      <td>-0.187794</td>\n",
       "      <td>-0.283607</td>\n",
       "      <td>0.247322</td>\n",
       "      <td>1.000000</td>\n",
       "      <td>0.025117</td>\n",
       "      <td>-0.005294</td>\n",
       "      <td>0.028268</td>\n",
       "    </tr>\n",
       "    <tr>\n",
       "      <td>ad_weekday</td>\n",
       "      <td>0.005883</td>\n",
       "      <td>-0.006764</td>\n",
       "      <td>-0.015372</td>\n",
       "      <td>-0.028349</td>\n",
       "      <td>0.045683</td>\n",
       "      <td>0.025117</td>\n",
       "      <td>1.000000</td>\n",
       "      <td>0.025920</td>\n",
       "      <td>0.006849</td>\n",
       "    </tr>\n",
       "    <tr>\n",
       "      <td>ad_month</td>\n",
       "      <td>-0.027972</td>\n",
       "      <td>-0.013246</td>\n",
       "      <td>-0.007817</td>\n",
       "      <td>-0.022204</td>\n",
       "      <td>0.018139</td>\n",
       "      <td>-0.005294</td>\n",
       "      <td>0.025920</td>\n",
       "      <td>1.000000</td>\n",
       "      <td>-0.162923</td>\n",
       "    </tr>\n",
       "    <tr>\n",
       "      <td>ad_year</td>\n",
       "      <td>-0.065370</td>\n",
       "      <td>-0.116829</td>\n",
       "      <td>-0.085784</td>\n",
       "      <td>-0.056053</td>\n",
       "      <td>-0.015533</td>\n",
       "      <td>0.028268</td>\n",
       "      <td>0.006849</td>\n",
       "      <td>-0.162923</td>\n",
       "      <td>1.000000</td>\n",
       "    </tr>\n",
       "  </tbody>\n",
       "</table>\n",
       "</div>"
      ],
      "text/plain": [
       "                  last_price  total_area  bedrooms  ceiling_height     floor  \\\n",
       "last_price          1.000000    0.818114  0.565948        0.458395  0.175735   \n",
       "total_area          0.818114    1.000000  0.824628        0.534468  0.063100   \n",
       "bedrooms            0.565948    0.824628  1.000000        0.445563 -0.039370   \n",
       "ceiling_height      0.458395    0.534468  0.445563        1.000000 -0.111988   \n",
       "floor               0.175735    0.063100 -0.039370       -0.111988  1.000000   \n",
       "city_center_dist   -0.113229   -0.161517 -0.187794       -0.283607  0.247322   \n",
       "ad_weekday          0.005883   -0.006764 -0.015372       -0.028349  0.045683   \n",
       "ad_month           -0.027972   -0.013246 -0.007817       -0.022204  0.018139   \n",
       "ad_year            -0.065370   -0.116829 -0.085784       -0.056053 -0.015533   \n",
       "\n",
       "                  city_center_dist  ad_weekday  ad_month   ad_year  \n",
       "last_price               -0.113229    0.005883 -0.027972 -0.065370  \n",
       "total_area               -0.161517   -0.006764 -0.013246 -0.116829  \n",
       "bedrooms                 -0.187794   -0.015372 -0.007817 -0.085784  \n",
       "ceiling_height           -0.283607   -0.028349 -0.022204 -0.056053  \n",
       "floor                     0.247322    0.045683  0.018139 -0.015533  \n",
       "city_center_dist          1.000000    0.025117 -0.005294  0.028268  \n",
       "ad_weekday                0.025117    1.000000  0.025920  0.006849  \n",
       "ad_month                 -0.005294    0.025920  1.000000 -0.162923  \n",
       "ad_year                   0.028268    0.006849 -0.162923  1.000000  "
      ]
     },
     "execution_count": 60,
     "metadata": {},
     "output_type": "execute_result"
    }
   ],
   "source": [
    "#examine correlations between the following parameters: total area, price, number of rooms, ceiling height\n",
    "#Select the above columns from the orginal df\n",
    "center2 = center[['last_price','total_area','bedrooms','ceiling_height','floor', 'floor_topbot','city_center_dist','ad_weekday', 'ad_month','ad_year']]\n",
    "center2.info() #2994 observations, 9 columns\n",
    "\n",
    "#Graph\n",
    "center2.corr(method='spearman') #because there are non-normal distribution, use spearman method instead of pearson"
   ]
  },
  {
   "cell_type": "markdown",
   "metadata": {},
   "source": [
    "Comments from the matrix of correlation coefficient for those continuous variables:\n",
    "- Strong correlations with housing price:\n",
    "    - total area\n",
    "- Moderate correlations with housing price:\n",
    "    - bedrooms\n",
    "    - ceiling_height"
   ]
  },
  {
   "cell_type": "code",
   "execution_count": 61,
   "metadata": {},
   "outputs": [
    {
     "data": {
      "text/plain": [
       "(0, 1000000)"
      ]
     },
     "execution_count": 61,
     "metadata": {},
     "output_type": "execute_result"
    },
    {
     "data": {
      "image/png": "[encoded data removed]",
      "text/plain": [
       "<Figure size 432x288 with 1 Axes>"
      ]
     },
     "metadata": {
      "needs_background": "light"
     },
     "output_type": "display_data"
    }
   ],
   "source": [
    "#Investigate correlation between housing price and discrete and categorical variables\n",
    "#bedrooms\n",
    "sns.boxplot(x=\"bedrooms\", y=\"last_price\", data=center2)\n",
    "plt.ylim(0, 1000000)"
   ]
  },
  {
   "cell_type": "markdown",
   "metadata": {},
   "source": [
    "#### Comments about the graph: similar to the whole country\n",
    "- Houses with 0-3 bedrooms have a narrow avarage price range, from 60k - 120k\n",
    "- Houses with more than 3 bedrooms have wider price range\n",
    "- The number of bedrooms follows a moderately positive correlation with the median price"
   ]
  },
  {
   "cell_type": "code",
   "execution_count": 62,
   "metadata": {},
   "outputs": [
    {
     "data": {
      "text/plain": [
       "(0, 400000)"
      ]
     },
     "execution_count": 62,
     "metadata": {},
     "output_type": "execute_result"
    },
    {
     "data": {
      "image/png": "[encoded data removed]",
      "text/plain": [
       "<Figure size 432x288 with 1 Axes>"
      ]
     },
     "metadata": {
      "needs_background": "light"
     },
     "output_type": "display_data"
    }
   ],
   "source": [
    "#Investigate correlation between housing price and discrete and categorical variables\n",
    "#bedrooms\n",
    "center2.head()\n",
    "sns.boxplot(x=\"floor_topbot\", y=\"last_price\", data=center2)\n",
    "plt.ylim(0, 400000)"
   ]
  },
  {
   "cell_type": "markdown",
   "metadata": {},
   "source": [
    "The relationship between apartment price and the floor that the apartment is on (first or top) is clearer than the whole city where the median price of the houses on the top floor is relatively higher than that of the houses at the first floor."
   ]
  },
  {
   "cell_type": "code",
   "execution_count": 63,
   "metadata": {},
   "outputs": [
    {
     "data": {
      "image/png": "[encoded data removed]",
      "text/plain": [
       "<Figure size 432x288 with 1 Axes>"
      ]
     },
     "metadata": {
      "needs_background": "light"
     },
     "output_type": "display_data"
    }
   ],
   "source": [
    "#Create graph to examine the pattern between ad day of the week and housing price\n",
    "center2.groupby('ad_weekday')['last_price'].mean().plot(style=\"o-\")\n",
    "plt.show()"
   ]
  },
  {
   "cell_type": "markdown",
   "metadata": {},
   "source": [
    "#### Comments about the graph: different from the whole country\n",
    "- The price goes down significantly from Monday to Tuesday (the lowest price)\n",
    "- The price goes up until Saturday (the highest price)\n",
    "- Then it goes down from Saturday to Sunday"
   ]
  },
  {
   "cell_type": "code",
   "execution_count": 64,
   "metadata": {},
   "outputs": [
    {
     "data": {
      "image/png": "[encoded data removed]",
      "text/plain": [
       "<Figure size 432x288 with 1 Axes>"
      ]
     },
     "metadata": {
      "needs_background": "light"
     },
     "output_type": "display_data"
    }
   ],
   "source": [
    "#Create graph to examine the pattern between ad month and housing price\n",
    "center2.groupby('ad_month')['last_price'].mean().plot(style=\"o-\")\n",
    "plt.show()"
   ]
  },
  {
   "cell_type": "markdown",
   "metadata": {},
   "source": [
    "#### Comments about the graph: different from the whole country\n",
    "- The mean housing price is highest in February\n",
    "- The mean housing price is lowest in April\n",
    "- There is not a linear relationship between month of the ad and housing price, instead the lines form a zig zag shape: the price goes up in one month, then the next month it drops (except from February to April)"
   ]
  },
  {
   "cell_type": "code",
   "execution_count": 65,
   "metadata": {},
   "outputs": [
    {
     "data": {
      "image/png": "[encoded data removed]",
      "text/plain": [
       "<Figure size 432x288 with 1 Axes>"
      ]
     },
     "metadata": {
      "needs_background": "light"
     },
     "output_type": "display_data"
    }
   ],
   "source": [
    "#Create graph to examine the pattern between ad month and housing price\n",
    "center2.groupby('ad_year')['last_price'].mean().plot(style=\"o-\")\n",
    "plt.show()"
   ]
  },
  {
   "cell_type": "markdown",
   "metadata": {},
   "source": [
    "#### Comments about the graph: similar to the whole country\n",
    "- The house price in the year 2014 has the highest median \n",
    "- From 2014 to 2015, the price dropped dramatically\n",
    "- From 2015 to 2018, the price went down year by year with a slower rate\n",
    "- 2019: the price went up a little bit"
   ]
  },
  {
   "cell_type": "markdown",
   "metadata": {},
   "source": [
    "### Task 7 conclusions:\n",
    "There are both similarities and differences in the correlation between housing price and certain factors between the whole country and the city center\n",
    "\n",
    "#### Similarities:\n",
    "- The factor that have the biggest influence on the apartment price is: total area\n",
    "- Number of bedrooms also shows moderately positive correlation with housing price\n",
    "- The time that an ad was published (day of the week, month, year) affects the house price but not in a linear relationship\n",
    "- The same correlation between year and housing price\n",
    "\n",
    "#### Differences:\n",
    "- The correlation between distance to city centers and housing price became weaker in the city center (because the distance does not varied much in the city center compared to the whole country).\n",
    "- The relationship between apartment price and the floor that the apartment is on (first or top) is stronger than the whole city where the median price of the houses on the top floor is relatively higher than that of the houses at the first floor.\n",
    "- Differences in day of the week and month in terms of the highest price and lowest price."
   ]
  },
  {
   "cell_type": "markdown",
   "metadata": {},
   "source": [
    "### Step 5. Overall conclusion"
   ]
  },
  {
   "cell_type": "markdown",
   "metadata": {},
   "source": [
    "This project explores the housing price in Russia and its influencing factors. Total area of the house is the strongest factor that affects the housing price. Other factors include number of bedrooms, distance to the city center and the time that an ad was published (day of the week, month, year).\n",
    "\n",
    "Houses in the city center share some influencing factors with the whole countries but they also have their unique characteristics and nature of relationship between housing price and the influencing factors. "
   ]
  },
  {
   "cell_type": "markdown",
   "metadata": {},
   "source": []
  },
  {
   "cell_type": "markdown",
   "metadata": {},
   "source": []
  },
  {
   "cell_type": "markdown",
   "metadata": {},
   "source": [
    "### Project completion checklist\n",
    "\n",
    "Mark the completed tasks with 'x'. Then press Shift+Enter."
   ]
  },
  {
   "cell_type": "markdown",
   "metadata": {},
   "source": [
    "- [x]  file opened\n",
    "- [x]  files explored (first rows printed, info() method)\n",
    "- [x]  missing values determined\n",
    "- [x]  missing values filled in\n",
    "- [x]  clarification of the discovered missing values provided\n",
    "- [x]  data types converted\n",
    "- [x]  explanation of which columns had the data types changed and why\n",
    "- [x]  calculated and added to the table: the price per square meter\n",
    "- [x]  calculated and added to the table: the day of the week, month, and year that the ad was published\n",
    "- [x]  calculated and added to the table: which floor the apartment is on (first, last, or other)\n",
    "- [x]  calculated and added to the table: the ratio between the living space and the total area, as well as between the kitchen space and the total area\n",
    "- [x]  the following parameters investigated: square area, price, number of rooms, and ceiling height\n",
    "- [x]  histograms for each parameter created\n",
    "- [x]  task completed: \"Examine the time it's taken to sell the apartment and create a histogram. Calculate the mean and median and explain the average time it usually takes to complete a sale. When can a sale be considered extra quick or taken an extra slow?\"\n",
    "- [x]  task completed: \"Remove rare and outlying values and describe the specific details you've discovered.\"\n",
    "- [x]  task completed: \"Which factors have had the biggest influence on an apartment’s value? Examine whether the value depends on price per meter, number of rooms, floor (top or bottom), or the proximity to the downtown area. Also study the correlation to the ad posting date: day of the week, month, and year. \"Select the 10 places with the largest number of ads and then calculate the average price per square meter in these localities. Select the locations with the highest and lowest housing prices. You can find this data by name in the ’*locality_name’* column. \"\n",
    "- [x]  task completed: \"Thoroughly look at apartment offers: each apartment has information about the distance to the downtown area. Select apartments in Saint Petersburg (*‘locality_name’*). Your task is to pinpoint which area is considered to be downtown. Create a column with the distance to the downtown area in km and round to the nearest whole number. Next, calculate the average price for each kilometer. Build a graph to display how prices are affected by the distance to the downtown area. Define the turning point where the graph significantly changes. This will indicate downtown. \"\n",
    "- [x]  task completed: \"Select a segment of apartments in the downtown. Analyze this area and examine the following parameters: square area, price, number of rooms, ceiling height. Also identify the factors that affect an apartment’s price (number of rooms, floor, distance to the downtown area, and ad publication date). Draw your conclusions. Are they different from the overall conclusions about the entire city?\"\n",
    "- [x]  each stage has a conclusion\n",
    "- [x]  overall conclusion drawn"
   ]
  }
 ],
 "metadata": {
  "kernelspec": {
   "display_name": "Python 3",
   "language": "python",
   "name": "python3"
  },
  "language_info": {
   "codemirror_mode": {
    "name": "ipython",
    "version": 3
   },
   "file_extension": ".py",
   "mimetype": "text/x-python",
   "name": "python",
   "nbconvert_exporter": "python",
   "pygments_lexer": "ipython3",
   "version": "3.7.4"
  }
 },
 "nbformat": 4,
 "nbformat_minor": 2
}
